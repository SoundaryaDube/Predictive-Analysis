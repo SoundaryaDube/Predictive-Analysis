{
  "cells": [
    {
      "cell_type": "markdown",
      "metadata": {
        "id": "view-in-github",
        "colab_type": "text"
      },
      "source": [
        "<a href=\"https://colab.research.google.com/github/SoundaryaDube/Predictive-Analysis/blob/main/HealthHack_Diabetic_Retinopathy.ipynb\" target=\"_parent\"><img src=\"https://colab.research.google.com/assets/colab-badge.svg\" alt=\"Open In Colab\"/></a>"
      ]
    },
    {
      "cell_type": "code",
      "execution_count": null,
      "metadata": {
        "colab": {
          "base_uri": "https://localhost:8080/"
        },
        "id": "UmF4IVxVC83v",
        "outputId": "86ccad59-47ee-4bdd-91ed-7c804727ba6b"
      },
      "outputs": [
        {
          "name": "stdout",
          "output_type": "stream",
          "text": [
            "Mounted at /content/drive\n"
          ]
        }
      ],
      "source": [
        "from google.colab import drive\n",
        "drive.mount('/content/drive')"
      ]
    },
    {
      "cell_type": "code",
      "execution_count": null,
      "metadata": {
        "id": "6pWc_4nKDQHQ"
      },
      "outputs": [],
      "source": [
        "import pandas as pd\n",
        "import zipfile\n",
        "import tensorflow as tf\n",
        "from tensorflow.keras.preprocessing.image import ImageDataGenerator\n",
        "from tensorflow.keras.applications import EfficientNetB0\n",
        "from tensorflow.keras.models import Sequential\n",
        "from tensorflow.keras.layers import Dense, Flatten\n",
        "from tensorflow.keras.optimizers import Adam\n",
        "from tensorflow.keras.layers import Input\n",
        "import os"
      ]
    },
    {
      "cell_type": "code",
      "execution_count": null,
      "metadata": {
        "colab": {
          "base_uri": "https://localhost:8080/"
        },
        "id": "Lzkvw62gDQDr",
        "outputId": "ecab4185-cf3e-4864-ca92-9392c47914b0"
      },
      "outputs": [
        {
          "output_type": "stream",
          "name": "stdout",
          "text": [
            "Files inside ZIP: ['B. Disease Grading/', 'B. Disease Grading/1. Original Images/', 'B. Disease Grading/1. Original Images/a. Training Set/', 'B. Disease Grading/1. Original Images/a. Training Set/IDRiD_001.jpg', 'B. Disease Grading/1. Original Images/a. Training Set/IDRiD_002.jpg', 'B. Disease Grading/1. Original Images/a. Training Set/IDRiD_003.jpg', 'B. Disease Grading/1. Original Images/a. Training Set/IDRiD_004.jpg', 'B. Disease Grading/1. Original Images/a. Training Set/IDRiD_005.jpg', 'B. Disease Grading/1. Original Images/a. Training Set/IDRiD_006.jpg', 'B. Disease Grading/1. Original Images/a. Training Set/IDRiD_007.jpg', 'B. Disease Grading/1. Original Images/a. Training Set/IDRiD_008.jpg', 'B. Disease Grading/1. Original Images/a. Training Set/IDRiD_009.jpg', 'B. Disease Grading/1. Original Images/a. Training Set/IDRiD_010.jpg', 'B. Disease Grading/1. Original Images/a. Training Set/IDRiD_011.jpg', 'B. Disease Grading/1. Original Images/a. Training Set/IDRiD_012.jpg', 'B. Disease Grading/1. Original Images/a. Training Set/IDRiD_013.jpg', 'B. Disease Grading/1. Original Images/a. Training Set/IDRiD_014.jpg', 'B. Disease Grading/1. Original Images/a. Training Set/IDRiD_015.jpg', 'B. Disease Grading/1. Original Images/a. Training Set/IDRiD_016.jpg', 'B. Disease Grading/1. Original Images/a. Training Set/IDRiD_017.jpg', 'B. Disease Grading/1. Original Images/a. Training Set/IDRiD_018.jpg', 'B. Disease Grading/1. Original Images/a. Training Set/IDRiD_019.jpg', 'B. Disease Grading/1. Original Images/a. Training Set/IDRiD_020.jpg', 'B. Disease Grading/1. Original Images/a. Training Set/IDRiD_021.jpg', 'B. Disease Grading/1. Original Images/a. Training Set/IDRiD_022.jpg', 'B. Disease Grading/1. Original Images/a. Training Set/IDRiD_023.jpg', 'B. Disease Grading/1. Original Images/a. Training Set/IDRiD_024.jpg', 'B. Disease Grading/1. Original Images/a. Training Set/IDRiD_025.jpg', 'B. Disease Grading/1. Original Images/a. Training Set/IDRiD_026.jpg', 'B. Disease Grading/1. Original Images/a. Training Set/IDRiD_027.jpg', 'B. Disease Grading/1. Original Images/a. Training Set/IDRiD_028.jpg', 'B. Disease Grading/1. Original Images/a. Training Set/IDRiD_029.jpg', 'B. Disease Grading/1. Original Images/a. Training Set/IDRiD_030.jpg', 'B. Disease Grading/1. Original Images/a. Training Set/IDRiD_031.jpg', 'B. Disease Grading/1. Original Images/a. Training Set/IDRiD_032.jpg', 'B. Disease Grading/1. Original Images/a. Training Set/IDRiD_033.jpg', 'B. Disease Grading/1. Original Images/a. Training Set/IDRiD_034.jpg', 'B. Disease Grading/1. Original Images/a. Training Set/IDRiD_035.jpg', 'B. Disease Grading/1. Original Images/a. Training Set/IDRiD_036.jpg', 'B. Disease Grading/1. Original Images/a. Training Set/IDRiD_037.jpg', 'B. Disease Grading/1. Original Images/a. Training Set/IDRiD_038.jpg', 'B. Disease Grading/1. Original Images/a. Training Set/IDRiD_039.jpg', 'B. Disease Grading/1. Original Images/a. Training Set/IDRiD_040.jpg', 'B. Disease Grading/1. Original Images/a. Training Set/IDRiD_041.jpg', 'B. Disease Grading/1. Original Images/a. Training Set/IDRiD_042.jpg', 'B. Disease Grading/1. Original Images/a. Training Set/IDRiD_043.jpg', 'B. Disease Grading/1. Original Images/a. Training Set/IDRiD_044.jpg', 'B. Disease Grading/1. Original Images/a. Training Set/IDRiD_045.jpg', 'B. Disease Grading/1. Original Images/a. Training Set/IDRiD_046.jpg', 'B. Disease Grading/1. Original Images/a. Training Set/IDRiD_047.jpg', 'B. Disease Grading/1. Original Images/a. Training Set/IDRiD_048.jpg', 'B. Disease Grading/1. Original Images/a. Training Set/IDRiD_049.jpg', 'B. Disease Grading/1. Original Images/a. Training Set/IDRiD_050.jpg', 'B. Disease Grading/1. Original Images/a. Training Set/IDRiD_051.jpg', 'B. Disease Grading/1. Original Images/a. Training Set/IDRiD_052.jpg', 'B. Disease Grading/1. Original Images/a. Training Set/IDRiD_053.jpg', 'B. Disease Grading/1. Original Images/a. Training Set/IDRiD_054.jpg', 'B. Disease Grading/1. Original Images/a. Training Set/IDRiD_055.jpg', 'B. Disease Grading/1. Original Images/a. Training Set/IDRiD_056.jpg', 'B. Disease Grading/1. Original Images/a. Training Set/IDRiD_057.jpg', 'B. Disease Grading/1. Original Images/a. Training Set/IDRiD_058.jpg', 'B. Disease Grading/1. Original Images/a. Training Set/IDRiD_059.jpg', 'B. Disease Grading/1. Original Images/a. Training Set/IDRiD_060.jpg', 'B. Disease Grading/1. Original Images/a. Training Set/IDRiD_061.jpg', 'B. Disease Grading/1. Original Images/a. Training Set/IDRiD_062.jpg', 'B. Disease Grading/1. Original Images/a. Training Set/IDRiD_063.jpg', 'B. Disease Grading/1. Original Images/a. Training Set/IDRiD_064.jpg', 'B. Disease Grading/1. Original Images/a. Training Set/IDRiD_065.jpg', 'B. Disease Grading/1. Original Images/a. Training Set/IDRiD_066.jpg', 'B. Disease Grading/1. Original Images/a. Training Set/IDRiD_067.jpg', 'B. Disease Grading/1. Original Images/a. Training Set/IDRiD_068.jpg', 'B. Disease Grading/1. Original Images/a. Training Set/IDRiD_069.jpg', 'B. Disease Grading/1. Original Images/a. Training Set/IDRiD_070.jpg', 'B. Disease Grading/1. Original Images/a. Training Set/IDRiD_071.jpg', 'B. Disease Grading/1. Original Images/a. Training Set/IDRiD_072.jpg', 'B. Disease Grading/1. Original Images/a. Training Set/IDRiD_073.jpg', 'B. Disease Grading/1. Original Images/a. Training Set/IDRiD_074.jpg', 'B. Disease Grading/1. Original Images/a. Training Set/IDRiD_075.jpg', 'B. Disease Grading/1. Original Images/a. Training Set/IDRiD_076.jpg', 'B. Disease Grading/1. Original Images/a. Training Set/IDRiD_077.jpg', 'B. Disease Grading/1. Original Images/a. Training Set/IDRiD_078.jpg', 'B. Disease Grading/1. Original Images/a. Training Set/IDRiD_079.jpg', 'B. Disease Grading/1. Original Images/a. Training Set/IDRiD_080.jpg', 'B. Disease Grading/1. Original Images/a. Training Set/IDRiD_081.jpg', 'B. Disease Grading/1. Original Images/a. Training Set/IDRiD_082.jpg', 'B. Disease Grading/1. Original Images/a. Training Set/IDRiD_083.jpg', 'B. Disease Grading/1. Original Images/a. Training Set/IDRiD_084.jpg', 'B. Disease Grading/1. Original Images/a. Training Set/IDRiD_085.jpg', 'B. Disease Grading/1. Original Images/a. Training Set/IDRiD_086.jpg', 'B. Disease Grading/1. Original Images/a. Training Set/IDRiD_087.jpg', 'B. Disease Grading/1. Original Images/a. Training Set/IDRiD_088.jpg', 'B. Disease Grading/1. Original Images/a. Training Set/IDRiD_089.jpg', 'B. Disease Grading/1. Original Images/a. Training Set/IDRiD_090.jpg', 'B. Disease Grading/1. Original Images/a. Training Set/IDRiD_091.jpg', 'B. Disease Grading/1. Original Images/a. Training Set/IDRiD_092.jpg', 'B. Disease Grading/1. Original Images/a. Training Set/IDRiD_093.jpg', 'B. Disease Grading/1. Original Images/a. Training Set/IDRiD_094.jpg', 'B. Disease Grading/1. Original Images/a. Training Set/IDRiD_095.jpg', 'B. Disease Grading/1. Original Images/a. Training Set/IDRiD_096.jpg', 'B. Disease Grading/1. Original Images/a. Training Set/IDRiD_097.jpg', 'B. Disease Grading/1. Original Images/a. Training Set/IDRiD_098.jpg', 'B. Disease Grading/1. Original Images/a. Training Set/IDRiD_099.jpg', 'B. Disease Grading/1. Original Images/a. Training Set/IDRiD_100.jpg', 'B. Disease Grading/1. Original Images/a. Training Set/IDRiD_101.jpg', 'B. Disease Grading/1. Original Images/a. Training Set/IDRiD_102.jpg', 'B. Disease Grading/1. Original Images/a. Training Set/IDRiD_103.jpg', 'B. Disease Grading/1. Original Images/a. Training Set/IDRiD_104.jpg', 'B. Disease Grading/1. Original Images/a. Training Set/IDRiD_105.jpg', 'B. Disease Grading/1. Original Images/a. Training Set/IDRiD_106.jpg', 'B. Disease Grading/1. Original Images/a. Training Set/IDRiD_107.jpg', 'B. Disease Grading/1. Original Images/a. Training Set/IDRiD_108.jpg', 'B. Disease Grading/1. Original Images/a. Training Set/IDRiD_109.jpg', 'B. Disease Grading/1. Original Images/a. Training Set/IDRiD_110.jpg', 'B. Disease Grading/1. Original Images/a. Training Set/IDRiD_111.jpg', 'B. Disease Grading/1. Original Images/a. Training Set/IDRiD_112.jpg', 'B. Disease Grading/1. Original Images/a. Training Set/IDRiD_113.jpg', 'B. Disease Grading/1. Original Images/a. Training Set/IDRiD_114.jpg', 'B. Disease Grading/1. Original Images/a. Training Set/IDRiD_115.jpg', 'B. Disease Grading/1. Original Images/a. Training Set/IDRiD_116.jpg', 'B. Disease Grading/1. Original Images/a. Training Set/IDRiD_117.jpg', 'B. Disease Grading/1. Original Images/a. Training Set/IDRiD_118.jpg', 'B. Disease Grading/1. Original Images/a. Training Set/IDRiD_119.jpg', 'B. Disease Grading/1. Original Images/a. Training Set/IDRiD_120.jpg', 'B. Disease Grading/1. Original Images/a. Training Set/IDRiD_121.jpg', 'B. Disease Grading/1. Original Images/a. Training Set/IDRiD_122.jpg', 'B. Disease Grading/1. Original Images/a. Training Set/IDRiD_123.jpg', 'B. Disease Grading/1. Original Images/a. Training Set/IDRiD_124.jpg', 'B. Disease Grading/1. Original Images/a. Training Set/IDRiD_125.jpg', 'B. Disease Grading/1. Original Images/a. Training Set/IDRiD_126.jpg', 'B. Disease Grading/1. Original Images/a. Training Set/IDRiD_127.jpg', 'B. Disease Grading/1. Original Images/a. Training Set/IDRiD_128.jpg', 'B. Disease Grading/1. Original Images/a. Training Set/IDRiD_129.jpg', 'B. Disease Grading/1. Original Images/a. Training Set/IDRiD_130.jpg', 'B. Disease Grading/1. Original Images/a. Training Set/IDRiD_131.jpg', 'B. Disease Grading/1. Original Images/a. Training Set/IDRiD_132.jpg', 'B. Disease Grading/1. Original Images/a. Training Set/IDRiD_133.jpg', 'B. Disease Grading/1. Original Images/a. Training Set/IDRiD_134.jpg', 'B. Disease Grading/1. Original Images/a. Training Set/IDRiD_135.jpg', 'B. Disease Grading/1. Original Images/a. Training Set/IDRiD_136.jpg', 'B. Disease Grading/1. Original Images/a. Training Set/IDRiD_137.jpg', 'B. Disease Grading/1. Original Images/a. Training Set/IDRiD_138.jpg', 'B. Disease Grading/1. Original Images/a. Training Set/IDRiD_139.jpg', 'B. Disease Grading/1. Original Images/a. Training Set/IDRiD_140.jpg', 'B. Disease Grading/1. Original Images/a. Training Set/IDRiD_141.jpg', 'B. Disease Grading/1. Original Images/a. Training Set/IDRiD_142.jpg', 'B. Disease Grading/1. Original Images/a. Training Set/IDRiD_143.jpg', 'B. Disease Grading/1. Original Images/a. Training Set/IDRiD_144.jpg', 'B. Disease Grading/1. Original Images/a. Training Set/IDRiD_145.jpg', 'B. Disease Grading/1. Original Images/a. Training Set/IDRiD_146.jpg', 'B. Disease Grading/1. Original Images/a. Training Set/IDRiD_147.jpg', 'B. Disease Grading/1. Original Images/a. Training Set/IDRiD_148.jpg', 'B. Disease Grading/1. Original Images/a. Training Set/IDRiD_149.jpg', 'B. Disease Grading/1. Original Images/a. Training Set/IDRiD_150.jpg', 'B. Disease Grading/1. Original Images/a. Training Set/IDRiD_151.jpg', 'B. Disease Grading/1. Original Images/a. Training Set/IDRiD_152.jpg', 'B. Disease Grading/1. Original Images/a. Training Set/IDRiD_153.jpg', 'B. Disease Grading/1. Original Images/a. Training Set/IDRiD_154.jpg', 'B. Disease Grading/1. Original Images/a. Training Set/IDRiD_155.jpg', 'B. Disease Grading/1. Original Images/a. Training Set/IDRiD_156.jpg', 'B. Disease Grading/1. Original Images/a. Training Set/IDRiD_157.jpg', 'B. Disease Grading/1. Original Images/a. Training Set/IDRiD_158.jpg', 'B. Disease Grading/1. Original Images/a. Training Set/IDRiD_159.jpg', 'B. Disease Grading/1. Original Images/a. Training Set/IDRiD_160.jpg', 'B. Disease Grading/1. Original Images/a. Training Set/IDRiD_161.jpg', 'B. Disease Grading/1. Original Images/a. Training Set/IDRiD_162.jpg', 'B. Disease Grading/1. Original Images/a. Training Set/IDRiD_163.jpg', 'B. Disease Grading/1. Original Images/a. Training Set/IDRiD_164.jpg', 'B. Disease Grading/1. Original Images/a. Training Set/IDRiD_165.jpg', 'B. Disease Grading/1. Original Images/a. Training Set/IDRiD_166.jpg', 'B. Disease Grading/1. Original Images/a. Training Set/IDRiD_167.jpg', 'B. Disease Grading/1. Original Images/a. Training Set/IDRiD_168.jpg', 'B. Disease Grading/1. Original Images/a. Training Set/IDRiD_169.jpg', 'B. Disease Grading/1. Original Images/a. Training Set/IDRiD_170.jpg', 'B. Disease Grading/1. Original Images/a. Training Set/IDRiD_171.jpg', 'B. Disease Grading/1. Original Images/a. Training Set/IDRiD_172.jpg', 'B. Disease Grading/1. Original Images/a. Training Set/IDRiD_173.jpg', 'B. Disease Grading/1. Original Images/a. Training Set/IDRiD_174.jpg', 'B. Disease Grading/1. Original Images/a. Training Set/IDRiD_175.jpg', 'B. Disease Grading/1. Original Images/a. Training Set/IDRiD_176.jpg', 'B. Disease Grading/1. Original Images/a. Training Set/IDRiD_177.jpg', 'B. Disease Grading/1. Original Images/a. Training Set/IDRiD_178.jpg', 'B. Disease Grading/1. Original Images/a. Training Set/IDRiD_179.jpg', 'B. Disease Grading/1. Original Images/a. Training Set/IDRiD_180.jpg', 'B. Disease Grading/1. Original Images/a. Training Set/IDRiD_181.jpg', 'B. Disease Grading/1. Original Images/a. Training Set/IDRiD_182.jpg', 'B. Disease Grading/1. Original Images/a. Training Set/IDRiD_183.jpg', 'B. Disease Grading/1. Original Images/a. Training Set/IDRiD_184.jpg', 'B. Disease Grading/1. Original Images/a. Training Set/IDRiD_185.jpg', 'B. Disease Grading/1. Original Images/a. Training Set/IDRiD_186.jpg', 'B. Disease Grading/1. Original Images/a. Training Set/IDRiD_187.jpg', 'B. Disease Grading/1. Original Images/a. Training Set/IDRiD_188.jpg', 'B. Disease Grading/1. Original Images/a. Training Set/IDRiD_189.jpg', 'B. Disease Grading/1. Original Images/a. Training Set/IDRiD_190.jpg', 'B. Disease Grading/1. Original Images/a. Training Set/IDRiD_191.jpg', 'B. Disease Grading/1. Original Images/a. Training Set/IDRiD_192.jpg', 'B. Disease Grading/1. Original Images/a. Training Set/IDRiD_193.jpg', 'B. Disease Grading/1. Original Images/a. Training Set/IDRiD_194.jpg', 'B. Disease Grading/1. Original Images/a. Training Set/IDRiD_195.jpg', 'B. Disease Grading/1. Original Images/a. Training Set/IDRiD_196.jpg', 'B. Disease Grading/1. Original Images/a. Training Set/IDRiD_197.jpg', 'B. Disease Grading/1. Original Images/a. Training Set/IDRiD_198.jpg', 'B. Disease Grading/1. Original Images/a. Training Set/IDRiD_199.jpg', 'B. Disease Grading/1. Original Images/a. Training Set/IDRiD_200.jpg', 'B. Disease Grading/1. Original Images/a. Training Set/IDRiD_201.jpg', 'B. Disease Grading/1. Original Images/a. Training Set/IDRiD_202.jpg', 'B. Disease Grading/1. Original Images/a. Training Set/IDRiD_203.jpg', 'B. Disease Grading/1. Original Images/a. Training Set/IDRiD_204.jpg', 'B. Disease Grading/1. Original Images/a. Training Set/IDRiD_205.jpg', 'B. Disease Grading/1. Original Images/a. Training Set/IDRiD_206.jpg', 'B. Disease Grading/1. Original Images/a. Training Set/IDRiD_207.jpg', 'B. Disease Grading/1. Original Images/a. Training Set/IDRiD_208.jpg', 'B. Disease Grading/1. Original Images/a. Training Set/IDRiD_209.jpg', 'B. Disease Grading/1. Original Images/a. Training Set/IDRiD_210.jpg', 'B. Disease Grading/1. Original Images/a. Training Set/IDRiD_211.jpg', 'B. Disease Grading/1. Original Images/a. Training Set/IDRiD_212.jpg', 'B. Disease Grading/1. Original Images/a. Training Set/IDRiD_213.jpg', 'B. Disease Grading/1. Original Images/a. Training Set/IDRiD_214.jpg', 'B. Disease Grading/1. Original Images/a. Training Set/IDRiD_215.jpg', 'B. Disease Grading/1. Original Images/a. Training Set/IDRiD_216.jpg', 'B. Disease Grading/1. Original Images/a. Training Set/IDRiD_217.jpg', 'B. Disease Grading/1. Original Images/a. Training Set/IDRiD_218.jpg', 'B. Disease Grading/1. Original Images/a. Training Set/IDRiD_219.jpg', 'B. Disease Grading/1. Original Images/a. Training Set/IDRiD_220.jpg', 'B. Disease Grading/1. Original Images/a. Training Set/IDRiD_221.jpg', 'B. Disease Grading/1. Original Images/a. Training Set/IDRiD_222.jpg', 'B. Disease Grading/1. Original Images/a. Training Set/IDRiD_223.jpg', 'B. Disease Grading/1. Original Images/a. Training Set/IDRiD_224.jpg', 'B. Disease Grading/1. Original Images/a. Training Set/IDRiD_225.jpg', 'B. Disease Grading/1. Original Images/a. Training Set/IDRiD_226.jpg', 'B. Disease Grading/1. Original Images/a. Training Set/IDRiD_227.jpg', 'B. Disease Grading/1. Original Images/a. Training Set/IDRiD_228.jpg', 'B. Disease Grading/1. Original Images/a. Training Set/IDRiD_229.jpg', 'B. Disease Grading/1. Original Images/a. Training Set/IDRiD_230.jpg', 'B. Disease Grading/1. Original Images/a. Training Set/IDRiD_231.jpg', 'B. Disease Grading/1. Original Images/a. Training Set/IDRiD_232.jpg', 'B. Disease Grading/1. Original Images/a. Training Set/IDRiD_233.jpg', 'B. Disease Grading/1. Original Images/a. Training Set/IDRiD_234.jpg', 'B. Disease Grading/1. Original Images/a. Training Set/IDRiD_235.jpg', 'B. Disease Grading/1. Original Images/a. Training Set/IDRiD_236.jpg', 'B. Disease Grading/1. Original Images/a. Training Set/IDRiD_237.jpg', 'B. Disease Grading/1. Original Images/a. Training Set/IDRiD_238.jpg', 'B. Disease Grading/1. Original Images/a. Training Set/IDRiD_239.jpg', 'B. Disease Grading/1. Original Images/a. Training Set/IDRiD_240.jpg', 'B. Disease Grading/1. Original Images/a. Training Set/IDRiD_241.jpg', 'B. Disease Grading/1. Original Images/a. Training Set/IDRiD_242.jpg', 'B. Disease Grading/1. Original Images/a. Training Set/IDRiD_243.jpg', 'B. Disease Grading/1. Original Images/a. Training Set/IDRiD_244.jpg', 'B. Disease Grading/1. Original Images/a. Training Set/IDRiD_245.jpg', 'B. Disease Grading/1. Original Images/a. Training Set/IDRiD_246.jpg', 'B. Disease Grading/1. Original Images/a. Training Set/IDRiD_247.jpg', 'B. Disease Grading/1. Original Images/a. Training Set/IDRiD_248.jpg', 'B. Disease Grading/1. Original Images/a. Training Set/IDRiD_249.jpg', 'B. Disease Grading/1. Original Images/a. Training Set/IDRiD_250.jpg', 'B. Disease Grading/1. Original Images/a. Training Set/IDRiD_251.jpg', 'B. Disease Grading/1. Original Images/a. Training Set/IDRiD_252.jpg', 'B. Disease Grading/1. Original Images/a. Training Set/IDRiD_253.jpg', 'B. Disease Grading/1. Original Images/a. Training Set/IDRiD_254.jpg', 'B. Disease Grading/1. Original Images/a. Training Set/IDRiD_255.jpg', 'B. Disease Grading/1. Original Images/a. Training Set/IDRiD_256.jpg', 'B. Disease Grading/1. Original Images/a. Training Set/IDRiD_257.jpg', 'B. Disease Grading/1. Original Images/a. Training Set/IDRiD_258.jpg', 'B. Disease Grading/1. Original Images/a. Training Set/IDRiD_259.jpg', 'B. Disease Grading/1. Original Images/a. Training Set/IDRiD_260.jpg', 'B. Disease Grading/1. Original Images/a. Training Set/IDRiD_261.jpg', 'B. Disease Grading/1. Original Images/a. Training Set/IDRiD_262.jpg', 'B. Disease Grading/1. Original Images/a. Training Set/IDRiD_263.jpg', 'B. Disease Grading/1. Original Images/a. Training Set/IDRiD_264.jpg', 'B. Disease Grading/1. Original Images/a. Training Set/IDRiD_265.jpg', 'B. Disease Grading/1. Original Images/a. Training Set/IDRiD_266.jpg', 'B. Disease Grading/1. Original Images/a. Training Set/IDRiD_267.jpg', 'B. Disease Grading/1. Original Images/a. Training Set/IDRiD_268.jpg', 'B. Disease Grading/1. Original Images/a. Training Set/IDRiD_269.jpg', 'B. Disease Grading/1. Original Images/a. Training Set/IDRiD_270.jpg', 'B. Disease Grading/1. Original Images/a. Training Set/IDRiD_271.jpg', 'B. Disease Grading/1. Original Images/a. Training Set/IDRiD_272.jpg', 'B. Disease Grading/1. Original Images/a. Training Set/IDRiD_273.jpg', 'B. Disease Grading/1. Original Images/a. Training Set/IDRiD_274.jpg', 'B. Disease Grading/1. Original Images/a. Training Set/IDRiD_275.jpg', 'B. Disease Grading/1. Original Images/a. Training Set/IDRiD_276.jpg', 'B. Disease Grading/1. Original Images/a. Training Set/IDRiD_277.jpg', 'B. Disease Grading/1. Original Images/a. Training Set/IDRiD_278.jpg', 'B. Disease Grading/1. Original Images/a. Training Set/IDRiD_279.jpg', 'B. Disease Grading/1. Original Images/a. Training Set/IDRiD_280.jpg', 'B. Disease Grading/1. Original Images/a. Training Set/IDRiD_281.jpg', 'B. Disease Grading/1. Original Images/a. Training Set/IDRiD_282.jpg', 'B. Disease Grading/1. Original Images/a. Training Set/IDRiD_283.jpg', 'B. Disease Grading/1. Original Images/a. Training Set/IDRiD_284.jpg', 'B. Disease Grading/1. Original Images/a. Training Set/IDRiD_285.jpg', 'B. Disease Grading/1. Original Images/a. Training Set/IDRiD_286.jpg', 'B. Disease Grading/1. Original Images/a. Training Set/IDRiD_287.jpg', 'B. Disease Grading/1. Original Images/a. Training Set/IDRiD_288.jpg', 'B. Disease Grading/1. Original Images/a. Training Set/IDRiD_289.jpg', 'B. Disease Grading/1. Original Images/a. Training Set/IDRiD_290.jpg', 'B. Disease Grading/1. Original Images/a. Training Set/IDRiD_291.jpg', 'B. Disease Grading/1. Original Images/a. Training Set/IDRiD_292.jpg', 'B. Disease Grading/1. Original Images/a. Training Set/IDRiD_293.jpg', 'B. Disease Grading/1. Original Images/a. Training Set/IDRiD_294.jpg', 'B. Disease Grading/1. Original Images/a. Training Set/IDRiD_295.jpg', 'B. Disease Grading/1. Original Images/a. Training Set/IDRiD_296.jpg', 'B. Disease Grading/1. Original Images/a. Training Set/IDRiD_297.jpg', 'B. Disease Grading/1. Original Images/a. Training Set/IDRiD_298.jpg', 'B. Disease Grading/1. Original Images/a. Training Set/IDRiD_299.jpg', 'B. Disease Grading/1. Original Images/a. Training Set/IDRiD_300.jpg', 'B. Disease Grading/1. Original Images/a. Training Set/IDRiD_301.jpg', 'B. Disease Grading/1. Original Images/a. Training Set/IDRiD_302.jpg', 'B. Disease Grading/1. Original Images/a. Training Set/IDRiD_303.jpg', 'B. Disease Grading/1. Original Images/a. Training Set/IDRiD_304.jpg', 'B. Disease Grading/1. Original Images/a. Training Set/IDRiD_305.jpg', 'B. Disease Grading/1. Original Images/a. Training Set/IDRiD_306.jpg', 'B. Disease Grading/1. Original Images/a. Training Set/IDRiD_307.jpg', 'B. Disease Grading/1. Original Images/a. Training Set/IDRiD_308.jpg', 'B. Disease Grading/1. Original Images/a. Training Set/IDRiD_309.jpg', 'B. Disease Grading/1. Original Images/a. Training Set/IDRiD_310.jpg', 'B. Disease Grading/1. Original Images/a. Training Set/IDRiD_311.jpg', 'B. Disease Grading/1. Original Images/a. Training Set/IDRiD_312.jpg', 'B. Disease Grading/1. Original Images/a. Training Set/IDRiD_313.jpg', 'B. Disease Grading/1. Original Images/a. Training Set/IDRiD_314.jpg', 'B. Disease Grading/1. Original Images/a. Training Set/IDRiD_315.jpg', 'B. Disease Grading/1. Original Images/a. Training Set/IDRiD_316.jpg', 'B. Disease Grading/1. Original Images/a. Training Set/IDRiD_317.jpg', 'B. Disease Grading/1. Original Images/a. Training Set/IDRiD_318.jpg', 'B. Disease Grading/1. Original Images/a. Training Set/IDRiD_319.jpg', 'B. Disease Grading/1. Original Images/a. Training Set/IDRiD_320.jpg', 'B. Disease Grading/1. Original Images/a. Training Set/IDRiD_321.jpg', 'B. Disease Grading/1. Original Images/a. Training Set/IDRiD_322.jpg', 'B. Disease Grading/1. Original Images/a. Training Set/IDRiD_323.jpg', 'B. Disease Grading/1. Original Images/a. Training Set/IDRiD_324.jpg', 'B. Disease Grading/1. Original Images/a. Training Set/IDRiD_325.jpg', 'B. Disease Grading/1. Original Images/a. Training Set/IDRiD_326.jpg', 'B. Disease Grading/1. Original Images/a. Training Set/IDRiD_327.jpg', 'B. Disease Grading/1. Original Images/a. Training Set/IDRiD_328.jpg', 'B. Disease Grading/1. Original Images/a. Training Set/IDRiD_329.jpg', 'B. Disease Grading/1. Original Images/a. Training Set/IDRiD_330.jpg', 'B. Disease Grading/1. Original Images/a. Training Set/IDRiD_331.jpg', 'B. Disease Grading/1. Original Images/a. Training Set/IDRiD_332.jpg', 'B. Disease Grading/1. Original Images/a. Training Set/IDRiD_333.jpg', 'B. Disease Grading/1. Original Images/a. Training Set/IDRiD_334.jpg', 'B. Disease Grading/1. Original Images/a. Training Set/IDRiD_335.jpg', 'B. Disease Grading/1. Original Images/a. Training Set/IDRiD_336.jpg', 'B. Disease Grading/1. Original Images/a. Training Set/IDRiD_337.jpg', 'B. Disease Grading/1. Original Images/a. Training Set/IDRiD_338.jpg', 'B. Disease Grading/1. Original Images/a. Training Set/IDRiD_339.jpg', 'B. Disease Grading/1. Original Images/a. Training Set/IDRiD_340.jpg', 'B. Disease Grading/1. Original Images/a. Training Set/IDRiD_341.jpg', 'B. Disease Grading/1. Original Images/a. Training Set/IDRiD_342.jpg', 'B. Disease Grading/1. Original Images/a. Training Set/IDRiD_343.jpg', 'B. Disease Grading/1. Original Images/a. Training Set/IDRiD_344.jpg', 'B. Disease Grading/1. Original Images/a. Training Set/IDRiD_345.jpg', 'B. Disease Grading/1. Original Images/a. Training Set/IDRiD_346.jpg', 'B. Disease Grading/1. Original Images/a. Training Set/IDRiD_347.jpg', 'B. Disease Grading/1. Original Images/a. Training Set/IDRiD_348.jpg', 'B. Disease Grading/1. Original Images/a. Training Set/IDRiD_349.jpg', 'B. Disease Grading/1. Original Images/a. Training Set/IDRiD_350.jpg', 'B. Disease Grading/1. Original Images/a. Training Set/IDRiD_351.jpg', 'B. Disease Grading/1. Original Images/a. Training Set/IDRiD_352.jpg', 'B. Disease Grading/1. Original Images/a. Training Set/IDRiD_353.jpg', 'B. Disease Grading/1. Original Images/a. Training Set/IDRiD_354.jpg', 'B. Disease Grading/1. Original Images/a. Training Set/IDRiD_355.jpg', 'B. Disease Grading/1. Original Images/a. Training Set/IDRiD_356.jpg', 'B. Disease Grading/1. Original Images/a. Training Set/IDRiD_357.jpg', 'B. Disease Grading/1. Original Images/a. Training Set/IDRiD_358.jpg', 'B. Disease Grading/1. Original Images/a. Training Set/IDRiD_359.jpg', 'B. Disease Grading/1. Original Images/a. Training Set/IDRiD_360.jpg', 'B. Disease Grading/1. Original Images/a. Training Set/IDRiD_361.jpg', 'B. Disease Grading/1. Original Images/a. Training Set/IDRiD_362.jpg', 'B. Disease Grading/1. Original Images/a. Training Set/IDRiD_363.jpg', 'B. Disease Grading/1. Original Images/a. Training Set/IDRiD_364.jpg', 'B. Disease Grading/1. Original Images/a. Training Set/IDRiD_365.jpg', 'B. Disease Grading/1. Original Images/a. Training Set/IDRiD_366.jpg', 'B. Disease Grading/1. Original Images/a. Training Set/IDRiD_367.jpg', 'B. Disease Grading/1. Original Images/a. Training Set/IDRiD_368.jpg', 'B. Disease Grading/1. Original Images/a. Training Set/IDRiD_369.jpg', 'B. Disease Grading/1. Original Images/a. Training Set/IDRiD_370.jpg', 'B. Disease Grading/1. Original Images/a. Training Set/IDRiD_371.jpg', 'B. Disease Grading/1. Original Images/a. Training Set/IDRiD_372.jpg', 'B. Disease Grading/1. Original Images/a. Training Set/IDRiD_373.jpg', 'B. Disease Grading/1. Original Images/a. Training Set/IDRiD_374.jpg', 'B. Disease Grading/1. Original Images/a. Training Set/IDRiD_375.jpg', 'B. Disease Grading/1. Original Images/a. Training Set/IDRiD_376.jpg', 'B. Disease Grading/1. Original Images/a. Training Set/IDRiD_377.jpg', 'B. Disease Grading/1. Original Images/a. Training Set/IDRiD_378.jpg', 'B. Disease Grading/1. Original Images/a. Training Set/IDRiD_379.jpg', 'B. Disease Grading/1. Original Images/a. Training Set/IDRiD_380.jpg', 'B. Disease Grading/1. Original Images/a. Training Set/IDRiD_381.jpg', 'B. Disease Grading/1. Original Images/a. Training Set/IDRiD_382.jpg', 'B. Disease Grading/1. Original Images/a. Training Set/IDRiD_383.jpg', 'B. Disease Grading/1. Original Images/a. Training Set/IDRiD_384.jpg', 'B. Disease Grading/1. Original Images/a. Training Set/IDRiD_385.jpg', 'B. Disease Grading/1. Original Images/a. Training Set/IDRiD_386.jpg', 'B. Disease Grading/1. Original Images/a. Training Set/IDRiD_387.jpg', 'B. Disease Grading/1. Original Images/a. Training Set/IDRiD_388.jpg', 'B. Disease Grading/1. Original Images/a. Training Set/IDRiD_389.jpg', 'B. Disease Grading/1. Original Images/a. Training Set/IDRiD_390.jpg', 'B. Disease Grading/1. Original Images/a. Training Set/IDRiD_391.jpg', 'B. Disease Grading/1. Original Images/a. Training Set/IDRiD_392.jpg', 'B. Disease Grading/1. Original Images/a. Training Set/IDRiD_393.jpg', 'B. Disease Grading/1. Original Images/a. Training Set/IDRiD_394.jpg', 'B. Disease Grading/1. Original Images/a. Training Set/IDRiD_395.jpg', 'B. Disease Grading/1. Original Images/a. Training Set/IDRiD_396.jpg', 'B. Disease Grading/1. Original Images/a. Training Set/IDRiD_397.jpg', 'B. Disease Grading/1. Original Images/a. Training Set/IDRiD_398.jpg', 'B. Disease Grading/1. Original Images/a. Training Set/IDRiD_399.jpg', 'B. Disease Grading/1. Original Images/a. Training Set/IDRiD_400.jpg', 'B. Disease Grading/1. Original Images/a. Training Set/IDRiD_401.jpg', 'B. Disease Grading/1. Original Images/a. Training Set/IDRiD_402.jpg', 'B. Disease Grading/1. Original Images/a. Training Set/IDRiD_403.jpg', 'B. Disease Grading/1. Original Images/a. Training Set/IDRiD_404.jpg', 'B. Disease Grading/1. Original Images/a. Training Set/IDRiD_405.jpg', 'B. Disease Grading/1. Original Images/a. Training Set/IDRiD_406.jpg', 'B. Disease Grading/1. Original Images/a. Training Set/IDRiD_407.jpg', 'B. Disease Grading/1. Original Images/a. Training Set/IDRiD_408.jpg', 'B. Disease Grading/1. Original Images/a. Training Set/IDRiD_409.jpg', 'B. Disease Grading/1. Original Images/a. Training Set/IDRiD_410.jpg', 'B. Disease Grading/1. Original Images/a. Training Set/IDRiD_411.jpg', 'B. Disease Grading/1. Original Images/a. Training Set/IDRiD_412.jpg', 'B. Disease Grading/1. Original Images/a. Training Set/IDRiD_413.jpg', 'B. Disease Grading/1. Original Images/b. Testing Set/', 'B. Disease Grading/1. Original Images/b. Testing Set/IDRiD_001.jpg', 'B. Disease Grading/1. Original Images/b. Testing Set/IDRiD_002.jpg', 'B. Disease Grading/1. Original Images/b. Testing Set/IDRiD_003.jpg', 'B. Disease Grading/1. Original Images/b. Testing Set/IDRiD_004.jpg', 'B. Disease Grading/1. Original Images/b. Testing Set/IDRiD_005.jpg', 'B. Disease Grading/1. Original Images/b. Testing Set/IDRiD_006.jpg', 'B. Disease Grading/1. Original Images/b. Testing Set/IDRiD_007.jpg', 'B. Disease Grading/1. Original Images/b. Testing Set/IDRiD_008.jpg', 'B. Disease Grading/1. Original Images/b. Testing Set/IDRiD_009.jpg', 'B. Disease Grading/1. Original Images/b. Testing Set/IDRiD_010.jpg', 'B. Disease Grading/1. Original Images/b. Testing Set/IDRiD_011.jpg', 'B. Disease Grading/1. Original Images/b. Testing Set/IDRiD_012.jpg', 'B. Disease Grading/1. Original Images/b. Testing Set/IDRiD_013.jpg', 'B. Disease Grading/1. Original Images/b. Testing Set/IDRiD_014.jpg', 'B. Disease Grading/1. Original Images/b. Testing Set/IDRiD_015.jpg', 'B. Disease Grading/1. Original Images/b. Testing Set/IDRiD_016.jpg', 'B. Disease Grading/1. Original Images/b. Testing Set/IDRiD_017.jpg', 'B. Disease Grading/1. Original Images/b. Testing Set/IDRiD_018.jpg', 'B. Disease Grading/1. Original Images/b. Testing Set/IDRiD_019.jpg', 'B. Disease Grading/1. Original Images/b. Testing Set/IDRiD_020.jpg', 'B. Disease Grading/1. Original Images/b. Testing Set/IDRiD_021.jpg', 'B. Disease Grading/1. Original Images/b. Testing Set/IDRiD_022.jpg', 'B. Disease Grading/1. Original Images/b. Testing Set/IDRiD_023.jpg', 'B. Disease Grading/1. Original Images/b. Testing Set/IDRiD_024.jpg', 'B. Disease Grading/1. Original Images/b. Testing Set/IDRiD_025.jpg', 'B. Disease Grading/1. Original Images/b. Testing Set/IDRiD_026.jpg', 'B. Disease Grading/1. Original Images/b. Testing Set/IDRiD_027.jpg', 'B. Disease Grading/1. Original Images/b. Testing Set/IDRiD_028.jpg', 'B. Disease Grading/1. Original Images/b. Testing Set/IDRiD_029.jpg', 'B. Disease Grading/1. Original Images/b. Testing Set/IDRiD_030.jpg', 'B. Disease Grading/1. Original Images/b. Testing Set/IDRiD_031.jpg', 'B. Disease Grading/1. Original Images/b. Testing Set/IDRiD_032.jpg', 'B. Disease Grading/1. Original Images/b. Testing Set/IDRiD_033.jpg', 'B. Disease Grading/1. Original Images/b. Testing Set/IDRiD_034.jpg', 'B. Disease Grading/1. Original Images/b. Testing Set/IDRiD_035.jpg', 'B. Disease Grading/1. Original Images/b. Testing Set/IDRiD_036.jpg', 'B. Disease Grading/1. Original Images/b. Testing Set/IDRiD_037.jpg', 'B. Disease Grading/1. Original Images/b. Testing Set/IDRiD_038.jpg', 'B. Disease Grading/1. Original Images/b. Testing Set/IDRiD_039.jpg', 'B. Disease Grading/1. Original Images/b. Testing Set/IDRiD_040.jpg', 'B. Disease Grading/1. Original Images/b. Testing Set/IDRiD_041.jpg', 'B. Disease Grading/1. Original Images/b. Testing Set/IDRiD_042.jpg', 'B. Disease Grading/1. Original Images/b. Testing Set/IDRiD_043.jpg', 'B. Disease Grading/1. Original Images/b. Testing Set/IDRiD_044.jpg', 'B. Disease Grading/1. Original Images/b. Testing Set/IDRiD_045.jpg', 'B. Disease Grading/1. Original Images/b. Testing Set/IDRiD_046.jpg', 'B. Disease Grading/1. Original Images/b. Testing Set/IDRiD_047.jpg', 'B. Disease Grading/1. Original Images/b. Testing Set/IDRiD_048.jpg', 'B. Disease Grading/1. Original Images/b. Testing Set/IDRiD_049.jpg', 'B. Disease Grading/1. Original Images/b. Testing Set/IDRiD_050.jpg', 'B. Disease Grading/1. Original Images/b. Testing Set/IDRiD_051.jpg', 'B. Disease Grading/1. Original Images/b. Testing Set/IDRiD_052.jpg', 'B. Disease Grading/1. Original Images/b. Testing Set/IDRiD_053.jpg', 'B. Disease Grading/1. Original Images/b. Testing Set/IDRiD_054.jpg', 'B. Disease Grading/1. Original Images/b. Testing Set/IDRiD_055.jpg', 'B. Disease Grading/1. Original Images/b. Testing Set/IDRiD_056.jpg', 'B. Disease Grading/1. Original Images/b. Testing Set/IDRiD_057.jpg', 'B. Disease Grading/1. Original Images/b. Testing Set/IDRiD_058.jpg', 'B. Disease Grading/1. Original Images/b. Testing Set/IDRiD_059.jpg', 'B. Disease Grading/1. Original Images/b. Testing Set/IDRiD_060.jpg', 'B. Disease Grading/1. Original Images/b. Testing Set/IDRiD_061.jpg', 'B. Disease Grading/1. Original Images/b. Testing Set/IDRiD_062.jpg', 'B. Disease Grading/1. Original Images/b. Testing Set/IDRiD_063.jpg', 'B. Disease Grading/1. Original Images/b. Testing Set/IDRiD_064.jpg', 'B. Disease Grading/1. Original Images/b. Testing Set/IDRiD_065.jpg', 'B. Disease Grading/1. Original Images/b. Testing Set/IDRiD_066.jpg', 'B. Disease Grading/1. Original Images/b. Testing Set/IDRiD_067.jpg', 'B. Disease Grading/1. Original Images/b. Testing Set/IDRiD_068.jpg', 'B. Disease Grading/1. Original Images/b. Testing Set/IDRiD_069.jpg', 'B. Disease Grading/1. Original Images/b. Testing Set/IDRiD_070.jpg', 'B. Disease Grading/1. Original Images/b. Testing Set/IDRiD_071.jpg', 'B. Disease Grading/1. Original Images/b. Testing Set/IDRiD_072.jpg', 'B. Disease Grading/1. Original Images/b. Testing Set/IDRiD_073.jpg', 'B. Disease Grading/1. Original Images/b. Testing Set/IDRiD_074.jpg', 'B. Disease Grading/1. Original Images/b. Testing Set/IDRiD_075.jpg', 'B. Disease Grading/1. Original Images/b. Testing Set/IDRiD_076.jpg', 'B. Disease Grading/1. Original Images/b. Testing Set/IDRiD_077.jpg', 'B. Disease Grading/1. Original Images/b. Testing Set/IDRiD_078.jpg', 'B. Disease Grading/1. Original Images/b. Testing Set/IDRiD_079.jpg', 'B. Disease Grading/1. Original Images/b. Testing Set/IDRiD_080.jpg', 'B. Disease Grading/1. Original Images/b. Testing Set/IDRiD_081.jpg', 'B. Disease Grading/1. Original Images/b. Testing Set/IDRiD_082.jpg', 'B. Disease Grading/1. Original Images/b. Testing Set/IDRiD_083.jpg', 'B. Disease Grading/1. Original Images/b. Testing Set/IDRiD_084.jpg', 'B. Disease Grading/1. Original Images/b. Testing Set/IDRiD_085.jpg', 'B. Disease Grading/1. Original Images/b. Testing Set/IDRiD_086.jpg', 'B. Disease Grading/1. Original Images/b. Testing Set/IDRiD_087.jpg', 'B. Disease Grading/1. Original Images/b. Testing Set/IDRiD_088.jpg', 'B. Disease Grading/1. Original Images/b. Testing Set/IDRiD_089.jpg', 'B. Disease Grading/1. Original Images/b. Testing Set/IDRiD_090.jpg', 'B. Disease Grading/1. Original Images/b. Testing Set/IDRiD_091.jpg', 'B. Disease Grading/1. Original Images/b. Testing Set/IDRiD_092.jpg', 'B. Disease Grading/1. Original Images/b. Testing Set/IDRiD_093.jpg', 'B. Disease Grading/1. Original Images/b. Testing Set/IDRiD_094.jpg', 'B. Disease Grading/1. Original Images/b. Testing Set/IDRiD_095.jpg', 'B. Disease Grading/1. Original Images/b. Testing Set/IDRiD_096.jpg', 'B. Disease Grading/1. Original Images/b. Testing Set/IDRiD_097.jpg', 'B. Disease Grading/1. Original Images/b. Testing Set/IDRiD_098.jpg', 'B. Disease Grading/1. Original Images/b. Testing Set/IDRiD_099.jpg', 'B. Disease Grading/1. Original Images/b. Testing Set/IDRiD_100.jpg', 'B. Disease Grading/1. Original Images/b. Testing Set/IDRiD_101.jpg', 'B. Disease Grading/1. Original Images/b. Testing Set/IDRiD_102.jpg', 'B. Disease Grading/1. Original Images/b. Testing Set/IDRiD_103.jpg', 'B. Disease Grading/2. Groundtruths/', 'B. Disease Grading/2. Groundtruths/a. IDRiD_Disease Grading_Training Labels.csv', 'B. Disease Grading/2. Groundtruths/b. IDRiD_Disease Grading_Testing Labels.csv', 'B. Disease Grading/LICENSE.txt', 'B. Disease Grading/CC-BY-4.0.txt']\n"
          ]
        }
      ],
      "source": [
        "# Path to the ZIP file\n",
        "zip_path = \"/content/drive/MyDrive/B. Disease Grading.zip\"\n",
        "\n",
        "# Open the ZIP file and list its contents\n",
        "with zipfile.ZipFile(zip_path, 'r') as z:\n",
        "    print(\"Files inside ZIP:\", z.namelist())  # List all files inside ZIP"
      ]
    },
    {
      "cell_type": "code",
      "execution_count": null,
      "metadata": {
        "colab": {
          "base_uri": "https://localhost:8080/"
        },
        "id": "XRjLoA_8DQBu",
        "outputId": "30b27601-42f5-4337-93bb-c28f70c8d4e1"
      },
      "outputs": [
        {
          "output_type": "stream",
          "name": "stdout",
          "text": [
            "File content preview: b''\n"
          ]
        }
      ],
      "source": [
        "with zipfile.ZipFile(zip_path, 'r') as z:\n",
        "    file_name = z.namelist()[0]  # Change index if needed\n",
        "    with z.open(file_name) as f:\n",
        "        content = f.read()\n",
        "        print(\"File content preview:\", content[:500])  # Preview first 500 bytes"
      ]
    },
    {
      "cell_type": "code",
      "execution_count": null,
      "metadata": {
        "colab": {
          "base_uri": "https://localhost:8080/"
        },
        "id": "gAt6ci4fDP_Y",
        "outputId": "37366e95-5304-4a6d-98e5-523d84d3172b"
      },
      "outputs": [
        {
          "output_type": "stream",
          "name": "stdout",
          "text": [
            "Files inside ZIP: ['B. Disease Grading/', 'B. Disease Grading/1. Original Images/', 'B. Disease Grading/1. Original Images/a. Training Set/', 'B. Disease Grading/1. Original Images/a. Training Set/IDRiD_001.jpg', 'B. Disease Grading/1. Original Images/a. Training Set/IDRiD_002.jpg', 'B. Disease Grading/1. Original Images/a. Training Set/IDRiD_003.jpg', 'B. Disease Grading/1. Original Images/a. Training Set/IDRiD_004.jpg', 'B. Disease Grading/1. Original Images/a. Training Set/IDRiD_005.jpg', 'B. Disease Grading/1. Original Images/a. Training Set/IDRiD_006.jpg', 'B. Disease Grading/1. Original Images/a. Training Set/IDRiD_007.jpg', 'B. Disease Grading/1. Original Images/a. Training Set/IDRiD_008.jpg', 'B. Disease Grading/1. Original Images/a. Training Set/IDRiD_009.jpg', 'B. Disease Grading/1. Original Images/a. Training Set/IDRiD_010.jpg', 'B. Disease Grading/1. Original Images/a. Training Set/IDRiD_011.jpg', 'B. Disease Grading/1. Original Images/a. Training Set/IDRiD_012.jpg', 'B. Disease Grading/1. Original Images/a. Training Set/IDRiD_013.jpg', 'B. Disease Grading/1. Original Images/a. Training Set/IDRiD_014.jpg', 'B. Disease Grading/1. Original Images/a. Training Set/IDRiD_015.jpg', 'B. Disease Grading/1. Original Images/a. Training Set/IDRiD_016.jpg', 'B. Disease Grading/1. Original Images/a. Training Set/IDRiD_017.jpg', 'B. Disease Grading/1. Original Images/a. Training Set/IDRiD_018.jpg', 'B. Disease Grading/1. Original Images/a. Training Set/IDRiD_019.jpg', 'B. Disease Grading/1. Original Images/a. Training Set/IDRiD_020.jpg', 'B. Disease Grading/1. Original Images/a. Training Set/IDRiD_021.jpg', 'B. Disease Grading/1. Original Images/a. Training Set/IDRiD_022.jpg', 'B. Disease Grading/1. Original Images/a. Training Set/IDRiD_023.jpg', 'B. Disease Grading/1. Original Images/a. Training Set/IDRiD_024.jpg', 'B. Disease Grading/1. Original Images/a. Training Set/IDRiD_025.jpg', 'B. Disease Grading/1. Original Images/a. Training Set/IDRiD_026.jpg', 'B. Disease Grading/1. Original Images/a. Training Set/IDRiD_027.jpg', 'B. Disease Grading/1. Original Images/a. Training Set/IDRiD_028.jpg', 'B. Disease Grading/1. Original Images/a. Training Set/IDRiD_029.jpg', 'B. Disease Grading/1. Original Images/a. Training Set/IDRiD_030.jpg', 'B. Disease Grading/1. Original Images/a. Training Set/IDRiD_031.jpg', 'B. Disease Grading/1. Original Images/a. Training Set/IDRiD_032.jpg', 'B. Disease Grading/1. Original Images/a. Training Set/IDRiD_033.jpg', 'B. Disease Grading/1. Original Images/a. Training Set/IDRiD_034.jpg', 'B. Disease Grading/1. Original Images/a. Training Set/IDRiD_035.jpg', 'B. Disease Grading/1. Original Images/a. Training Set/IDRiD_036.jpg', 'B. Disease Grading/1. Original Images/a. Training Set/IDRiD_037.jpg', 'B. Disease Grading/1. Original Images/a. Training Set/IDRiD_038.jpg', 'B. Disease Grading/1. Original Images/a. Training Set/IDRiD_039.jpg', 'B. Disease Grading/1. Original Images/a. Training Set/IDRiD_040.jpg', 'B. Disease Grading/1. Original Images/a. Training Set/IDRiD_041.jpg', 'B. Disease Grading/1. Original Images/a. Training Set/IDRiD_042.jpg', 'B. Disease Grading/1. Original Images/a. Training Set/IDRiD_043.jpg', 'B. Disease Grading/1. Original Images/a. Training Set/IDRiD_044.jpg', 'B. Disease Grading/1. Original Images/a. Training Set/IDRiD_045.jpg', 'B. Disease Grading/1. Original Images/a. Training Set/IDRiD_046.jpg', 'B. Disease Grading/1. Original Images/a. Training Set/IDRiD_047.jpg', 'B. Disease Grading/1. Original Images/a. Training Set/IDRiD_048.jpg', 'B. Disease Grading/1. Original Images/a. Training Set/IDRiD_049.jpg', 'B. Disease Grading/1. Original Images/a. Training Set/IDRiD_050.jpg', 'B. Disease Grading/1. Original Images/a. Training Set/IDRiD_051.jpg', 'B. Disease Grading/1. Original Images/a. Training Set/IDRiD_052.jpg', 'B. Disease Grading/1. Original Images/a. Training Set/IDRiD_053.jpg', 'B. Disease Grading/1. Original Images/a. Training Set/IDRiD_054.jpg', 'B. Disease Grading/1. Original Images/a. Training Set/IDRiD_055.jpg', 'B. Disease Grading/1. Original Images/a. Training Set/IDRiD_056.jpg', 'B. Disease Grading/1. Original Images/a. Training Set/IDRiD_057.jpg', 'B. Disease Grading/1. Original Images/a. Training Set/IDRiD_058.jpg', 'B. Disease Grading/1. Original Images/a. Training Set/IDRiD_059.jpg', 'B. Disease Grading/1. Original Images/a. Training Set/IDRiD_060.jpg', 'B. Disease Grading/1. Original Images/a. Training Set/IDRiD_061.jpg', 'B. Disease Grading/1. Original Images/a. Training Set/IDRiD_062.jpg', 'B. Disease Grading/1. Original Images/a. Training Set/IDRiD_063.jpg', 'B. Disease Grading/1. Original Images/a. Training Set/IDRiD_064.jpg', 'B. Disease Grading/1. Original Images/a. Training Set/IDRiD_065.jpg', 'B. Disease Grading/1. Original Images/a. Training Set/IDRiD_066.jpg', 'B. Disease Grading/1. Original Images/a. Training Set/IDRiD_067.jpg', 'B. Disease Grading/1. Original Images/a. Training Set/IDRiD_068.jpg', 'B. Disease Grading/1. Original Images/a. Training Set/IDRiD_069.jpg', 'B. Disease Grading/1. Original Images/a. Training Set/IDRiD_070.jpg', 'B. Disease Grading/1. Original Images/a. Training Set/IDRiD_071.jpg', 'B. Disease Grading/1. Original Images/a. Training Set/IDRiD_072.jpg', 'B. Disease Grading/1. Original Images/a. Training Set/IDRiD_073.jpg', 'B. Disease Grading/1. Original Images/a. Training Set/IDRiD_074.jpg', 'B. Disease Grading/1. Original Images/a. Training Set/IDRiD_075.jpg', 'B. Disease Grading/1. Original Images/a. Training Set/IDRiD_076.jpg', 'B. Disease Grading/1. Original Images/a. Training Set/IDRiD_077.jpg', 'B. Disease Grading/1. Original Images/a. Training Set/IDRiD_078.jpg', 'B. Disease Grading/1. Original Images/a. Training Set/IDRiD_079.jpg', 'B. Disease Grading/1. Original Images/a. Training Set/IDRiD_080.jpg', 'B. Disease Grading/1. Original Images/a. Training Set/IDRiD_081.jpg', 'B. Disease Grading/1. Original Images/a. Training Set/IDRiD_082.jpg', 'B. Disease Grading/1. Original Images/a. Training Set/IDRiD_083.jpg', 'B. Disease Grading/1. Original Images/a. Training Set/IDRiD_084.jpg', 'B. Disease Grading/1. Original Images/a. Training Set/IDRiD_085.jpg', 'B. Disease Grading/1. Original Images/a. Training Set/IDRiD_086.jpg', 'B. Disease Grading/1. Original Images/a. Training Set/IDRiD_087.jpg', 'B. Disease Grading/1. Original Images/a. Training Set/IDRiD_088.jpg', 'B. Disease Grading/1. Original Images/a. Training Set/IDRiD_089.jpg', 'B. Disease Grading/1. Original Images/a. Training Set/IDRiD_090.jpg', 'B. Disease Grading/1. Original Images/a. Training Set/IDRiD_091.jpg', 'B. Disease Grading/1. Original Images/a. Training Set/IDRiD_092.jpg', 'B. Disease Grading/1. Original Images/a. Training Set/IDRiD_093.jpg', 'B. Disease Grading/1. Original Images/a. Training Set/IDRiD_094.jpg', 'B. Disease Grading/1. Original Images/a. Training Set/IDRiD_095.jpg', 'B. Disease Grading/1. Original Images/a. Training Set/IDRiD_096.jpg', 'B. Disease Grading/1. Original Images/a. Training Set/IDRiD_097.jpg', 'B. Disease Grading/1. Original Images/a. Training Set/IDRiD_098.jpg', 'B. Disease Grading/1. Original Images/a. Training Set/IDRiD_099.jpg', 'B. Disease Grading/1. Original Images/a. Training Set/IDRiD_100.jpg', 'B. Disease Grading/1. Original Images/a. Training Set/IDRiD_101.jpg', 'B. Disease Grading/1. Original Images/a. Training Set/IDRiD_102.jpg', 'B. Disease Grading/1. Original Images/a. Training Set/IDRiD_103.jpg', 'B. Disease Grading/1. Original Images/a. Training Set/IDRiD_104.jpg', 'B. Disease Grading/1. Original Images/a. Training Set/IDRiD_105.jpg', 'B. Disease Grading/1. Original Images/a. Training Set/IDRiD_106.jpg', 'B. Disease Grading/1. Original Images/a. Training Set/IDRiD_107.jpg', 'B. Disease Grading/1. Original Images/a. Training Set/IDRiD_108.jpg', 'B. Disease Grading/1. Original Images/a. Training Set/IDRiD_109.jpg', 'B. Disease Grading/1. Original Images/a. Training Set/IDRiD_110.jpg', 'B. Disease Grading/1. Original Images/a. Training Set/IDRiD_111.jpg', 'B. Disease Grading/1. Original Images/a. Training Set/IDRiD_112.jpg', 'B. Disease Grading/1. Original Images/a. Training Set/IDRiD_113.jpg', 'B. Disease Grading/1. Original Images/a. Training Set/IDRiD_114.jpg', 'B. Disease Grading/1. Original Images/a. Training Set/IDRiD_115.jpg', 'B. Disease Grading/1. Original Images/a. Training Set/IDRiD_116.jpg', 'B. Disease Grading/1. Original Images/a. Training Set/IDRiD_117.jpg', 'B. Disease Grading/1. Original Images/a. Training Set/IDRiD_118.jpg', 'B. Disease Grading/1. Original Images/a. Training Set/IDRiD_119.jpg', 'B. Disease Grading/1. Original Images/a. Training Set/IDRiD_120.jpg', 'B. Disease Grading/1. Original Images/a. Training Set/IDRiD_121.jpg', 'B. Disease Grading/1. Original Images/a. Training Set/IDRiD_122.jpg', 'B. Disease Grading/1. Original Images/a. Training Set/IDRiD_123.jpg', 'B. Disease Grading/1. Original Images/a. Training Set/IDRiD_124.jpg', 'B. Disease Grading/1. Original Images/a. Training Set/IDRiD_125.jpg', 'B. Disease Grading/1. Original Images/a. Training Set/IDRiD_126.jpg', 'B. Disease Grading/1. Original Images/a. Training Set/IDRiD_127.jpg', 'B. Disease Grading/1. Original Images/a. Training Set/IDRiD_128.jpg', 'B. Disease Grading/1. Original Images/a. Training Set/IDRiD_129.jpg', 'B. Disease Grading/1. Original Images/a. Training Set/IDRiD_130.jpg', 'B. Disease Grading/1. Original Images/a. Training Set/IDRiD_131.jpg', 'B. Disease Grading/1. Original Images/a. Training Set/IDRiD_132.jpg', 'B. Disease Grading/1. Original Images/a. Training Set/IDRiD_133.jpg', 'B. Disease Grading/1. Original Images/a. Training Set/IDRiD_134.jpg', 'B. Disease Grading/1. Original Images/a. Training Set/IDRiD_135.jpg', 'B. Disease Grading/1. Original Images/a. Training Set/IDRiD_136.jpg', 'B. Disease Grading/1. Original Images/a. Training Set/IDRiD_137.jpg', 'B. Disease Grading/1. Original Images/a. Training Set/IDRiD_138.jpg', 'B. Disease Grading/1. Original Images/a. Training Set/IDRiD_139.jpg', 'B. Disease Grading/1. Original Images/a. Training Set/IDRiD_140.jpg', 'B. Disease Grading/1. Original Images/a. Training Set/IDRiD_141.jpg', 'B. Disease Grading/1. Original Images/a. Training Set/IDRiD_142.jpg', 'B. Disease Grading/1. Original Images/a. Training Set/IDRiD_143.jpg', 'B. Disease Grading/1. Original Images/a. Training Set/IDRiD_144.jpg', 'B. Disease Grading/1. Original Images/a. Training Set/IDRiD_145.jpg', 'B. Disease Grading/1. Original Images/a. Training Set/IDRiD_146.jpg', 'B. Disease Grading/1. Original Images/a. Training Set/IDRiD_147.jpg', 'B. Disease Grading/1. Original Images/a. Training Set/IDRiD_148.jpg', 'B. Disease Grading/1. Original Images/a. Training Set/IDRiD_149.jpg', 'B. Disease Grading/1. Original Images/a. Training Set/IDRiD_150.jpg', 'B. Disease Grading/1. Original Images/a. Training Set/IDRiD_151.jpg', 'B. Disease Grading/1. Original Images/a. Training Set/IDRiD_152.jpg', 'B. Disease Grading/1. Original Images/a. Training Set/IDRiD_153.jpg', 'B. Disease Grading/1. Original Images/a. Training Set/IDRiD_154.jpg', 'B. Disease Grading/1. Original Images/a. Training Set/IDRiD_155.jpg', 'B. Disease Grading/1. Original Images/a. Training Set/IDRiD_156.jpg', 'B. Disease Grading/1. Original Images/a. Training Set/IDRiD_157.jpg', 'B. Disease Grading/1. Original Images/a. Training Set/IDRiD_158.jpg', 'B. Disease Grading/1. Original Images/a. Training Set/IDRiD_159.jpg', 'B. Disease Grading/1. Original Images/a. Training Set/IDRiD_160.jpg', 'B. Disease Grading/1. Original Images/a. Training Set/IDRiD_161.jpg', 'B. Disease Grading/1. Original Images/a. Training Set/IDRiD_162.jpg', 'B. Disease Grading/1. Original Images/a. Training Set/IDRiD_163.jpg', 'B. Disease Grading/1. Original Images/a. Training Set/IDRiD_164.jpg', 'B. Disease Grading/1. Original Images/a. Training Set/IDRiD_165.jpg', 'B. Disease Grading/1. Original Images/a. Training Set/IDRiD_166.jpg', 'B. Disease Grading/1. Original Images/a. Training Set/IDRiD_167.jpg', 'B. Disease Grading/1. Original Images/a. Training Set/IDRiD_168.jpg', 'B. Disease Grading/1. Original Images/a. Training Set/IDRiD_169.jpg', 'B. Disease Grading/1. Original Images/a. Training Set/IDRiD_170.jpg', 'B. Disease Grading/1. Original Images/a. Training Set/IDRiD_171.jpg', 'B. Disease Grading/1. Original Images/a. Training Set/IDRiD_172.jpg', 'B. Disease Grading/1. Original Images/a. Training Set/IDRiD_173.jpg', 'B. Disease Grading/1. Original Images/a. Training Set/IDRiD_174.jpg', 'B. Disease Grading/1. Original Images/a. Training Set/IDRiD_175.jpg', 'B. Disease Grading/1. Original Images/a. Training Set/IDRiD_176.jpg', 'B. Disease Grading/1. Original Images/a. Training Set/IDRiD_177.jpg', 'B. Disease Grading/1. Original Images/a. Training Set/IDRiD_178.jpg', 'B. Disease Grading/1. Original Images/a. Training Set/IDRiD_179.jpg', 'B. Disease Grading/1. Original Images/a. Training Set/IDRiD_180.jpg', 'B. Disease Grading/1. Original Images/a. Training Set/IDRiD_181.jpg', 'B. Disease Grading/1. Original Images/a. Training Set/IDRiD_182.jpg', 'B. Disease Grading/1. Original Images/a. Training Set/IDRiD_183.jpg', 'B. Disease Grading/1. Original Images/a. Training Set/IDRiD_184.jpg', 'B. Disease Grading/1. Original Images/a. Training Set/IDRiD_185.jpg', 'B. Disease Grading/1. Original Images/a. Training Set/IDRiD_186.jpg', 'B. Disease Grading/1. Original Images/a. Training Set/IDRiD_187.jpg', 'B. Disease Grading/1. Original Images/a. Training Set/IDRiD_188.jpg', 'B. Disease Grading/1. Original Images/a. Training Set/IDRiD_189.jpg', 'B. Disease Grading/1. Original Images/a. Training Set/IDRiD_190.jpg', 'B. Disease Grading/1. Original Images/a. Training Set/IDRiD_191.jpg', 'B. Disease Grading/1. Original Images/a. Training Set/IDRiD_192.jpg', 'B. Disease Grading/1. Original Images/a. Training Set/IDRiD_193.jpg', 'B. Disease Grading/1. Original Images/a. Training Set/IDRiD_194.jpg', 'B. Disease Grading/1. Original Images/a. Training Set/IDRiD_195.jpg', 'B. Disease Grading/1. Original Images/a. Training Set/IDRiD_196.jpg', 'B. Disease Grading/1. Original Images/a. Training Set/IDRiD_197.jpg', 'B. Disease Grading/1. Original Images/a. Training Set/IDRiD_198.jpg', 'B. Disease Grading/1. Original Images/a. Training Set/IDRiD_199.jpg', 'B. Disease Grading/1. Original Images/a. Training Set/IDRiD_200.jpg', 'B. Disease Grading/1. Original Images/a. Training Set/IDRiD_201.jpg', 'B. Disease Grading/1. Original Images/a. Training Set/IDRiD_202.jpg', 'B. Disease Grading/1. Original Images/a. Training Set/IDRiD_203.jpg', 'B. Disease Grading/1. Original Images/a. Training Set/IDRiD_204.jpg', 'B. Disease Grading/1. Original Images/a. Training Set/IDRiD_205.jpg', 'B. Disease Grading/1. Original Images/a. Training Set/IDRiD_206.jpg', 'B. Disease Grading/1. Original Images/a. Training Set/IDRiD_207.jpg', 'B. Disease Grading/1. Original Images/a. Training Set/IDRiD_208.jpg', 'B. Disease Grading/1. Original Images/a. Training Set/IDRiD_209.jpg', 'B. Disease Grading/1. Original Images/a. Training Set/IDRiD_210.jpg', 'B. Disease Grading/1. Original Images/a. Training Set/IDRiD_211.jpg', 'B. Disease Grading/1. Original Images/a. Training Set/IDRiD_212.jpg', 'B. Disease Grading/1. Original Images/a. Training Set/IDRiD_213.jpg', 'B. Disease Grading/1. Original Images/a. Training Set/IDRiD_214.jpg', 'B. Disease Grading/1. Original Images/a. Training Set/IDRiD_215.jpg', 'B. Disease Grading/1. Original Images/a. Training Set/IDRiD_216.jpg', 'B. Disease Grading/1. Original Images/a. Training Set/IDRiD_217.jpg', 'B. Disease Grading/1. Original Images/a. Training Set/IDRiD_218.jpg', 'B. Disease Grading/1. Original Images/a. Training Set/IDRiD_219.jpg', 'B. Disease Grading/1. Original Images/a. Training Set/IDRiD_220.jpg', 'B. Disease Grading/1. Original Images/a. Training Set/IDRiD_221.jpg', 'B. Disease Grading/1. Original Images/a. Training Set/IDRiD_222.jpg', 'B. Disease Grading/1. Original Images/a. Training Set/IDRiD_223.jpg', 'B. Disease Grading/1. Original Images/a. Training Set/IDRiD_224.jpg', 'B. Disease Grading/1. Original Images/a. Training Set/IDRiD_225.jpg', 'B. Disease Grading/1. Original Images/a. Training Set/IDRiD_226.jpg', 'B. Disease Grading/1. Original Images/a. Training Set/IDRiD_227.jpg', 'B. Disease Grading/1. Original Images/a. Training Set/IDRiD_228.jpg', 'B. Disease Grading/1. Original Images/a. Training Set/IDRiD_229.jpg', 'B. Disease Grading/1. Original Images/a. Training Set/IDRiD_230.jpg', 'B. Disease Grading/1. Original Images/a. Training Set/IDRiD_231.jpg', 'B. Disease Grading/1. Original Images/a. Training Set/IDRiD_232.jpg', 'B. Disease Grading/1. Original Images/a. Training Set/IDRiD_233.jpg', 'B. Disease Grading/1. Original Images/a. Training Set/IDRiD_234.jpg', 'B. Disease Grading/1. Original Images/a. Training Set/IDRiD_235.jpg', 'B. Disease Grading/1. Original Images/a. Training Set/IDRiD_236.jpg', 'B. Disease Grading/1. Original Images/a. Training Set/IDRiD_237.jpg', 'B. Disease Grading/1. Original Images/a. Training Set/IDRiD_238.jpg', 'B. Disease Grading/1. Original Images/a. Training Set/IDRiD_239.jpg', 'B. Disease Grading/1. Original Images/a. Training Set/IDRiD_240.jpg', 'B. Disease Grading/1. Original Images/a. Training Set/IDRiD_241.jpg', 'B. Disease Grading/1. Original Images/a. Training Set/IDRiD_242.jpg', 'B. Disease Grading/1. Original Images/a. Training Set/IDRiD_243.jpg', 'B. Disease Grading/1. Original Images/a. Training Set/IDRiD_244.jpg', 'B. Disease Grading/1. Original Images/a. Training Set/IDRiD_245.jpg', 'B. Disease Grading/1. Original Images/a. Training Set/IDRiD_246.jpg', 'B. Disease Grading/1. Original Images/a. Training Set/IDRiD_247.jpg', 'B. Disease Grading/1. Original Images/a. Training Set/IDRiD_248.jpg', 'B. Disease Grading/1. Original Images/a. Training Set/IDRiD_249.jpg', 'B. Disease Grading/1. Original Images/a. Training Set/IDRiD_250.jpg', 'B. Disease Grading/1. Original Images/a. Training Set/IDRiD_251.jpg', 'B. Disease Grading/1. Original Images/a. Training Set/IDRiD_252.jpg', 'B. Disease Grading/1. Original Images/a. Training Set/IDRiD_253.jpg', 'B. Disease Grading/1. Original Images/a. Training Set/IDRiD_254.jpg', 'B. Disease Grading/1. Original Images/a. Training Set/IDRiD_255.jpg', 'B. Disease Grading/1. Original Images/a. Training Set/IDRiD_256.jpg', 'B. Disease Grading/1. Original Images/a. Training Set/IDRiD_257.jpg', 'B. Disease Grading/1. Original Images/a. Training Set/IDRiD_258.jpg', 'B. Disease Grading/1. Original Images/a. Training Set/IDRiD_259.jpg', 'B. Disease Grading/1. Original Images/a. Training Set/IDRiD_260.jpg', 'B. Disease Grading/1. Original Images/a. Training Set/IDRiD_261.jpg', 'B. Disease Grading/1. Original Images/a. Training Set/IDRiD_262.jpg', 'B. Disease Grading/1. Original Images/a. Training Set/IDRiD_263.jpg', 'B. Disease Grading/1. Original Images/a. Training Set/IDRiD_264.jpg', 'B. Disease Grading/1. Original Images/a. Training Set/IDRiD_265.jpg', 'B. Disease Grading/1. Original Images/a. Training Set/IDRiD_266.jpg', 'B. Disease Grading/1. Original Images/a. Training Set/IDRiD_267.jpg', 'B. Disease Grading/1. Original Images/a. Training Set/IDRiD_268.jpg', 'B. Disease Grading/1. Original Images/a. Training Set/IDRiD_269.jpg', 'B. Disease Grading/1. Original Images/a. Training Set/IDRiD_270.jpg', 'B. Disease Grading/1. Original Images/a. Training Set/IDRiD_271.jpg', 'B. Disease Grading/1. Original Images/a. Training Set/IDRiD_272.jpg', 'B. Disease Grading/1. Original Images/a. Training Set/IDRiD_273.jpg', 'B. Disease Grading/1. Original Images/a. Training Set/IDRiD_274.jpg', 'B. Disease Grading/1. Original Images/a. Training Set/IDRiD_275.jpg', 'B. Disease Grading/1. Original Images/a. Training Set/IDRiD_276.jpg', 'B. Disease Grading/1. Original Images/a. Training Set/IDRiD_277.jpg', 'B. Disease Grading/1. Original Images/a. Training Set/IDRiD_278.jpg', 'B. Disease Grading/1. Original Images/a. Training Set/IDRiD_279.jpg', 'B. Disease Grading/1. Original Images/a. Training Set/IDRiD_280.jpg', 'B. Disease Grading/1. Original Images/a. Training Set/IDRiD_281.jpg', 'B. Disease Grading/1. Original Images/a. Training Set/IDRiD_282.jpg', 'B. Disease Grading/1. Original Images/a. Training Set/IDRiD_283.jpg', 'B. Disease Grading/1. Original Images/a. Training Set/IDRiD_284.jpg', 'B. Disease Grading/1. Original Images/a. Training Set/IDRiD_285.jpg', 'B. Disease Grading/1. Original Images/a. Training Set/IDRiD_286.jpg', 'B. Disease Grading/1. Original Images/a. Training Set/IDRiD_287.jpg', 'B. Disease Grading/1. Original Images/a. Training Set/IDRiD_288.jpg', 'B. Disease Grading/1. Original Images/a. Training Set/IDRiD_289.jpg', 'B. Disease Grading/1. Original Images/a. Training Set/IDRiD_290.jpg', 'B. Disease Grading/1. Original Images/a. Training Set/IDRiD_291.jpg', 'B. Disease Grading/1. Original Images/a. Training Set/IDRiD_292.jpg', 'B. Disease Grading/1. Original Images/a. Training Set/IDRiD_293.jpg', 'B. Disease Grading/1. Original Images/a. Training Set/IDRiD_294.jpg', 'B. Disease Grading/1. Original Images/a. Training Set/IDRiD_295.jpg', 'B. Disease Grading/1. Original Images/a. Training Set/IDRiD_296.jpg', 'B. Disease Grading/1. Original Images/a. Training Set/IDRiD_297.jpg', 'B. Disease Grading/1. Original Images/a. Training Set/IDRiD_298.jpg', 'B. Disease Grading/1. Original Images/a. Training Set/IDRiD_299.jpg', 'B. Disease Grading/1. Original Images/a. Training Set/IDRiD_300.jpg', 'B. Disease Grading/1. Original Images/a. Training Set/IDRiD_301.jpg', 'B. Disease Grading/1. Original Images/a. Training Set/IDRiD_302.jpg', 'B. Disease Grading/1. Original Images/a. Training Set/IDRiD_303.jpg', 'B. Disease Grading/1. Original Images/a. Training Set/IDRiD_304.jpg', 'B. Disease Grading/1. Original Images/a. Training Set/IDRiD_305.jpg', 'B. Disease Grading/1. Original Images/a. Training Set/IDRiD_306.jpg', 'B. Disease Grading/1. Original Images/a. Training Set/IDRiD_307.jpg', 'B. Disease Grading/1. Original Images/a. Training Set/IDRiD_308.jpg', 'B. Disease Grading/1. Original Images/a. Training Set/IDRiD_309.jpg', 'B. Disease Grading/1. Original Images/a. Training Set/IDRiD_310.jpg', 'B. Disease Grading/1. Original Images/a. Training Set/IDRiD_311.jpg', 'B. Disease Grading/1. Original Images/a. Training Set/IDRiD_312.jpg', 'B. Disease Grading/1. Original Images/a. Training Set/IDRiD_313.jpg', 'B. Disease Grading/1. Original Images/a. Training Set/IDRiD_314.jpg', 'B. Disease Grading/1. Original Images/a. Training Set/IDRiD_315.jpg', 'B. Disease Grading/1. Original Images/a. Training Set/IDRiD_316.jpg', 'B. Disease Grading/1. Original Images/a. Training Set/IDRiD_317.jpg', 'B. Disease Grading/1. Original Images/a. Training Set/IDRiD_318.jpg', 'B. Disease Grading/1. Original Images/a. Training Set/IDRiD_319.jpg', 'B. Disease Grading/1. Original Images/a. Training Set/IDRiD_320.jpg', 'B. Disease Grading/1. Original Images/a. Training Set/IDRiD_321.jpg', 'B. Disease Grading/1. Original Images/a. Training Set/IDRiD_322.jpg', 'B. Disease Grading/1. Original Images/a. Training Set/IDRiD_323.jpg', 'B. Disease Grading/1. Original Images/a. Training Set/IDRiD_324.jpg', 'B. Disease Grading/1. Original Images/a. Training Set/IDRiD_325.jpg', 'B. Disease Grading/1. Original Images/a. Training Set/IDRiD_326.jpg', 'B. Disease Grading/1. Original Images/a. Training Set/IDRiD_327.jpg', 'B. Disease Grading/1. Original Images/a. Training Set/IDRiD_328.jpg', 'B. Disease Grading/1. Original Images/a. Training Set/IDRiD_329.jpg', 'B. Disease Grading/1. Original Images/a. Training Set/IDRiD_330.jpg', 'B. Disease Grading/1. Original Images/a. Training Set/IDRiD_331.jpg', 'B. Disease Grading/1. Original Images/a. Training Set/IDRiD_332.jpg', 'B. Disease Grading/1. Original Images/a. Training Set/IDRiD_333.jpg', 'B. Disease Grading/1. Original Images/a. Training Set/IDRiD_334.jpg', 'B. Disease Grading/1. Original Images/a. Training Set/IDRiD_335.jpg', 'B. Disease Grading/1. Original Images/a. Training Set/IDRiD_336.jpg', 'B. Disease Grading/1. Original Images/a. Training Set/IDRiD_337.jpg', 'B. Disease Grading/1. Original Images/a. Training Set/IDRiD_338.jpg', 'B. Disease Grading/1. Original Images/a. Training Set/IDRiD_339.jpg', 'B. Disease Grading/1. Original Images/a. Training Set/IDRiD_340.jpg', 'B. Disease Grading/1. Original Images/a. Training Set/IDRiD_341.jpg', 'B. Disease Grading/1. Original Images/a. Training Set/IDRiD_342.jpg', 'B. Disease Grading/1. Original Images/a. Training Set/IDRiD_343.jpg', 'B. Disease Grading/1. Original Images/a. Training Set/IDRiD_344.jpg', 'B. Disease Grading/1. Original Images/a. Training Set/IDRiD_345.jpg', 'B. Disease Grading/1. Original Images/a. Training Set/IDRiD_346.jpg', 'B. Disease Grading/1. Original Images/a. Training Set/IDRiD_347.jpg', 'B. Disease Grading/1. Original Images/a. Training Set/IDRiD_348.jpg', 'B. Disease Grading/1. Original Images/a. Training Set/IDRiD_349.jpg', 'B. Disease Grading/1. Original Images/a. Training Set/IDRiD_350.jpg', 'B. Disease Grading/1. Original Images/a. Training Set/IDRiD_351.jpg', 'B. Disease Grading/1. Original Images/a. Training Set/IDRiD_352.jpg', 'B. Disease Grading/1. Original Images/a. Training Set/IDRiD_353.jpg', 'B. Disease Grading/1. Original Images/a. Training Set/IDRiD_354.jpg', 'B. Disease Grading/1. Original Images/a. Training Set/IDRiD_355.jpg', 'B. Disease Grading/1. Original Images/a. Training Set/IDRiD_356.jpg', 'B. Disease Grading/1. Original Images/a. Training Set/IDRiD_357.jpg', 'B. Disease Grading/1. Original Images/a. Training Set/IDRiD_358.jpg', 'B. Disease Grading/1. Original Images/a. Training Set/IDRiD_359.jpg', 'B. Disease Grading/1. Original Images/a. Training Set/IDRiD_360.jpg', 'B. Disease Grading/1. Original Images/a. Training Set/IDRiD_361.jpg', 'B. Disease Grading/1. Original Images/a. Training Set/IDRiD_362.jpg', 'B. Disease Grading/1. Original Images/a. Training Set/IDRiD_363.jpg', 'B. Disease Grading/1. Original Images/a. Training Set/IDRiD_364.jpg', 'B. Disease Grading/1. Original Images/a. Training Set/IDRiD_365.jpg', 'B. Disease Grading/1. Original Images/a. Training Set/IDRiD_366.jpg', 'B. Disease Grading/1. Original Images/a. Training Set/IDRiD_367.jpg', 'B. Disease Grading/1. Original Images/a. Training Set/IDRiD_368.jpg', 'B. Disease Grading/1. Original Images/a. Training Set/IDRiD_369.jpg', 'B. Disease Grading/1. Original Images/a. Training Set/IDRiD_370.jpg', 'B. Disease Grading/1. Original Images/a. Training Set/IDRiD_371.jpg', 'B. Disease Grading/1. Original Images/a. Training Set/IDRiD_372.jpg', 'B. Disease Grading/1. Original Images/a. Training Set/IDRiD_373.jpg', 'B. Disease Grading/1. Original Images/a. Training Set/IDRiD_374.jpg', 'B. Disease Grading/1. Original Images/a. Training Set/IDRiD_375.jpg', 'B. Disease Grading/1. Original Images/a. Training Set/IDRiD_376.jpg', 'B. Disease Grading/1. Original Images/a. Training Set/IDRiD_377.jpg', 'B. Disease Grading/1. Original Images/a. Training Set/IDRiD_378.jpg', 'B. Disease Grading/1. Original Images/a. Training Set/IDRiD_379.jpg', 'B. Disease Grading/1. Original Images/a. Training Set/IDRiD_380.jpg', 'B. Disease Grading/1. Original Images/a. Training Set/IDRiD_381.jpg', 'B. Disease Grading/1. Original Images/a. Training Set/IDRiD_382.jpg', 'B. Disease Grading/1. Original Images/a. Training Set/IDRiD_383.jpg', 'B. Disease Grading/1. Original Images/a. Training Set/IDRiD_384.jpg', 'B. Disease Grading/1. Original Images/a. Training Set/IDRiD_385.jpg', 'B. Disease Grading/1. Original Images/a. Training Set/IDRiD_386.jpg', 'B. Disease Grading/1. Original Images/a. Training Set/IDRiD_387.jpg', 'B. Disease Grading/1. Original Images/a. Training Set/IDRiD_388.jpg', 'B. Disease Grading/1. Original Images/a. Training Set/IDRiD_389.jpg', 'B. Disease Grading/1. Original Images/a. Training Set/IDRiD_390.jpg', 'B. Disease Grading/1. Original Images/a. Training Set/IDRiD_391.jpg', 'B. Disease Grading/1. Original Images/a. Training Set/IDRiD_392.jpg', 'B. Disease Grading/1. Original Images/a. Training Set/IDRiD_393.jpg', 'B. Disease Grading/1. Original Images/a. Training Set/IDRiD_394.jpg', 'B. Disease Grading/1. Original Images/a. Training Set/IDRiD_395.jpg', 'B. Disease Grading/1. Original Images/a. Training Set/IDRiD_396.jpg', 'B. Disease Grading/1. Original Images/a. Training Set/IDRiD_397.jpg', 'B. Disease Grading/1. Original Images/a. Training Set/IDRiD_398.jpg', 'B. Disease Grading/1. Original Images/a. Training Set/IDRiD_399.jpg', 'B. Disease Grading/1. Original Images/a. Training Set/IDRiD_400.jpg', 'B. Disease Grading/1. Original Images/a. Training Set/IDRiD_401.jpg', 'B. Disease Grading/1. Original Images/a. Training Set/IDRiD_402.jpg', 'B. Disease Grading/1. Original Images/a. Training Set/IDRiD_403.jpg', 'B. Disease Grading/1. Original Images/a. Training Set/IDRiD_404.jpg', 'B. Disease Grading/1. Original Images/a. Training Set/IDRiD_405.jpg', 'B. Disease Grading/1. Original Images/a. Training Set/IDRiD_406.jpg', 'B. Disease Grading/1. Original Images/a. Training Set/IDRiD_407.jpg', 'B. Disease Grading/1. Original Images/a. Training Set/IDRiD_408.jpg', 'B. Disease Grading/1. Original Images/a. Training Set/IDRiD_409.jpg', 'B. Disease Grading/1. Original Images/a. Training Set/IDRiD_410.jpg', 'B. Disease Grading/1. Original Images/a. Training Set/IDRiD_411.jpg', 'B. Disease Grading/1. Original Images/a. Training Set/IDRiD_412.jpg', 'B. Disease Grading/1. Original Images/a. Training Set/IDRiD_413.jpg', 'B. Disease Grading/1. Original Images/b. Testing Set/', 'B. Disease Grading/1. Original Images/b. Testing Set/IDRiD_001.jpg', 'B. Disease Grading/1. Original Images/b. Testing Set/IDRiD_002.jpg', 'B. Disease Grading/1. Original Images/b. Testing Set/IDRiD_003.jpg', 'B. Disease Grading/1. Original Images/b. Testing Set/IDRiD_004.jpg', 'B. Disease Grading/1. Original Images/b. Testing Set/IDRiD_005.jpg', 'B. Disease Grading/1. Original Images/b. Testing Set/IDRiD_006.jpg', 'B. Disease Grading/1. Original Images/b. Testing Set/IDRiD_007.jpg', 'B. Disease Grading/1. Original Images/b. Testing Set/IDRiD_008.jpg', 'B. Disease Grading/1. Original Images/b. Testing Set/IDRiD_009.jpg', 'B. Disease Grading/1. Original Images/b. Testing Set/IDRiD_010.jpg', 'B. Disease Grading/1. Original Images/b. Testing Set/IDRiD_011.jpg', 'B. Disease Grading/1. Original Images/b. Testing Set/IDRiD_012.jpg', 'B. Disease Grading/1. Original Images/b. Testing Set/IDRiD_013.jpg', 'B. Disease Grading/1. Original Images/b. Testing Set/IDRiD_014.jpg', 'B. Disease Grading/1. Original Images/b. Testing Set/IDRiD_015.jpg', 'B. Disease Grading/1. Original Images/b. Testing Set/IDRiD_016.jpg', 'B. Disease Grading/1. Original Images/b. Testing Set/IDRiD_017.jpg', 'B. Disease Grading/1. Original Images/b. Testing Set/IDRiD_018.jpg', 'B. Disease Grading/1. Original Images/b. Testing Set/IDRiD_019.jpg', 'B. Disease Grading/1. Original Images/b. Testing Set/IDRiD_020.jpg', 'B. Disease Grading/1. Original Images/b. Testing Set/IDRiD_021.jpg', 'B. Disease Grading/1. Original Images/b. Testing Set/IDRiD_022.jpg', 'B. Disease Grading/1. Original Images/b. Testing Set/IDRiD_023.jpg', 'B. Disease Grading/1. Original Images/b. Testing Set/IDRiD_024.jpg', 'B. Disease Grading/1. Original Images/b. Testing Set/IDRiD_025.jpg', 'B. Disease Grading/1. Original Images/b. Testing Set/IDRiD_026.jpg', 'B. Disease Grading/1. Original Images/b. Testing Set/IDRiD_027.jpg', 'B. Disease Grading/1. Original Images/b. Testing Set/IDRiD_028.jpg', 'B. Disease Grading/1. Original Images/b. Testing Set/IDRiD_029.jpg', 'B. Disease Grading/1. Original Images/b. Testing Set/IDRiD_030.jpg', 'B. Disease Grading/1. Original Images/b. Testing Set/IDRiD_031.jpg', 'B. Disease Grading/1. Original Images/b. Testing Set/IDRiD_032.jpg', 'B. Disease Grading/1. Original Images/b. Testing Set/IDRiD_033.jpg', 'B. Disease Grading/1. Original Images/b. Testing Set/IDRiD_034.jpg', 'B. Disease Grading/1. Original Images/b. Testing Set/IDRiD_035.jpg', 'B. Disease Grading/1. Original Images/b. Testing Set/IDRiD_036.jpg', 'B. Disease Grading/1. Original Images/b. Testing Set/IDRiD_037.jpg', 'B. Disease Grading/1. Original Images/b. Testing Set/IDRiD_038.jpg', 'B. Disease Grading/1. Original Images/b. Testing Set/IDRiD_039.jpg', 'B. Disease Grading/1. Original Images/b. Testing Set/IDRiD_040.jpg', 'B. Disease Grading/1. Original Images/b. Testing Set/IDRiD_041.jpg', 'B. Disease Grading/1. Original Images/b. Testing Set/IDRiD_042.jpg', 'B. Disease Grading/1. Original Images/b. Testing Set/IDRiD_043.jpg', 'B. Disease Grading/1. Original Images/b. Testing Set/IDRiD_044.jpg', 'B. Disease Grading/1. Original Images/b. Testing Set/IDRiD_045.jpg', 'B. Disease Grading/1. Original Images/b. Testing Set/IDRiD_046.jpg', 'B. Disease Grading/1. Original Images/b. Testing Set/IDRiD_047.jpg', 'B. Disease Grading/1. Original Images/b. Testing Set/IDRiD_048.jpg', 'B. Disease Grading/1. Original Images/b. Testing Set/IDRiD_049.jpg', 'B. Disease Grading/1. Original Images/b. Testing Set/IDRiD_050.jpg', 'B. Disease Grading/1. Original Images/b. Testing Set/IDRiD_051.jpg', 'B. Disease Grading/1. Original Images/b. Testing Set/IDRiD_052.jpg', 'B. Disease Grading/1. Original Images/b. Testing Set/IDRiD_053.jpg', 'B. Disease Grading/1. Original Images/b. Testing Set/IDRiD_054.jpg', 'B. Disease Grading/1. Original Images/b. Testing Set/IDRiD_055.jpg', 'B. Disease Grading/1. Original Images/b. Testing Set/IDRiD_056.jpg', 'B. Disease Grading/1. Original Images/b. Testing Set/IDRiD_057.jpg', 'B. Disease Grading/1. Original Images/b. Testing Set/IDRiD_058.jpg', 'B. Disease Grading/1. Original Images/b. Testing Set/IDRiD_059.jpg', 'B. Disease Grading/1. Original Images/b. Testing Set/IDRiD_060.jpg', 'B. Disease Grading/1. Original Images/b. Testing Set/IDRiD_061.jpg', 'B. Disease Grading/1. Original Images/b. Testing Set/IDRiD_062.jpg', 'B. Disease Grading/1. Original Images/b. Testing Set/IDRiD_063.jpg', 'B. Disease Grading/1. Original Images/b. Testing Set/IDRiD_064.jpg', 'B. Disease Grading/1. Original Images/b. Testing Set/IDRiD_065.jpg', 'B. Disease Grading/1. Original Images/b. Testing Set/IDRiD_066.jpg', 'B. Disease Grading/1. Original Images/b. Testing Set/IDRiD_067.jpg', 'B. Disease Grading/1. Original Images/b. Testing Set/IDRiD_068.jpg', 'B. Disease Grading/1. Original Images/b. Testing Set/IDRiD_069.jpg', 'B. Disease Grading/1. Original Images/b. Testing Set/IDRiD_070.jpg', 'B. Disease Grading/1. Original Images/b. Testing Set/IDRiD_071.jpg', 'B. Disease Grading/1. Original Images/b. Testing Set/IDRiD_072.jpg', 'B. Disease Grading/1. Original Images/b. Testing Set/IDRiD_073.jpg', 'B. Disease Grading/1. Original Images/b. Testing Set/IDRiD_074.jpg', 'B. Disease Grading/1. Original Images/b. Testing Set/IDRiD_075.jpg', 'B. Disease Grading/1. Original Images/b. Testing Set/IDRiD_076.jpg', 'B. Disease Grading/1. Original Images/b. Testing Set/IDRiD_077.jpg', 'B. Disease Grading/1. Original Images/b. Testing Set/IDRiD_078.jpg', 'B. Disease Grading/1. Original Images/b. Testing Set/IDRiD_079.jpg', 'B. Disease Grading/1. Original Images/b. Testing Set/IDRiD_080.jpg', 'B. Disease Grading/1. Original Images/b. Testing Set/IDRiD_081.jpg', 'B. Disease Grading/1. Original Images/b. Testing Set/IDRiD_082.jpg', 'B. Disease Grading/1. Original Images/b. Testing Set/IDRiD_083.jpg', 'B. Disease Grading/1. Original Images/b. Testing Set/IDRiD_084.jpg', 'B. Disease Grading/1. Original Images/b. Testing Set/IDRiD_085.jpg', 'B. Disease Grading/1. Original Images/b. Testing Set/IDRiD_086.jpg', 'B. Disease Grading/1. Original Images/b. Testing Set/IDRiD_087.jpg', 'B. Disease Grading/1. Original Images/b. Testing Set/IDRiD_088.jpg', 'B. Disease Grading/1. Original Images/b. Testing Set/IDRiD_089.jpg', 'B. Disease Grading/1. Original Images/b. Testing Set/IDRiD_090.jpg', 'B. Disease Grading/1. Original Images/b. Testing Set/IDRiD_091.jpg', 'B. Disease Grading/1. Original Images/b. Testing Set/IDRiD_092.jpg', 'B. Disease Grading/1. Original Images/b. Testing Set/IDRiD_093.jpg', 'B. Disease Grading/1. Original Images/b. Testing Set/IDRiD_094.jpg', 'B. Disease Grading/1. Original Images/b. Testing Set/IDRiD_095.jpg', 'B. Disease Grading/1. Original Images/b. Testing Set/IDRiD_096.jpg', 'B. Disease Grading/1. Original Images/b. Testing Set/IDRiD_097.jpg', 'B. Disease Grading/1. Original Images/b. Testing Set/IDRiD_098.jpg', 'B. Disease Grading/1. Original Images/b. Testing Set/IDRiD_099.jpg', 'B. Disease Grading/1. Original Images/b. Testing Set/IDRiD_100.jpg', 'B. Disease Grading/1. Original Images/b. Testing Set/IDRiD_101.jpg', 'B. Disease Grading/1. Original Images/b. Testing Set/IDRiD_102.jpg', 'B. Disease Grading/1. Original Images/b. Testing Set/IDRiD_103.jpg', 'B. Disease Grading/2. Groundtruths/', 'B. Disease Grading/2. Groundtruths/a. IDRiD_Disease Grading_Training Labels.csv', 'B. Disease Grading/2. Groundtruths/b. IDRiD_Disease Grading_Testing Labels.csv', 'B. Disease Grading/LICENSE.txt', 'B. Disease Grading/CC-BY-4.0.txt']\n",
            "B. Disease Grading/ - Size: 0 bytes\n",
            "B. Disease Grading/1. Original Images/ - Size: 0 bytes\n",
            "B. Disease Grading/1. Original Images/a. Training Set/ - Size: 0 bytes\n",
            "B. Disease Grading/1. Original Images/a. Training Set/IDRiD_001.jpg - Size: 409680 bytes\n",
            "B. Disease Grading/1. Original Images/a. Training Set/IDRiD_002.jpg - Size: 401441 bytes\n",
            "B. Disease Grading/1. Original Images/a. Training Set/IDRiD_003.jpg - Size: 281144 bytes\n",
            "B. Disease Grading/1. Original Images/a. Training Set/IDRiD_004.jpg - Size: 395323 bytes\n",
            "B. Disease Grading/1. Original Images/a. Training Set/IDRiD_005.jpg - Size: 393218 bytes\n",
            "B. Disease Grading/1. Original Images/a. Training Set/IDRiD_006.jpg - Size: 408137 bytes\n",
            "B. Disease Grading/1. Original Images/a. Training Set/IDRiD_007.jpg - Size: 387660 bytes\n",
            "B. Disease Grading/1. Original Images/a. Training Set/IDRiD_008.jpg - Size: 429864 bytes\n",
            "B. Disease Grading/1. Original Images/a. Training Set/IDRiD_009.jpg - Size: 384042 bytes\n",
            "B. Disease Grading/1. Original Images/a. Training Set/IDRiD_010.jpg - Size: 383121 bytes\n",
            "B. Disease Grading/1. Original Images/a. Training Set/IDRiD_011.jpg - Size: 377456 bytes\n",
            "B. Disease Grading/1. Original Images/a. Training Set/IDRiD_012.jpg - Size: 403241 bytes\n",
            "B. Disease Grading/1. Original Images/a. Training Set/IDRiD_013.jpg - Size: 380018 bytes\n",
            "B. Disease Grading/1. Original Images/a. Training Set/IDRiD_014.jpg - Size: 281643 bytes\n",
            "B. Disease Grading/1. Original Images/a. Training Set/IDRiD_015.jpg - Size: 387025 bytes\n",
            "B. Disease Grading/1. Original Images/a. Training Set/IDRiD_016.jpg - Size: 289174 bytes\n",
            "B. Disease Grading/1. Original Images/a. Training Set/IDRiD_017.jpg - Size: 252381 bytes\n",
            "B. Disease Grading/1. Original Images/a. Training Set/IDRiD_018.jpg - Size: 249894 bytes\n",
            "B. Disease Grading/1. Original Images/a. Training Set/IDRiD_019.jpg - Size: 258229 bytes\n",
            "B. Disease Grading/1. Original Images/a. Training Set/IDRiD_020.jpg - Size: 389629 bytes\n",
            "B. Disease Grading/1. Original Images/a. Training Set/IDRiD_021.jpg - Size: 385284 bytes\n",
            "B. Disease Grading/1. Original Images/a. Training Set/IDRiD_022.jpg - Size: 408433 bytes\n",
            "B. Disease Grading/1. Original Images/a. Training Set/IDRiD_023.jpg - Size: 434414 bytes\n",
            "B. Disease Grading/1. Original Images/a. Training Set/IDRiD_024.jpg - Size: 424115 bytes\n",
            "B. Disease Grading/1. Original Images/a. Training Set/IDRiD_025.jpg - Size: 357721 bytes\n",
            "B. Disease Grading/1. Original Images/a. Training Set/IDRiD_026.jpg - Size: 346824 bytes\n",
            "B. Disease Grading/1. Original Images/a. Training Set/IDRiD_027.jpg - Size: 382645 bytes\n",
            "B. Disease Grading/1. Original Images/a. Training Set/IDRiD_028.jpg - Size: 398771 bytes\n",
            "B. Disease Grading/1. Original Images/a. Training Set/IDRiD_029.jpg - Size: 419754 bytes\n",
            "B. Disease Grading/1. Original Images/a. Training Set/IDRiD_030.jpg - Size: 264554 bytes\n",
            "B. Disease Grading/1. Original Images/a. Training Set/IDRiD_031.jpg - Size: 293428 bytes\n",
            "B. Disease Grading/1. Original Images/a. Training Set/IDRiD_032.jpg - Size: 383186 bytes\n",
            "B. Disease Grading/1. Original Images/a. Training Set/IDRiD_033.jpg - Size: 388052 bytes\n",
            "B. Disease Grading/1. Original Images/a. Training Set/IDRiD_034.jpg - Size: 411353 bytes\n",
            "B. Disease Grading/1. Original Images/a. Training Set/IDRiD_035.jpg - Size: 386451 bytes\n",
            "B. Disease Grading/1. Original Images/a. Training Set/IDRiD_036.jpg - Size: 367392 bytes\n",
            "B. Disease Grading/1. Original Images/a. Training Set/IDRiD_037.jpg - Size: 370230 bytes\n",
            "B. Disease Grading/1. Original Images/a. Training Set/IDRiD_038.jpg - Size: 374929 bytes\n",
            "B. Disease Grading/1. Original Images/a. Training Set/IDRiD_039.jpg - Size: 419868 bytes\n",
            "B. Disease Grading/1. Original Images/a. Training Set/IDRiD_040.jpg - Size: 420009 bytes\n",
            "B. Disease Grading/1. Original Images/a. Training Set/IDRiD_041.jpg - Size: 303320 bytes\n",
            "B. Disease Grading/1. Original Images/a. Training Set/IDRiD_042.jpg - Size: 325596 bytes\n",
            "B. Disease Grading/1. Original Images/a. Training Set/IDRiD_043.jpg - Size: 373203 bytes\n",
            "B. Disease Grading/1. Original Images/a. Training Set/IDRiD_044.jpg - Size: 394872 bytes\n",
            "B. Disease Grading/1. Original Images/a. Training Set/IDRiD_045.jpg - Size: 400123 bytes\n",
            "B. Disease Grading/1. Original Images/a. Training Set/IDRiD_046.jpg - Size: 369242 bytes\n",
            "B. Disease Grading/1. Original Images/a. Training Set/IDRiD_047.jpg - Size: 389213 bytes\n",
            "B. Disease Grading/1. Original Images/a. Training Set/IDRiD_048.jpg - Size: 415621 bytes\n",
            "B. Disease Grading/1. Original Images/a. Training Set/IDRiD_049.jpg - Size: 399571 bytes\n",
            "B. Disease Grading/1. Original Images/a. Training Set/IDRiD_050.jpg - Size: 395672 bytes\n",
            "B. Disease Grading/1. Original Images/a. Training Set/IDRiD_051.jpg - Size: 345905 bytes\n",
            "B. Disease Grading/1. Original Images/a. Training Set/IDRiD_052.jpg - Size: 284901 bytes\n",
            "B. Disease Grading/1. Original Images/a. Training Set/IDRiD_053.jpg - Size: 429868 bytes\n",
            "B. Disease Grading/1. Original Images/a. Training Set/IDRiD_054.jpg - Size: 386609 bytes\n",
            "B. Disease Grading/1. Original Images/a. Training Set/IDRiD_055.jpg - Size: 385835 bytes\n",
            "B. Disease Grading/1. Original Images/a. Training Set/IDRiD_056.jpg - Size: 288061 bytes\n",
            "B. Disease Grading/1. Original Images/a. Training Set/IDRiD_057.jpg - Size: 445596 bytes\n",
            "B. Disease Grading/1. Original Images/a. Training Set/IDRiD_058.jpg - Size: 422586 bytes\n",
            "B. Disease Grading/1. Original Images/a. Training Set/IDRiD_059.jpg - Size: 341367 bytes\n",
            "B. Disease Grading/1. Original Images/a. Training Set/IDRiD_060.jpg - Size: 405183 bytes\n",
            "B. Disease Grading/1. Original Images/a. Training Set/IDRiD_061.jpg - Size: 376973 bytes\n",
            "B. Disease Grading/1. Original Images/a. Training Set/IDRiD_062.jpg - Size: 407043 bytes\n",
            "B. Disease Grading/1. Original Images/a. Training Set/IDRiD_063.jpg - Size: 373936 bytes\n",
            "B. Disease Grading/1. Original Images/a. Training Set/IDRiD_064.jpg - Size: 364554 bytes\n",
            "B. Disease Grading/1. Original Images/a. Training Set/IDRiD_065.jpg - Size: 393215 bytes\n",
            "B. Disease Grading/1. Original Images/a. Training Set/IDRiD_066.jpg - Size: 417680 bytes\n",
            "B. Disease Grading/1. Original Images/a. Training Set/IDRiD_067.jpg - Size: 389474 bytes\n",
            "B. Disease Grading/1. Original Images/a. Training Set/IDRiD_068.jpg - Size: 387842 bytes\n",
            "B. Disease Grading/1. Original Images/a. Training Set/IDRiD_069.jpg - Size: 417792 bytes\n",
            "B. Disease Grading/1. Original Images/a. Training Set/IDRiD_070.jpg - Size: 395490 bytes\n",
            "B. Disease Grading/1. Original Images/a. Training Set/IDRiD_071.jpg - Size: 392416 bytes\n",
            "B. Disease Grading/1. Original Images/a. Training Set/IDRiD_072.jpg - Size: 403409 bytes\n",
            "B. Disease Grading/1. Original Images/a. Training Set/IDRiD_073.jpg - Size: 391322 bytes\n",
            "B. Disease Grading/1. Original Images/a. Training Set/IDRiD_074.jpg - Size: 394383 bytes\n",
            "B. Disease Grading/1. Original Images/a. Training Set/IDRiD_075.jpg - Size: 329252 bytes\n",
            "B. Disease Grading/1. Original Images/a. Training Set/IDRiD_076.jpg - Size: 298205 bytes\n",
            "B. Disease Grading/1. Original Images/a. Training Set/IDRiD_077.jpg - Size: 361389 bytes\n",
            "B. Disease Grading/1. Original Images/a. Training Set/IDRiD_078.jpg - Size: 380133 bytes\n",
            "B. Disease Grading/1. Original Images/a. Training Set/IDRiD_079.jpg - Size: 431886 bytes\n",
            "B. Disease Grading/1. Original Images/a. Training Set/IDRiD_080.jpg - Size: 424169 bytes\n",
            "B. Disease Grading/1. Original Images/a. Training Set/IDRiD_081.jpg - Size: 336280 bytes\n",
            "B. Disease Grading/1. Original Images/a. Training Set/IDRiD_082.jpg - Size: 392698 bytes\n",
            "B. Disease Grading/1. Original Images/a. Training Set/IDRiD_083.jpg - Size: 380551 bytes\n",
            "B. Disease Grading/1. Original Images/a. Training Set/IDRiD_084.jpg - Size: 387929 bytes\n",
            "B. Disease Grading/1. Original Images/a. Training Set/IDRiD_085.jpg - Size: 371769 bytes\n",
            "B. Disease Grading/1. Original Images/a. Training Set/IDRiD_086.jpg - Size: 352354 bytes\n",
            "B. Disease Grading/1. Original Images/a. Training Set/IDRiD_087.jpg - Size: 357008 bytes\n",
            "B. Disease Grading/1. Original Images/a. Training Set/IDRiD_088.jpg - Size: 391934 bytes\n",
            "B. Disease Grading/1. Original Images/a. Training Set/IDRiD_089.jpg - Size: 283517 bytes\n",
            "B. Disease Grading/1. Original Images/a. Training Set/IDRiD_090.jpg - Size: 293695 bytes\n",
            "B. Disease Grading/1. Original Images/a. Training Set/IDRiD_091.jpg - Size: 395211 bytes\n",
            "B. Disease Grading/1. Original Images/a. Training Set/IDRiD_092.jpg - Size: 434710 bytes\n",
            "B. Disease Grading/1. Original Images/a. Training Set/IDRiD_093.jpg - Size: 415063 bytes\n",
            "B. Disease Grading/1. Original Images/a. Training Set/IDRiD_094.jpg - Size: 384759 bytes\n",
            "B. Disease Grading/1. Original Images/a. Training Set/IDRiD_095.jpg - Size: 366395 bytes\n",
            "B. Disease Grading/1. Original Images/a. Training Set/IDRiD_096.jpg - Size: 387359 bytes\n",
            "B. Disease Grading/1. Original Images/a. Training Set/IDRiD_097.jpg - Size: 375045 bytes\n",
            "B. Disease Grading/1. Original Images/a. Training Set/IDRiD_098.jpg - Size: 334248 bytes\n",
            "B. Disease Grading/1. Original Images/a. Training Set/IDRiD_099.jpg - Size: 331604 bytes\n",
            "B. Disease Grading/1. Original Images/a. Training Set/IDRiD_100.jpg - Size: 380561 bytes\n",
            "B. Disease Grading/1. Original Images/a. Training Set/IDRiD_101.jpg - Size: 409123 bytes\n",
            "B. Disease Grading/1. Original Images/a. Training Set/IDRiD_102.jpg - Size: 389787 bytes\n",
            "B. Disease Grading/1. Original Images/a. Training Set/IDRiD_103.jpg - Size: 388441 bytes\n",
            "B. Disease Grading/1. Original Images/a. Training Set/IDRiD_104.jpg - Size: 385975 bytes\n",
            "B. Disease Grading/1. Original Images/a. Training Set/IDRiD_105.jpg - Size: 402710 bytes\n",
            "B. Disease Grading/1. Original Images/a. Training Set/IDRiD_106.jpg - Size: 351769 bytes\n",
            "B. Disease Grading/1. Original Images/a. Training Set/IDRiD_107.jpg - Size: 259079 bytes\n",
            "B. Disease Grading/1. Original Images/a. Training Set/IDRiD_108.jpg - Size: 398199 bytes\n",
            "B. Disease Grading/1. Original Images/a. Training Set/IDRiD_109.jpg - Size: 259781 bytes\n",
            "B. Disease Grading/1. Original Images/a. Training Set/IDRiD_110.jpg - Size: 268902 bytes\n",
            "B. Disease Grading/1. Original Images/a. Training Set/IDRiD_111.jpg - Size: 240444 bytes\n",
            "B. Disease Grading/1. Original Images/a. Training Set/IDRiD_112.jpg - Size: 408349 bytes\n",
            "B. Disease Grading/1. Original Images/a. Training Set/IDRiD_113.jpg - Size: 386786 bytes\n",
            "B. Disease Grading/1. Original Images/a. Training Set/IDRiD_114.jpg - Size: 383724 bytes\n",
            "B. Disease Grading/1. Original Images/a. Training Set/IDRiD_115.jpg - Size: 399496 bytes\n",
            "B. Disease Grading/1. Original Images/a. Training Set/IDRiD_116.jpg - Size: 405430 bytes\n",
            "B. Disease Grading/1. Original Images/a. Training Set/IDRiD_117.jpg - Size: 407666 bytes\n",
            "B. Disease Grading/1. Original Images/a. Training Set/IDRiD_118.jpg - Size: 406805 bytes\n",
            "B. Disease Grading/1. Original Images/a. Training Set/IDRiD_119.jpg - Size: 392153 bytes\n",
            "B. Disease Grading/1. Original Images/a. Training Set/IDRiD_120.jpg - Size: 398499 bytes\n",
            "B. Disease Grading/1. Original Images/a. Training Set/IDRiD_121.jpg - Size: 403082 bytes\n",
            "B. Disease Grading/1. Original Images/a. Training Set/IDRiD_122.jpg - Size: 369480 bytes\n",
            "B. Disease Grading/1. Original Images/a. Training Set/IDRiD_123.jpg - Size: 403291 bytes\n",
            "B. Disease Grading/1. Original Images/a. Training Set/IDRiD_124.jpg - Size: 626989 bytes\n",
            "B. Disease Grading/1. Original Images/a. Training Set/IDRiD_125.jpg - Size: 389239 bytes\n",
            "B. Disease Grading/1. Original Images/a. Training Set/IDRiD_126.jpg - Size: 405682 bytes\n",
            "B. Disease Grading/1. Original Images/a. Training Set/IDRiD_127.jpg - Size: 309217 bytes\n",
            "B. Disease Grading/1. Original Images/a. Training Set/IDRiD_128.jpg - Size: 392993 bytes\n",
            "B. Disease Grading/1. Original Images/a. Training Set/IDRiD_129.jpg - Size: 395310 bytes\n",
            "B. Disease Grading/1. Original Images/a. Training Set/IDRiD_130.jpg - Size: 382215 bytes\n",
            "B. Disease Grading/1. Original Images/a. Training Set/IDRiD_131.jpg - Size: 371780 bytes\n",
            "B. Disease Grading/1. Original Images/a. Training Set/IDRiD_132.jpg - Size: 772640 bytes\n",
            "B. Disease Grading/1. Original Images/a. Training Set/IDRiD_133.jpg - Size: 291774 bytes\n",
            "B. Disease Grading/1. Original Images/a. Training Set/IDRiD_134.jpg - Size: 416599 bytes\n",
            "B. Disease Grading/1. Original Images/a. Training Set/IDRiD_135.jpg - Size: 398205 bytes\n",
            "B. Disease Grading/1. Original Images/a. Training Set/IDRiD_136.jpg - Size: 278312 bytes\n",
            "B. Disease Grading/1. Original Images/a. Training Set/IDRiD_137.jpg - Size: 254411 bytes\n",
            "B. Disease Grading/1. Original Images/a. Training Set/IDRiD_138.jpg - Size: 407935 bytes\n",
            "B. Disease Grading/1. Original Images/a. Training Set/IDRiD_139.jpg - Size: 403799 bytes\n",
            "B. Disease Grading/1. Original Images/a. Training Set/IDRiD_140.jpg - Size: 402874 bytes\n",
            "B. Disease Grading/1. Original Images/a. Training Set/IDRiD_141.jpg - Size: 421389 bytes\n",
            "B. Disease Grading/1. Original Images/a. Training Set/IDRiD_142.jpg - Size: 414217 bytes\n",
            "B. Disease Grading/1. Original Images/a. Training Set/IDRiD_143.jpg - Size: 420594 bytes\n",
            "B. Disease Grading/1. Original Images/a. Training Set/IDRiD_144.jpg - Size: 439273 bytes\n",
            "B. Disease Grading/1. Original Images/a. Training Set/IDRiD_145.jpg - Size: 436652 bytes\n",
            "B. Disease Grading/1. Original Images/a. Training Set/IDRiD_146.jpg - Size: 357271 bytes\n",
            "B. Disease Grading/1. Original Images/a. Training Set/IDRiD_147.jpg - Size: 344504 bytes\n",
            "B. Disease Grading/1. Original Images/a. Training Set/IDRiD_148.jpg - Size: 326269 bytes\n",
            "B. Disease Grading/1. Original Images/a. Training Set/IDRiD_149.jpg - Size: 344187 bytes\n",
            "B. Disease Grading/1. Original Images/a. Training Set/IDRiD_150.jpg - Size: 384566 bytes\n",
            "B. Disease Grading/1. Original Images/a. Training Set/IDRiD_151.jpg - Size: 382795 bytes\n",
            "B. Disease Grading/1. Original Images/a. Training Set/IDRiD_152.jpg - Size: 380699 bytes\n",
            "B. Disease Grading/1. Original Images/a. Training Set/IDRiD_153.jpg - Size: 250151 bytes\n",
            "B. Disease Grading/1. Original Images/a. Training Set/IDRiD_154.jpg - Size: 258061 bytes\n",
            "B. Disease Grading/1. Original Images/a. Training Set/IDRiD_155.jpg - Size: 378690 bytes\n",
            "B. Disease Grading/1. Original Images/a. Training Set/IDRiD_156.jpg - Size: 811059 bytes\n",
            "B. Disease Grading/1. Original Images/a. Training Set/IDRiD_157.jpg - Size: 386615 bytes\n",
            "B. Disease Grading/1. Original Images/a. Training Set/IDRiD_158.jpg - Size: 790525 bytes\n",
            "B. Disease Grading/1. Original Images/a. Training Set/IDRiD_159.jpg - Size: 376928 bytes\n",
            "B. Disease Grading/1. Original Images/a. Training Set/IDRiD_160.jpg - Size: 281282 bytes\n",
            "B. Disease Grading/1. Original Images/a. Training Set/IDRiD_161.jpg - Size: 354540 bytes\n",
            "B. Disease Grading/1. Original Images/a. Training Set/IDRiD_162.jpg - Size: 407787 bytes\n",
            "B. Disease Grading/1. Original Images/a. Training Set/IDRiD_163.jpg - Size: 394846 bytes\n",
            "B. Disease Grading/1. Original Images/a. Training Set/IDRiD_164.jpg - Size: 373084 bytes\n",
            "B. Disease Grading/1. Original Images/a. Training Set/IDRiD_165.jpg - Size: 380818 bytes\n",
            "B. Disease Grading/1. Original Images/a. Training Set/IDRiD_166.jpg - Size: 401560 bytes\n",
            "B. Disease Grading/1. Original Images/a. Training Set/IDRiD_167.jpg - Size: 395929 bytes\n",
            "B. Disease Grading/1. Original Images/a. Training Set/IDRiD_168.jpg - Size: 385208 bytes\n",
            "B. Disease Grading/1. Original Images/a. Training Set/IDRiD_169.jpg - Size: 406091 bytes\n",
            "B. Disease Grading/1. Original Images/a. Training Set/IDRiD_170.jpg - Size: 384330 bytes\n",
            "B. Disease Grading/1. Original Images/a. Training Set/IDRiD_171.jpg - Size: 373195 bytes\n",
            "B. Disease Grading/1. Original Images/a. Training Set/IDRiD_172.jpg - Size: 391867 bytes\n",
            "B. Disease Grading/1. Original Images/a. Training Set/IDRiD_173.jpg - Size: 379114 bytes\n",
            "B. Disease Grading/1. Original Images/a. Training Set/IDRiD_174.jpg - Size: 394906 bytes\n",
            "B. Disease Grading/1. Original Images/a. Training Set/IDRiD_175.jpg - Size: 397252 bytes\n",
            "B. Disease Grading/1. Original Images/a. Training Set/IDRiD_176.jpg - Size: 383990 bytes\n",
            "B. Disease Grading/1. Original Images/a. Training Set/IDRiD_177.jpg - Size: 790842 bytes\n",
            "B. Disease Grading/1. Original Images/a. Training Set/IDRiD_178.jpg - Size: 393265 bytes\n",
            "B. Disease Grading/1. Original Images/a. Training Set/IDRiD_179.jpg - Size: 397276 bytes\n",
            "B. Disease Grading/1. Original Images/a. Training Set/IDRiD_180.jpg - Size: 443672 bytes\n",
            "B. Disease Grading/1. Original Images/a. Training Set/IDRiD_181.jpg - Size: 372450 bytes\n",
            "B. Disease Grading/1. Original Images/a. Training Set/IDRiD_182.jpg - Size: 384667 bytes\n",
            "B. Disease Grading/1. Original Images/a. Training Set/IDRiD_183.jpg - Size: 357073 bytes\n",
            "B. Disease Grading/1. Original Images/a. Training Set/IDRiD_184.jpg - Size: 378211 bytes\n",
            "B. Disease Grading/1. Original Images/a. Training Set/IDRiD_185.jpg - Size: 434417 bytes\n",
            "B. Disease Grading/1. Original Images/a. Training Set/IDRiD_186.jpg - Size: 450980 bytes\n",
            "B. Disease Grading/1. Original Images/a. Training Set/IDRiD_187.jpg - Size: 368764 bytes\n",
            "B. Disease Grading/1. Original Images/a. Training Set/IDRiD_188.jpg - Size: 418775 bytes\n",
            "B. Disease Grading/1. Original Images/a. Training Set/IDRiD_189.jpg - Size: 374696 bytes\n",
            "B. Disease Grading/1. Original Images/a. Training Set/IDRiD_190.jpg - Size: 393615 bytes\n",
            "B. Disease Grading/1. Original Images/a. Training Set/IDRiD_191.jpg - Size: 339706 bytes\n",
            "B. Disease Grading/1. Original Images/a. Training Set/IDRiD_192.jpg - Size: 362575 bytes\n",
            "B. Disease Grading/1. Original Images/a. Training Set/IDRiD_193.jpg - Size: 439423 bytes\n",
            "B. Disease Grading/1. Original Images/a. Training Set/IDRiD_194.jpg - Size: 427604 bytes\n",
            "B. Disease Grading/1. Original Images/a. Training Set/IDRiD_195.jpg - Size: 447634 bytes\n",
            "B. Disease Grading/1. Original Images/a. Training Set/IDRiD_196.jpg - Size: 374501 bytes\n",
            "B. Disease Grading/1. Original Images/a. Training Set/IDRiD_197.jpg - Size: 414539 bytes\n",
            "B. Disease Grading/1. Original Images/a. Training Set/IDRiD_198.jpg - Size: 461104 bytes\n",
            "B. Disease Grading/1. Original Images/a. Training Set/IDRiD_199.jpg - Size: 440715 bytes\n",
            "B. Disease Grading/1. Original Images/a. Training Set/IDRiD_200.jpg - Size: 385339 bytes\n",
            "B. Disease Grading/1. Original Images/a. Training Set/IDRiD_201.jpg - Size: 443496 bytes\n",
            "B. Disease Grading/1. Original Images/a. Training Set/IDRiD_202.jpg - Size: 434155 bytes\n",
            "B. Disease Grading/1. Original Images/a. Training Set/IDRiD_203.jpg - Size: 396205 bytes\n",
            "B. Disease Grading/1. Original Images/a. Training Set/IDRiD_204.jpg - Size: 466961 bytes\n",
            "B. Disease Grading/1. Original Images/a. Training Set/IDRiD_205.jpg - Size: 518688 bytes\n",
            "B. Disease Grading/1. Original Images/a. Training Set/IDRiD_206.jpg - Size: 385758 bytes\n",
            "B. Disease Grading/1. Original Images/a. Training Set/IDRiD_207.jpg - Size: 384948 bytes\n",
            "B. Disease Grading/1. Original Images/a. Training Set/IDRiD_208.jpg - Size: 370598 bytes\n",
            "B. Disease Grading/1. Original Images/a. Training Set/IDRiD_209.jpg - Size: 503798 bytes\n",
            "B. Disease Grading/1. Original Images/a. Training Set/IDRiD_210.jpg - Size: 449278 bytes\n",
            "B. Disease Grading/1. Original Images/a. Training Set/IDRiD_211.jpg - Size: 445057 bytes\n",
            "B. Disease Grading/1. Original Images/a. Training Set/IDRiD_212.jpg - Size: 458033 bytes\n",
            "B. Disease Grading/1. Original Images/a. Training Set/IDRiD_213.jpg - Size: 387126 bytes\n",
            "B. Disease Grading/1. Original Images/a. Training Set/IDRiD_214.jpg - Size: 350812 bytes\n",
            "B. Disease Grading/1. Original Images/a. Training Set/IDRiD_215.jpg - Size: 446450 bytes\n",
            "B. Disease Grading/1. Original Images/a. Training Set/IDRiD_216.jpg - Size: 348123 bytes\n",
            "B. Disease Grading/1. Original Images/a. Training Set/IDRiD_217.jpg - Size: 434212 bytes\n",
            "B. Disease Grading/1. Original Images/a. Training Set/IDRiD_218.jpg - Size: 474770 bytes\n",
            "B. Disease Grading/1. Original Images/a. Training Set/IDRiD_219.jpg - Size: 452534 bytes\n",
            "B. Disease Grading/1. Original Images/a. Training Set/IDRiD_220.jpg - Size: 402384 bytes\n",
            "B. Disease Grading/1. Original Images/a. Training Set/IDRiD_221.jpg - Size: 472195 bytes\n",
            "B. Disease Grading/1. Original Images/a. Training Set/IDRiD_222.jpg - Size: 466572 bytes\n",
            "B. Disease Grading/1. Original Images/a. Training Set/IDRiD_223.jpg - Size: 368776 bytes\n",
            "B. Disease Grading/1. Original Images/a. Training Set/IDRiD_224.jpg - Size: 403184 bytes\n",
            "B. Disease Grading/1. Original Images/a. Training Set/IDRiD_225.jpg - Size: 493955 bytes\n",
            "B. Disease Grading/1. Original Images/a. Training Set/IDRiD_226.jpg - Size: 450917 bytes\n",
            "B. Disease Grading/1. Original Images/a. Training Set/IDRiD_227.jpg - Size: 399234 bytes\n",
            "B. Disease Grading/1. Original Images/a. Training Set/IDRiD_228.jpg - Size: 414302 bytes\n",
            "B. Disease Grading/1. Original Images/a. Training Set/IDRiD_229.jpg - Size: 441109 bytes\n",
            "B. Disease Grading/1. Original Images/a. Training Set/IDRiD_230.jpg - Size: 446615 bytes\n",
            "B. Disease Grading/1. Original Images/a. Training Set/IDRiD_231.jpg - Size: 400092 bytes\n",
            "B. Disease Grading/1. Original Images/a. Training Set/IDRiD_232.jpg - Size: 392570 bytes\n",
            "B. Disease Grading/1. Original Images/a. Training Set/IDRiD_233.jpg - Size: 503521 bytes\n",
            "B. Disease Grading/1. Original Images/a. Training Set/IDRiD_234.jpg - Size: 500653 bytes\n",
            "B. Disease Grading/1. Original Images/a. Training Set/IDRiD_235.jpg - Size: 523750 bytes\n",
            "B. Disease Grading/1. Original Images/a. Training Set/IDRiD_236.jpg - Size: 324066 bytes\n",
            "B. Disease Grading/1. Original Images/a. Training Set/IDRiD_237.jpg - Size: 325729 bytes\n",
            "B. Disease Grading/1. Original Images/a. Training Set/IDRiD_238.jpg - Size: 471645 bytes\n",
            "B. Disease Grading/1. Original Images/a. Training Set/IDRiD_239.jpg - Size: 394019 bytes\n",
            "B. Disease Grading/1. Original Images/a. Training Set/IDRiD_240.jpg - Size: 392430 bytes\n",
            "B. Disease Grading/1. Original Images/a. Training Set/IDRiD_241.jpg - Size: 384853 bytes\n",
            "B. Disease Grading/1. Original Images/a. Training Set/IDRiD_242.jpg - Size: 410712 bytes\n",
            "B. Disease Grading/1. Original Images/a. Training Set/IDRiD_243.jpg - Size: 457972 bytes\n",
            "B. Disease Grading/1. Original Images/a. Training Set/IDRiD_244.jpg - Size: 449119 bytes\n",
            "B. Disease Grading/1. Original Images/a. Training Set/IDRiD_245.jpg - Size: 405237 bytes\n",
            "B. Disease Grading/1. Original Images/a. Training Set/IDRiD_246.jpg - Size: 399960 bytes\n",
            "B. Disease Grading/1. Original Images/a. Training Set/IDRiD_247.jpg - Size: 417095 bytes\n",
            "B. Disease Grading/1. Original Images/a. Training Set/IDRiD_248.jpg - Size: 407625 bytes\n",
            "B. Disease Grading/1. Original Images/a. Training Set/IDRiD_249.jpg - Size: 456658 bytes\n",
            "B. Disease Grading/1. Original Images/a. Training Set/IDRiD_250.jpg - Size: 421711 bytes\n",
            "B. Disease Grading/1. Original Images/a. Training Set/IDRiD_251.jpg - Size: 461661 bytes\n",
            "B. Disease Grading/1. Original Images/a. Training Set/IDRiD_252.jpg - Size: 434028 bytes\n",
            "B. Disease Grading/1. Original Images/a. Training Set/IDRiD_253.jpg - Size: 393207 bytes\n",
            "B. Disease Grading/1. Original Images/a. Training Set/IDRiD_254.jpg - Size: 418179 bytes\n",
            "B. Disease Grading/1. Original Images/a. Training Set/IDRiD_255.jpg - Size: 474029 bytes\n",
            "B. Disease Grading/1. Original Images/a. Training Set/IDRiD_256.jpg - Size: 462670 bytes\n",
            "B. Disease Grading/1. Original Images/a. Training Set/IDRiD_257.jpg - Size: 429543 bytes\n",
            "B. Disease Grading/1. Original Images/a. Training Set/IDRiD_258.jpg - Size: 400566 bytes\n",
            "B. Disease Grading/1. Original Images/a. Training Set/IDRiD_259.jpg - Size: 394820 bytes\n",
            "B. Disease Grading/1. Original Images/a. Training Set/IDRiD_260.jpg - Size: 455112 bytes\n",
            "B. Disease Grading/1. Original Images/a. Training Set/IDRiD_261.jpg - Size: 476840 bytes\n",
            "B. Disease Grading/1. Original Images/a. Training Set/IDRiD_262.jpg - Size: 430569 bytes\n",
            "B. Disease Grading/1. Original Images/a. Training Set/IDRiD_263.jpg - Size: 443938 bytes\n",
            "B. Disease Grading/1. Original Images/a. Training Set/IDRiD_264.jpg - Size: 480137 bytes\n",
            "B. Disease Grading/1. Original Images/a. Training Set/IDRiD_265.jpg - Size: 388236 bytes\n",
            "B. Disease Grading/1. Original Images/a. Training Set/IDRiD_266.jpg - Size: 394626 bytes\n",
            "B. Disease Grading/1. Original Images/a. Training Set/IDRiD_267.jpg - Size: 473463 bytes\n",
            "B. Disease Grading/1. Original Images/a. Training Set/IDRiD_268.jpg - Size: 425508 bytes\n",
            "B. Disease Grading/1. Original Images/a. Training Set/IDRiD_269.jpg - Size: 407821 bytes\n",
            "B. Disease Grading/1. Original Images/a. Training Set/IDRiD_270.jpg - Size: 398535 bytes\n",
            "B. Disease Grading/1. Original Images/a. Training Set/IDRiD_271.jpg - Size: 409163 bytes\n",
            "B. Disease Grading/1. Original Images/a. Training Set/IDRiD_272.jpg - Size: 442667 bytes\n",
            "B. Disease Grading/1. Original Images/a. Training Set/IDRiD_273.jpg - Size: 395492 bytes\n",
            "B. Disease Grading/1. Original Images/a. Training Set/IDRiD_274.jpg - Size: 302335 bytes\n",
            "B. Disease Grading/1. Original Images/a. Training Set/IDRiD_275.jpg - Size: 428821 bytes\n",
            "B. Disease Grading/1. Original Images/a. Training Set/IDRiD_276.jpg - Size: 499630 bytes\n",
            "B. Disease Grading/1. Original Images/a. Training Set/IDRiD_277.jpg - Size: 392822 bytes\n",
            "B. Disease Grading/1. Original Images/a. Training Set/IDRiD_278.jpg - Size: 399998 bytes\n",
            "B. Disease Grading/1. Original Images/a. Training Set/IDRiD_279.jpg - Size: 431886 bytes\n",
            "B. Disease Grading/1. Original Images/a. Training Set/IDRiD_280.jpg - Size: 430762 bytes\n",
            "B. Disease Grading/1. Original Images/a. Training Set/IDRiD_281.jpg - Size: 441880 bytes\n",
            "B. Disease Grading/1. Original Images/a. Training Set/IDRiD_282.jpg - Size: 406394 bytes\n",
            "B. Disease Grading/1. Original Images/a. Training Set/IDRiD_283.jpg - Size: 410050 bytes\n",
            "B. Disease Grading/1. Original Images/a. Training Set/IDRiD_284.jpg - Size: 397548 bytes\n",
            "B. Disease Grading/1. Original Images/a. Training Set/IDRiD_285.jpg - Size: 453574 bytes\n",
            "B. Disease Grading/1. Original Images/a. Training Set/IDRiD_286.jpg - Size: 438229 bytes\n",
            "B. Disease Grading/1. Original Images/a. Training Set/IDRiD_287.jpg - Size: 380982 bytes\n",
            "B. Disease Grading/1. Original Images/a. Training Set/IDRiD_288.jpg - Size: 403517 bytes\n",
            "B. Disease Grading/1. Original Images/a. Training Set/IDRiD_289.jpg - Size: 414137 bytes\n",
            "B. Disease Grading/1. Original Images/a. Training Set/IDRiD_290.jpg - Size: 442640 bytes\n",
            "B. Disease Grading/1. Original Images/a. Training Set/IDRiD_291.jpg - Size: 473404 bytes\n",
            "B. Disease Grading/1. Original Images/a. Training Set/IDRiD_292.jpg - Size: 482627 bytes\n",
            "B. Disease Grading/1. Original Images/a. Training Set/IDRiD_293.jpg - Size: 383517 bytes\n",
            "B. Disease Grading/1. Original Images/a. Training Set/IDRiD_294.jpg - Size: 401444 bytes\n",
            "B. Disease Grading/1. Original Images/a. Training Set/IDRiD_295.jpg - Size: 474322 bytes\n",
            "B. Disease Grading/1. Original Images/a. Training Set/IDRiD_296.jpg - Size: 443437 bytes\n",
            "B. Disease Grading/1. Original Images/a. Training Set/IDRiD_297.jpg - Size: 467767 bytes\n",
            "B. Disease Grading/1. Original Images/a. Training Set/IDRiD_298.jpg - Size: 452706 bytes\n",
            "B. Disease Grading/1. Original Images/a. Training Set/IDRiD_299.jpg - Size: 415301 bytes\n",
            "B. Disease Grading/1. Original Images/a. Training Set/IDRiD_300.jpg - Size: 445296 bytes\n",
            "B. Disease Grading/1. Original Images/a. Training Set/IDRiD_301.jpg - Size: 387542 bytes\n",
            "B. Disease Grading/1. Original Images/a. Training Set/IDRiD_302.jpg - Size: 381091 bytes\n",
            "B. Disease Grading/1. Original Images/a. Training Set/IDRiD_303.jpg - Size: 395891 bytes\n",
            "B. Disease Grading/1. Original Images/a. Training Set/IDRiD_304.jpg - Size: 400271 bytes\n",
            "B. Disease Grading/1. Original Images/a. Training Set/IDRiD_305.jpg - Size: 505499 bytes\n",
            "B. Disease Grading/1. Original Images/a. Training Set/IDRiD_306.jpg - Size: 420132 bytes\n",
            "B. Disease Grading/1. Original Images/a. Training Set/IDRiD_307.jpg - Size: 388912 bytes\n",
            "B. Disease Grading/1. Original Images/a. Training Set/IDRiD_308.jpg - Size: 435047 bytes\n",
            "B. Disease Grading/1. Original Images/a. Training Set/IDRiD_309.jpg - Size: 435316 bytes\n",
            "B. Disease Grading/1. Original Images/a. Training Set/IDRiD_310.jpg - Size: 401769 bytes\n",
            "B. Disease Grading/1. Original Images/a. Training Set/IDRiD_311.jpg - Size: 423033 bytes\n",
            "B. Disease Grading/1. Original Images/a. Training Set/IDRiD_312.jpg - Size: 483926 bytes\n",
            "B. Disease Grading/1. Original Images/a. Training Set/IDRiD_313.jpg - Size: 395185 bytes\n",
            "B. Disease Grading/1. Original Images/a. Training Set/IDRiD_314.jpg - Size: 398074 bytes\n",
            "B. Disease Grading/1. Original Images/a. Training Set/IDRiD_315.jpg - Size: 422581 bytes\n",
            "B. Disease Grading/1. Original Images/a. Training Set/IDRiD_316.jpg - Size: 417882 bytes\n",
            "B. Disease Grading/1. Original Images/a. Training Set/IDRiD_317.jpg - Size: 422578 bytes\n",
            "B. Disease Grading/1. Original Images/a. Training Set/IDRiD_318.jpg - Size: 455240 bytes\n",
            "B. Disease Grading/1. Original Images/a. Training Set/IDRiD_319.jpg - Size: 401086 bytes\n",
            "B. Disease Grading/1. Original Images/a. Training Set/IDRiD_320.jpg - Size: 317492 bytes\n",
            "B. Disease Grading/1. Original Images/a. Training Set/IDRiD_321.jpg - Size: 298303 bytes\n",
            "B. Disease Grading/1. Original Images/a. Training Set/IDRiD_322.jpg - Size: 333136 bytes\n",
            "B. Disease Grading/1. Original Images/a. Training Set/IDRiD_323.jpg - Size: 384140 bytes\n",
            "B. Disease Grading/1. Original Images/a. Training Set/IDRiD_324.jpg - Size: 393253 bytes\n",
            "B. Disease Grading/1. Original Images/a. Training Set/IDRiD_325.jpg - Size: 435770 bytes\n",
            "B. Disease Grading/1. Original Images/a. Training Set/IDRiD_326.jpg - Size: 463888 bytes\n",
            "B. Disease Grading/1. Original Images/a. Training Set/IDRiD_327.jpg - Size: 398771 bytes\n",
            "B. Disease Grading/1. Original Images/a. Training Set/IDRiD_328.jpg - Size: 420200 bytes\n",
            "B. Disease Grading/1. Original Images/a. Training Set/IDRiD_329.jpg - Size: 425947 bytes\n",
            "B. Disease Grading/1. Original Images/a. Training Set/IDRiD_330.jpg - Size: 416532 bytes\n",
            "B. Disease Grading/1. Original Images/a. Training Set/IDRiD_331.jpg - Size: 439487 bytes\n",
            "B. Disease Grading/1. Original Images/a. Training Set/IDRiD_332.jpg - Size: 345423 bytes\n",
            "B. Disease Grading/1. Original Images/a. Training Set/IDRiD_333.jpg - Size: 400123 bytes\n",
            "B. Disease Grading/1. Original Images/a. Training Set/IDRiD_334.jpg - Size: 398476 bytes\n",
            "B. Disease Grading/1. Original Images/a. Training Set/IDRiD_335.jpg - Size: 392111 bytes\n",
            "B. Disease Grading/1. Original Images/a. Training Set/IDRiD_336.jpg - Size: 380838 bytes\n",
            "B. Disease Grading/1. Original Images/a. Training Set/IDRiD_337.jpg - Size: 366445 bytes\n",
            "B. Disease Grading/1. Original Images/a. Training Set/IDRiD_338.jpg - Size: 397110 bytes\n",
            "B. Disease Grading/1. Original Images/a. Training Set/IDRiD_339.jpg - Size: 426124 bytes\n",
            "B. Disease Grading/1. Original Images/a. Training Set/IDRiD_340.jpg - Size: 395137 bytes\n",
            "B. Disease Grading/1. Original Images/a. Training Set/IDRiD_341.jpg - Size: 384319 bytes\n",
            "B. Disease Grading/1. Original Images/a. Training Set/IDRiD_342.jpg - Size: 413721 bytes\n",
            "B. Disease Grading/1. Original Images/a. Training Set/IDRiD_343.jpg - Size: 404461 bytes\n",
            "B. Disease Grading/1. Original Images/a. Training Set/IDRiD_344.jpg - Size: 436377 bytes\n",
            "B. Disease Grading/1. Original Images/a. Training Set/IDRiD_345.jpg - Size: 483964 bytes\n",
            "B. Disease Grading/1. Original Images/a. Training Set/IDRiD_346.jpg - Size: 417175 bytes\n",
            "B. Disease Grading/1. Original Images/a. Training Set/IDRiD_347.jpg - Size: 414188 bytes\n",
            "B. Disease Grading/1. Original Images/a. Training Set/IDRiD_348.jpg - Size: 381970 bytes\n",
            "B. Disease Grading/1. Original Images/a. Training Set/IDRiD_349.jpg - Size: 432590 bytes\n",
            "B. Disease Grading/1. Original Images/a. Training Set/IDRiD_350.jpg - Size: 411911 bytes\n",
            "B. Disease Grading/1. Original Images/a. Training Set/IDRiD_351.jpg - Size: 395039 bytes\n",
            "B. Disease Grading/1. Original Images/a. Training Set/IDRiD_352.jpg - Size: 387088 bytes\n",
            "B. Disease Grading/1. Original Images/a. Training Set/IDRiD_353.jpg - Size: 416606 bytes\n",
            "B. Disease Grading/1. Original Images/a. Training Set/IDRiD_354.jpg - Size: 406139 bytes\n",
            "B. Disease Grading/1. Original Images/a. Training Set/IDRiD_355.jpg - Size: 397844 bytes\n",
            "B. Disease Grading/1. Original Images/a. Training Set/IDRiD_356.jpg - Size: 391494 bytes\n",
            "B. Disease Grading/1. Original Images/a. Training Set/IDRiD_357.jpg - Size: 342365 bytes\n",
            "B. Disease Grading/1. Original Images/a. Training Set/IDRiD_358.jpg - Size: 412945 bytes\n",
            "B. Disease Grading/1. Original Images/a. Training Set/IDRiD_359.jpg - Size: 378248 bytes\n",
            "B. Disease Grading/1. Original Images/a. Training Set/IDRiD_360.jpg - Size: 398696 bytes\n",
            "B. Disease Grading/1. Original Images/a. Training Set/IDRiD_361.jpg - Size: 378875 bytes\n",
            "B. Disease Grading/1. Original Images/a. Training Set/IDRiD_362.jpg - Size: 400078 bytes\n",
            "B. Disease Grading/1. Original Images/a. Training Set/IDRiD_363.jpg - Size: 264647 bytes\n",
            "B. Disease Grading/1. Original Images/a. Training Set/IDRiD_364.jpg - Size: 276403 bytes\n",
            "B. Disease Grading/1. Original Images/a. Training Set/IDRiD_365.jpg - Size: 453880 bytes\n",
            "B. Disease Grading/1. Original Images/a. Training Set/IDRiD_366.jpg - Size: 278533 bytes\n",
            "B. Disease Grading/1. Original Images/a. Training Set/IDRiD_367.jpg - Size: 409170 bytes\n",
            "B. Disease Grading/1. Original Images/a. Training Set/IDRiD_368.jpg - Size: 413644 bytes\n",
            "B. Disease Grading/1. Original Images/a. Training Set/IDRiD_369.jpg - Size: 419356 bytes\n",
            "B. Disease Grading/1. Original Images/a. Training Set/IDRiD_370.jpg - Size: 424668 bytes\n",
            "B. Disease Grading/1. Original Images/a. Training Set/IDRiD_371.jpg - Size: 425523 bytes\n",
            "B. Disease Grading/1. Original Images/a. Training Set/IDRiD_372.jpg - Size: 391121 bytes\n",
            "B. Disease Grading/1. Original Images/a. Training Set/IDRiD_373.jpg - Size: 387619 bytes\n",
            "B. Disease Grading/1. Original Images/a. Training Set/IDRiD_374.jpg - Size: 409222 bytes\n",
            "B. Disease Grading/1. Original Images/a. Training Set/IDRiD_375.jpg - Size: 391322 bytes\n",
            "B. Disease Grading/1. Original Images/a. Training Set/IDRiD_376.jpg - Size: 409567 bytes\n",
            "B. Disease Grading/1. Original Images/a. Training Set/IDRiD_377.jpg - Size: 417590 bytes\n",
            "B. Disease Grading/1. Original Images/a. Training Set/IDRiD_378.jpg - Size: 392663 bytes\n",
            "B. Disease Grading/1. Original Images/a. Training Set/IDRiD_379.jpg - Size: 439301 bytes\n",
            "B. Disease Grading/1. Original Images/a. Training Set/IDRiD_380.jpg - Size: 401856 bytes\n",
            "B. Disease Grading/1. Original Images/a. Training Set/IDRiD_381.jpg - Size: 414032 bytes\n",
            "B. Disease Grading/1. Original Images/a. Training Set/IDRiD_382.jpg - Size: 409483 bytes\n",
            "B. Disease Grading/1. Original Images/a. Training Set/IDRiD_383.jpg - Size: 429399 bytes\n",
            "B. Disease Grading/1. Original Images/a. Training Set/IDRiD_384.jpg - Size: 439343 bytes\n",
            "B. Disease Grading/1. Original Images/a. Training Set/IDRiD_385.jpg - Size: 382666 bytes\n",
            "B. Disease Grading/1. Original Images/a. Training Set/IDRiD_386.jpg - Size: 409829 bytes\n",
            "B. Disease Grading/1. Original Images/a. Training Set/IDRiD_387.jpg - Size: 408912 bytes\n",
            "B. Disease Grading/1. Original Images/a. Training Set/IDRiD_388.jpg - Size: 401509 bytes\n",
            "B. Disease Grading/1. Original Images/a. Training Set/IDRiD_389.jpg - Size: 395877 bytes\n",
            "B. Disease Grading/1. Original Images/a. Training Set/IDRiD_390.jpg - Size: 395266 bytes\n",
            "B. Disease Grading/1. Original Images/a. Training Set/IDRiD_391.jpg - Size: 385284 bytes\n",
            "B. Disease Grading/1. Original Images/a. Training Set/IDRiD_392.jpg - Size: 371814 bytes\n",
            "B. Disease Grading/1. Original Images/a. Training Set/IDRiD_393.jpg - Size: 397746 bytes\n",
            "B. Disease Grading/1. Original Images/a. Training Set/IDRiD_394.jpg - Size: 415563 bytes\n",
            "B. Disease Grading/1. Original Images/a. Training Set/IDRiD_395.jpg - Size: 408002 bytes\n",
            "B. Disease Grading/1. Original Images/a. Training Set/IDRiD_396.jpg - Size: 808559 bytes\n",
            "B. Disease Grading/1. Original Images/a. Training Set/IDRiD_397.jpg - Size: 386929 bytes\n",
            "B. Disease Grading/1. Original Images/a. Training Set/IDRiD_398.jpg - Size: 373840 bytes\n",
            "B. Disease Grading/1. Original Images/a. Training Set/IDRiD_399.jpg - Size: 412876 bytes\n",
            "B. Disease Grading/1. Original Images/a. Training Set/IDRiD_400.jpg - Size: 425714 bytes\n",
            "B. Disease Grading/1. Original Images/a. Training Set/IDRiD_401.jpg - Size: 386834 bytes\n",
            "B. Disease Grading/1. Original Images/a. Training Set/IDRiD_402.jpg - Size: 412687 bytes\n",
            "B. Disease Grading/1. Original Images/a. Training Set/IDRiD_403.jpg - Size: 414485 bytes\n",
            "B. Disease Grading/1. Original Images/a. Training Set/IDRiD_404.jpg - Size: 367096 bytes\n",
            "B. Disease Grading/1. Original Images/a. Training Set/IDRiD_405.jpg - Size: 377161 bytes\n",
            "B. Disease Grading/1. Original Images/a. Training Set/IDRiD_406.jpg - Size: 413194 bytes\n",
            "B. Disease Grading/1. Original Images/a. Training Set/IDRiD_407.jpg - Size: 385653 bytes\n",
            "B. Disease Grading/1. Original Images/a. Training Set/IDRiD_408.jpg - Size: 404071 bytes\n",
            "B. Disease Grading/1. Original Images/a. Training Set/IDRiD_409.jpg - Size: 372185 bytes\n",
            "B. Disease Grading/1. Original Images/a. Training Set/IDRiD_410.jpg - Size: 389354 bytes\n",
            "B. Disease Grading/1. Original Images/a. Training Set/IDRiD_411.jpg - Size: 405367 bytes\n",
            "B. Disease Grading/1. Original Images/a. Training Set/IDRiD_412.jpg - Size: 412561 bytes\n",
            "B. Disease Grading/1. Original Images/a. Training Set/IDRiD_413.jpg - Size: 765963 bytes\n",
            "B. Disease Grading/1. Original Images/b. Testing Set/ - Size: 0 bytes\n",
            "B. Disease Grading/1. Original Images/b. Testing Set/IDRiD_001.jpg - Size: 234390 bytes\n",
            "B. Disease Grading/1. Original Images/b. Testing Set/IDRiD_002.jpg - Size: 307468 bytes\n",
            "B. Disease Grading/1. Original Images/b. Testing Set/IDRiD_003.jpg - Size: 345586 bytes\n",
            "B. Disease Grading/1. Original Images/b. Testing Set/IDRiD_004.jpg - Size: 451167 bytes\n",
            "B. Disease Grading/1. Original Images/b. Testing Set/IDRiD_005.jpg - Size: 374401 bytes\n",
            "B. Disease Grading/1. Original Images/b. Testing Set/IDRiD_006.jpg - Size: 420519 bytes\n",
            "B. Disease Grading/1. Original Images/b. Testing Set/IDRiD_007.jpg - Size: 383445 bytes\n",
            "B. Disease Grading/1. Original Images/b. Testing Set/IDRiD_008.jpg - Size: 394682 bytes\n",
            "B. Disease Grading/1. Original Images/b. Testing Set/IDRiD_009.jpg - Size: 284057 bytes\n",
            "B. Disease Grading/1. Original Images/b. Testing Set/IDRiD_010.jpg - Size: 419114 bytes\n",
            "B. Disease Grading/1. Original Images/b. Testing Set/IDRiD_011.jpg - Size: 420995 bytes\n",
            "B. Disease Grading/1. Original Images/b. Testing Set/IDRiD_012.jpg - Size: 436966 bytes\n",
            "B. Disease Grading/1. Original Images/b. Testing Set/IDRiD_013.jpg - Size: 379103 bytes\n",
            "B. Disease Grading/1. Original Images/b. Testing Set/IDRiD_014.jpg - Size: 363676 bytes\n",
            "B. Disease Grading/1. Original Images/b. Testing Set/IDRiD_015.jpg - Size: 380742 bytes\n",
            "B. Disease Grading/1. Original Images/b. Testing Set/IDRiD_016.jpg - Size: 350853 bytes\n",
            "B. Disease Grading/1. Original Images/b. Testing Set/IDRiD_017.jpg - Size: 421148 bytes\n",
            "B. Disease Grading/1. Original Images/b. Testing Set/IDRiD_018.jpg - Size: 450898 bytes\n",
            "B. Disease Grading/1. Original Images/b. Testing Set/IDRiD_019.jpg - Size: 406433 bytes\n",
            "B. Disease Grading/1. Original Images/b. Testing Set/IDRiD_020.jpg - Size: 417668 bytes\n",
            "B. Disease Grading/1. Original Images/b. Testing Set/IDRiD_021.jpg - Size: 387095 bytes\n",
            "B. Disease Grading/1. Original Images/b. Testing Set/IDRiD_022.jpg - Size: 375580 bytes\n",
            "B. Disease Grading/1. Original Images/b. Testing Set/IDRiD_023.jpg - Size: 411445 bytes\n",
            "B. Disease Grading/1. Original Images/b. Testing Set/IDRiD_024.jpg - Size: 240803 bytes\n",
            "B. Disease Grading/1. Original Images/b. Testing Set/IDRiD_025.jpg - Size: 386748 bytes\n",
            "B. Disease Grading/1. Original Images/b. Testing Set/IDRiD_026.jpg - Size: 402165 bytes\n",
            "B. Disease Grading/1. Original Images/b. Testing Set/IDRiD_027.jpg - Size: 378657 bytes\n",
            "B. Disease Grading/1. Original Images/b. Testing Set/IDRiD_028.jpg - Size: 387905 bytes\n",
            "B. Disease Grading/1. Original Images/b. Testing Set/IDRiD_029.jpg - Size: 406702 bytes\n",
            "B. Disease Grading/1. Original Images/b. Testing Set/IDRiD_030.jpg - Size: 430133 bytes\n",
            "B. Disease Grading/1. Original Images/b. Testing Set/IDRiD_031.jpg - Size: 407140 bytes\n",
            "B. Disease Grading/1. Original Images/b. Testing Set/IDRiD_032.jpg - Size: 398932 bytes\n",
            "B. Disease Grading/1. Original Images/b. Testing Set/IDRiD_033.jpg - Size: 389882 bytes\n",
            "B. Disease Grading/1. Original Images/b. Testing Set/IDRiD_034.jpg - Size: 423214 bytes\n",
            "B. Disease Grading/1. Original Images/b. Testing Set/IDRiD_035.jpg - Size: 437056 bytes\n",
            "B. Disease Grading/1. Original Images/b. Testing Set/IDRiD_036.jpg - Size: 387703 bytes\n",
            "B. Disease Grading/1. Original Images/b. Testing Set/IDRiD_037.jpg - Size: 418477 bytes\n",
            "B. Disease Grading/1. Original Images/b. Testing Set/IDRiD_038.jpg - Size: 400184 bytes\n",
            "B. Disease Grading/1. Original Images/b. Testing Set/IDRiD_039.jpg - Size: 377795 bytes\n",
            "B. Disease Grading/1. Original Images/b. Testing Set/IDRiD_040.jpg - Size: 383289 bytes\n",
            "B. Disease Grading/1. Original Images/b. Testing Set/IDRiD_041.jpg - Size: 412496 bytes\n",
            "B. Disease Grading/1. Original Images/b. Testing Set/IDRiD_042.jpg - Size: 362363 bytes\n",
            "B. Disease Grading/1. Original Images/b. Testing Set/IDRiD_043.jpg - Size: 411506 bytes\n",
            "B. Disease Grading/1. Original Images/b. Testing Set/IDRiD_044.jpg - Size: 422186 bytes\n",
            "B. Disease Grading/1. Original Images/b. Testing Set/IDRiD_045.jpg - Size: 394123 bytes\n",
            "B. Disease Grading/1. Original Images/b. Testing Set/IDRiD_046.jpg - Size: 397323 bytes\n",
            "B. Disease Grading/1. Original Images/b. Testing Set/IDRiD_047.jpg - Size: 424975 bytes\n",
            "B. Disease Grading/1. Original Images/b. Testing Set/IDRiD_048.jpg - Size: 396055 bytes\n",
            "B. Disease Grading/1. Original Images/b. Testing Set/IDRiD_049.jpg - Size: 403890 bytes\n",
            "B. Disease Grading/1. Original Images/b. Testing Set/IDRiD_050.jpg - Size: 388555 bytes\n",
            "B. Disease Grading/1. Original Images/b. Testing Set/IDRiD_051.jpg - Size: 375961 bytes\n",
            "B. Disease Grading/1. Original Images/b. Testing Set/IDRiD_052.jpg - Size: 391862 bytes\n",
            "B. Disease Grading/1. Original Images/b. Testing Set/IDRiD_053.jpg - Size: 395610 bytes\n",
            "B. Disease Grading/1. Original Images/b. Testing Set/IDRiD_054.jpg - Size: 406207 bytes\n",
            "B. Disease Grading/1. Original Images/b. Testing Set/IDRiD_055.jpg - Size: 421378 bytes\n",
            "B. Disease Grading/1. Original Images/b. Testing Set/IDRiD_056.jpg - Size: 407516 bytes\n",
            "B. Disease Grading/1. Original Images/b. Testing Set/IDRiD_057.jpg - Size: 411544 bytes\n",
            "B. Disease Grading/1. Original Images/b. Testing Set/IDRiD_058.jpg - Size: 393362 bytes\n",
            "B. Disease Grading/1. Original Images/b. Testing Set/IDRiD_059.jpg - Size: 400944 bytes\n",
            "B. Disease Grading/1. Original Images/b. Testing Set/IDRiD_060.jpg - Size: 440805 bytes\n",
            "B. Disease Grading/1. Original Images/b. Testing Set/IDRiD_061.jpg - Size: 376422 bytes\n",
            "B. Disease Grading/1. Original Images/b. Testing Set/IDRiD_062.jpg - Size: 397613 bytes\n",
            "B. Disease Grading/1. Original Images/b. Testing Set/IDRiD_063.jpg - Size: 443045 bytes\n",
            "B. Disease Grading/1. Original Images/b. Testing Set/IDRiD_064.jpg - Size: 406805 bytes\n",
            "B. Disease Grading/1. Original Images/b. Testing Set/IDRiD_065.jpg - Size: 392917 bytes\n",
            "B. Disease Grading/1. Original Images/b. Testing Set/IDRiD_066.jpg - Size: 404948 bytes\n",
            "B. Disease Grading/1. Original Images/b. Testing Set/IDRiD_067.jpg - Size: 372167 bytes\n",
            "B. Disease Grading/1. Original Images/b. Testing Set/IDRiD_068.jpg - Size: 398767 bytes\n",
            "B. Disease Grading/1. Original Images/b. Testing Set/IDRiD_069.jpg - Size: 377074 bytes\n",
            "B. Disease Grading/1. Original Images/b. Testing Set/IDRiD_070.jpg - Size: 383275 bytes\n",
            "B. Disease Grading/1. Original Images/b. Testing Set/IDRiD_071.jpg - Size: 363718 bytes\n",
            "B. Disease Grading/1. Original Images/b. Testing Set/IDRiD_072.jpg - Size: 245613 bytes\n",
            "B. Disease Grading/1. Original Images/b. Testing Set/IDRiD_073.jpg - Size: 296057 bytes\n",
            "B. Disease Grading/1. Original Images/b. Testing Set/IDRiD_074.jpg - Size: 430342 bytes\n",
            "B. Disease Grading/1. Original Images/b. Testing Set/IDRiD_075.jpg - Size: 408270 bytes\n",
            "B. Disease Grading/1. Original Images/b. Testing Set/IDRiD_076.jpg - Size: 415512 bytes\n",
            "B. Disease Grading/1. Original Images/b. Testing Set/IDRiD_077.jpg - Size: 394325 bytes\n",
            "B. Disease Grading/1. Original Images/b. Testing Set/IDRiD_078.jpg - Size: 420457 bytes\n",
            "B. Disease Grading/1. Original Images/b. Testing Set/IDRiD_079.jpg - Size: 421536 bytes\n",
            "B. Disease Grading/1. Original Images/b. Testing Set/IDRiD_080.jpg - Size: 463351 bytes\n",
            "B. Disease Grading/1. Original Images/b. Testing Set/IDRiD_081.jpg - Size: 324697 bytes\n",
            "B. Disease Grading/1. Original Images/b. Testing Set/IDRiD_082.jpg - Size: 344369 bytes\n",
            "B. Disease Grading/1. Original Images/b. Testing Set/IDRiD_083.jpg - Size: 292303 bytes\n",
            "B. Disease Grading/1. Original Images/b. Testing Set/IDRiD_084.jpg - Size: 439850 bytes\n",
            "B. Disease Grading/1. Original Images/b. Testing Set/IDRiD_085.jpg - Size: 390675 bytes\n",
            "B. Disease Grading/1. Original Images/b. Testing Set/IDRiD_086.jpg - Size: 432477 bytes\n",
            "B. Disease Grading/1. Original Images/b. Testing Set/IDRiD_087.jpg - Size: 747704 bytes\n",
            "B. Disease Grading/1. Original Images/b. Testing Set/IDRiD_088.jpg - Size: 837722 bytes\n",
            "B. Disease Grading/1. Original Images/b. Testing Set/IDRiD_089.jpg - Size: 845928 bytes\n",
            "B. Disease Grading/1. Original Images/b. Testing Set/IDRiD_090.jpg - Size: 794985 bytes\n",
            "B. Disease Grading/1. Original Images/b. Testing Set/IDRiD_091.jpg - Size: 744963 bytes\n",
            "B. Disease Grading/1. Original Images/b. Testing Set/IDRiD_092.jpg - Size: 695861 bytes\n",
            "B. Disease Grading/1. Original Images/b. Testing Set/IDRiD_093.jpg - Size: 756101 bytes\n",
            "B. Disease Grading/1. Original Images/b. Testing Set/IDRiD_094.jpg - Size: 760479 bytes\n",
            "B. Disease Grading/1. Original Images/b. Testing Set/IDRiD_095.jpg - Size: 761583 bytes\n",
            "B. Disease Grading/1. Original Images/b. Testing Set/IDRiD_096.jpg - Size: 809217 bytes\n",
            "B. Disease Grading/1. Original Images/b. Testing Set/IDRiD_097.jpg - Size: 790479 bytes\n",
            "B. Disease Grading/1. Original Images/b. Testing Set/IDRiD_098.jpg - Size: 649846 bytes\n",
            "B. Disease Grading/1. Original Images/b. Testing Set/IDRiD_099.jpg - Size: 417498 bytes\n",
            "B. Disease Grading/1. Original Images/b. Testing Set/IDRiD_100.jpg - Size: 753176 bytes\n",
            "B. Disease Grading/1. Original Images/b. Testing Set/IDRiD_101.jpg - Size: 746701 bytes\n",
            "B. Disease Grading/1. Original Images/b. Testing Set/IDRiD_102.jpg - Size: 698157 bytes\n",
            "B. Disease Grading/1. Original Images/b. Testing Set/IDRiD_103.jpg - Size: 814389 bytes\n",
            "B. Disease Grading/2. Groundtruths/ - Size: 0 bytes\n",
            "B. Disease Grading/2. Groundtruths/a. IDRiD_Disease Grading_Training Labels.csv - Size: 9975 bytes\n",
            "B. Disease Grading/2. Groundtruths/b. IDRiD_Disease Grading_Testing Labels.csv - Size: 1598 bytes\n",
            "B. Disease Grading/LICENSE.txt - Size: 306 bytes\n",
            "B. Disease Grading/CC-BY-4.0.txt - Size: 17344 bytes\n"
          ]
        }
      ],
      "source": [
        "with zipfile.ZipFile(zip_path, 'r') as z:\n",
        "    file_list = z.namelist()\n",
        "    print(\"Files inside ZIP:\", file_list)\n",
        "\n",
        "    # Check file sizes\n",
        "    for file in file_list:\n",
        "        with z.open(file) as f:\n",
        "            content = f.read()\n",
        "            print(f\"{file} - Size: {len(content)} bytes\")"
      ]
    },
    {
      "cell_type": "code",
      "execution_count": null,
      "metadata": {
        "colab": {
          "base_uri": "https://localhost:8080/"
        },
        "id": "pckXJ3WHDP9X",
        "outputId": "264aea7e-e77c-4124-fb38-99189b3bf23c"
      },
      "outputs": [
        {
          "output_type": "stream",
          "name": "stdout",
          "text": [
            "Archive:  /content/drive/MyDrive/B. Disease Grading.zip\n",
            "replace /content/extracted/B. Disease Grading/1. Original Images/a. Training Set/IDRiD_001.jpg? [y]es, [n]o, [A]ll, [N]one, [r]ename: "
          ]
        }
      ],
      "source": [
        "!unzip '/content/drive/MyDrive/B. Disease Grading.zip' -d '/content/extracted'"
      ]
    },
    {
      "cell_type": "code",
      "execution_count": null,
      "metadata": {
        "id": "6_q27dedDP7I"
      },
      "outputs": [],
      "source": [
        "# Define image size & batch size\n",
        "IMG_SIZE = (224, 224)\n",
        "BATCH_SIZE = 32\n",
        "\n",
        "# Define dataset path\n",
        "train_dir = '/content/extracted/B. Disease Grading/1. Original Images/a. Training Set'\n",
        "valid_dir = '/content/extracted/B. Disease Grading/1. Original Images/b. Testing Set'  # If validation images exist"
      ]
    },
    {
      "cell_type": "code",
      "execution_count": null,
      "metadata": {
        "colab": {
          "base_uri": "https://localhost:8080/"
        },
        "id": "B0GGjJSIDP40",
        "outputId": "99b194c5-be96-4359-9b09-3bb92f4ec9fc"
      },
      "outputs": [
        {
          "output_type": "stream",
          "name": "stdout",
          "text": [
            "['IDRiD_344.jpg', 'IDRiD_149.jpg', 'IDRiD_079.jpg', 'IDRiD_006.jpg', 'IDRiD_150.jpg', 'IDRiD_283.jpg', 'IDRiD_122.jpg', 'IDRiD_248.jpg', 'IDRiD_067.jpg', 'IDRiD_099.jpg', 'IDRiD_389.jpg', 'IDRiD_211.jpg', 'IDRiD_120.jpg', 'IDRiD_396.jpg', 'IDRiD_089.jpg', 'IDRiD_347.jpg', 'IDRiD_102.jpg', 'IDRiD_327.jpg', 'IDRiD_105.jpg', 'IDRiD_104.jpg', 'IDRiD_194.jpg', 'IDRiD_357.jpg', 'IDRiD_239.jpg', 'IDRiD_190.jpg', 'IDRiD_195.jpg', 'IDRiD_192.jpg', 'IDRiD_296.jpg', 'IDRiD_241.jpg', 'IDRiD_345.jpg', 'IDRiD_197.jpg', 'IDRiD_339.jpg', 'IDRiD_303.jpg', 'IDRiD_235.jpg', 'IDRiD_200.jpg', 'IDRiD_219.jpg', 'IDRiD_087.jpg', 'IDRiD_234.jpg', 'IDRiD_355.jpg', 'IDRiD_321.jpg', 'IDRiD_253.jpg', 'IDRiD_193.jpg', 'IDRiD_246.jpg', 'IDRiD_405.jpg', 'IDRiD_071.jpg', 'IDRiD_272.jpg', 'IDRiD_196.jpg', 'IDRiD_137.jpg', 'IDRiD_179.jpg', 'IDRiD_110.jpg', 'IDRiD_315.jpg', 'IDRiD_214.jpg', 'IDRiD_384.jpg', 'IDRiD_271.jpg', 'IDRiD_285.jpg', 'IDRiD_277.jpg', 'IDRiD_154.jpg', 'IDRiD_273.jpg', 'IDRiD_010.jpg', 'IDRiD_153.jpg', 'IDRiD_304.jpg', 'IDRiD_112.jpg', 'IDRiD_359.jpg', 'IDRiD_318.jpg', 'IDRiD_127.jpg', 'IDRiD_258.jpg', 'IDRiD_243.jpg', 'IDRiD_131.jpg', 'IDRiD_091.jpg', 'IDRiD_229.jpg', 'IDRiD_333.jpg', 'IDRiD_328.jpg', 'IDRiD_247.jpg', 'IDRiD_107.jpg', 'IDRiD_287.jpg', 'IDRiD_123.jpg', 'IDRiD_011.jpg', 'IDRiD_324.jpg', 'IDRiD_295.jpg', 'IDRiD_356.jpg', 'IDRiD_376.jpg', 'IDRiD_185.jpg', 'IDRiD_291.jpg', 'IDRiD_249.jpg', 'IDRiD_346.jpg', 'IDRiD_015.jpg', 'IDRiD_282.jpg', 'IDRiD_227.jpg', 'IDRiD_176.jpg', 'IDRiD_165.jpg', 'IDRiD_155.jpg', 'IDRiD_371.jpg', 'IDRiD_278.jpg', 'IDRiD_312.jpg', 'IDRiD_065.jpg', 'IDRiD_021.jpg', 'IDRiD_002.jpg', 'IDRiD_204.jpg', 'IDRiD_004.jpg', 'IDRiD_026.jpg', 'IDRiD_022.jpg', 'IDRiD_048.jpg', 'IDRiD_366.jpg', 'IDRiD_108.jpg', 'IDRiD_070.jpg', 'IDRiD_334.jpg', 'IDRiD_017.jpg', 'IDRiD_139.jpg', 'IDRiD_018.jpg', 'IDRiD_124.jpg', 'IDRiD_289.jpg', 'IDRiD_078.jpg', 'IDRiD_001.jpg', 'IDRiD_300.jpg', 'IDRiD_183.jpg', 'IDRiD_053.jpg', 'IDRiD_040.jpg', 'IDRiD_209.jpg', 'IDRiD_386.jpg', 'IDRiD_167.jpg', 'IDRiD_319.jpg', 'IDRiD_394.jpg', 'IDRiD_163.jpg', 'IDRiD_221.jpg', 'IDRiD_014.jpg', 'IDRiD_263.jpg', 'IDRiD_301.jpg', 'IDRiD_299.jpg', 'IDRiD_401.jpg', 'IDRiD_057.jpg', 'IDRiD_254.jpg', 'IDRiD_019.jpg', 'IDRiD_407.jpg', 'IDRiD_232.jpg', 'IDRiD_075.jpg', 'IDRiD_363.jpg', 'IDRiD_336.jpg', 'IDRiD_399.jpg', 'IDRiD_238.jpg', 'IDRiD_392.jpg', 'IDRiD_349.jpg', 'IDRiD_038.jpg', 'IDRiD_302.jpg', 'IDRiD_361.jpg', 'IDRiD_387.jpg', 'IDRiD_364.jpg', 'IDRiD_093.jpg', 'IDRiD_378.jpg', 'IDRiD_016.jpg', 'IDRiD_391.jpg', 'IDRiD_252.jpg', 'IDRiD_152.jpg', 'IDRiD_164.jpg', 'IDRiD_058.jpg', 'IDRiD_381.jpg', 'IDRiD_171.jpg', 'IDRiD_121.jpg', 'IDRiD_352.jpg', 'IDRiD_331.jpg', 'IDRiD_329.jpg', 'IDRiD_322.jpg', 'IDRiD_365.jpg', 'IDRiD_286.jpg', 'IDRiD_350.jpg', 'IDRiD_186.jpg', 'IDRiD_265.jpg', 'IDRiD_130.jpg', 'IDRiD_126.jpg', 'IDRiD_068.jpg', 'IDRiD_360.jpg', 'IDRiD_088.jpg', 'IDRiD_177.jpg', 'IDRiD_284.jpg', 'IDRiD_063.jpg', 'IDRiD_101.jpg', 'IDRiD_369.jpg', 'IDRiD_326.jpg', 'IDRiD_069.jpg', 'IDRiD_358.jpg', 'IDRiD_205.jpg', 'IDRiD_025.jpg', 'IDRiD_255.jpg', 'IDRiD_406.jpg', 'IDRiD_162.jpg', 'IDRiD_332.jpg', 'IDRiD_109.jpg', 'IDRiD_157.jpg', 'IDRiD_280.jpg', 'IDRiD_084.jpg', 'IDRiD_034.jpg', 'IDRiD_033.jpg', 'IDRiD_325.jpg', 'IDRiD_313.jpg', 'IDRiD_009.jpg', 'IDRiD_129.jpg', 'IDRiD_111.jpg', 'IDRiD_020.jpg', 'IDRiD_257.jpg', 'IDRiD_189.jpg', 'IDRiD_086.jpg', 'IDRiD_307.jpg', 'IDRiD_052.jpg', 'IDRiD_398.jpg', 'IDRiD_095.jpg', 'IDRiD_269.jpg', 'IDRiD_024.jpg', 'IDRiD_207.jpg', 'IDRiD_251.jpg', 'IDRiD_151.jpg', 'IDRiD_043.jpg', 'IDRiD_182.jpg', 'IDRiD_055.jpg', 'IDRiD_046.jpg', 'IDRiD_261.jpg', 'IDRiD_173.jpg', 'IDRiD_168.jpg', 'IDRiD_218.jpg', 'IDRiD_206.jpg', 'IDRiD_083.jpg', 'IDRiD_351.jpg', 'IDRiD_159.jpg', 'IDRiD_309.jpg', 'IDRiD_054.jpg', 'IDRiD_113.jpg', 'IDRiD_210.jpg', 'IDRiD_098.jpg', 'IDRiD_059.jpg', 'IDRiD_135.jpg', 'IDRiD_217.jpg', 'IDRiD_213.jpg', 'IDRiD_100.jpg', 'IDRiD_138.jpg', 'IDRiD_007.jpg', 'IDRiD_191.jpg', 'IDRiD_198.jpg', 'IDRiD_337.jpg', 'IDRiD_181.jpg', 'IDRiD_222.jpg', 'IDRiD_374.jpg', 'IDRiD_413.jpg', 'IDRiD_056.jpg', 'IDRiD_353.jpg', 'IDRiD_340.jpg', 'IDRiD_141.jpg', 'IDRiD_082.jpg', 'IDRiD_259.jpg', 'IDRiD_306.jpg', 'IDRiD_404.jpg', 'IDRiD_385.jpg', 'IDRiD_237.jpg', 'IDRiD_216.jpg', 'IDRiD_308.jpg', 'IDRiD_343.jpg', 'IDRiD_383.jpg', 'IDRiD_402.jpg', 'IDRiD_294.jpg', 'IDRiD_354.jpg', 'IDRiD_125.jpg', 'IDRiD_096.jpg', 'IDRiD_231.jpg', 'IDRiD_039.jpg', 'IDRiD_293.jpg', 'IDRiD_158.jpg', 'IDRiD_170.jpg', 'IDRiD_236.jpg', 'IDRiD_341.jpg', 'IDRiD_045.jpg', 'IDRiD_317.jpg', 'IDRiD_180.jpg', 'IDRiD_090.jpg', 'IDRiD_274.jpg', 'IDRiD_133.jpg', 'IDRiD_268.jpg', 'IDRiD_375.jpg', 'IDRiD_316.jpg', 'IDRiD_156.jpg', 'IDRiD_323.jpg', 'IDRiD_260.jpg', 'IDRiD_044.jpg', 'IDRiD_382.jpg', 'IDRiD_330.jpg', 'IDRiD_242.jpg', 'IDRiD_114.jpg', 'IDRiD_368.jpg', 'IDRiD_142.jpg', 'IDRiD_288.jpg', 'IDRiD_051.jpg', 'IDRiD_119.jpg', 'IDRiD_005.jpg', 'IDRiD_027.jpg', 'IDRiD_373.jpg', 'IDRiD_061.jpg', 'IDRiD_076.jpg', 'IDRiD_410.jpg', 'IDRiD_370.jpg', 'IDRiD_228.jpg', 'IDRiD_036.jpg', 'IDRiD_297.jpg', 'IDRiD_032.jpg', 'IDRiD_372.jpg', 'IDRiD_050.jpg', 'IDRiD_245.jpg', 'IDRiD_408.jpg', 'IDRiD_023.jpg', 'IDRiD_270.jpg', 'IDRiD_073.jpg', 'IDRiD_411.jpg', 'IDRiD_060.jpg', 'IDRiD_094.jpg', 'IDRiD_348.jpg', 'IDRiD_281.jpg', 'IDRiD_097.jpg', 'IDRiD_028.jpg', 'IDRiD_140.jpg', 'IDRiD_250.jpg', 'IDRiD_136.jpg', 'IDRiD_166.jpg', 'IDRiD_305.jpg', 'IDRiD_012.jpg', 'IDRiD_220.jpg', 'IDRiD_188.jpg', 'IDRiD_178.jpg', 'IDRiD_187.jpg', 'IDRiD_314.jpg', 'IDRiD_412.jpg', 'IDRiD_400.jpg', 'IDRiD_362.jpg', 'IDRiD_199.jpg', 'IDRiD_144.jpg', 'IDRiD_049.jpg', 'IDRiD_066.jpg', 'IDRiD_074.jpg', 'IDRiD_379.jpg', 'IDRiD_335.jpg', 'IDRiD_224.jpg', 'IDRiD_146.jpg', 'IDRiD_169.jpg', 'IDRiD_118.jpg', 'IDRiD_380.jpg', 'IDRiD_115.jpg', 'IDRiD_276.jpg', 'IDRiD_275.jpg', 'IDRiD_035.jpg', 'IDRiD_080.jpg', 'IDRiD_116.jpg', 'IDRiD_367.jpg', 'IDRiD_145.jpg', 'IDRiD_062.jpg', 'IDRiD_403.jpg', 'IDRiD_264.jpg', 'IDRiD_338.jpg', 'IDRiD_064.jpg', 'IDRiD_172.jpg', 'IDRiD_072.jpg', 'IDRiD_143.jpg', 'IDRiD_240.jpg', 'IDRiD_266.jpg', 'IDRiD_208.jpg', 'IDRiD_031.jpg', 'IDRiD_030.jpg', 'IDRiD_409.jpg', 'IDRiD_397.jpg', 'IDRiD_132.jpg', 'IDRiD_223.jpg', 'IDRiD_310.jpg', 'IDRiD_117.jpg', 'IDRiD_225.jpg', 'IDRiD_226.jpg', 'IDRiD_013.jpg', 'IDRiD_029.jpg', 'IDRiD_148.jpg', 'IDRiD_128.jpg', 'IDRiD_256.jpg', 'IDRiD_175.jpg', 'IDRiD_184.jpg', 'IDRiD_085.jpg', 'IDRiD_081.jpg', 'IDRiD_201.jpg', 'IDRiD_342.jpg', 'IDRiD_160.jpg', 'IDRiD_203.jpg', 'IDRiD_233.jpg', 'IDRiD_290.jpg', 'IDRiD_103.jpg', 'IDRiD_092.jpg', 'IDRiD_106.jpg', 'IDRiD_279.jpg', 'IDRiD_393.jpg', 'IDRiD_292.jpg', 'IDRiD_377.jpg', 'IDRiD_042.jpg', 'IDRiD_077.jpg', 'IDRiD_262.jpg', 'IDRiD_390.jpg', 'IDRiD_041.jpg', 'IDRiD_003.jpg', 'IDRiD_311.jpg', 'IDRiD_215.jpg', 'IDRiD_388.jpg', 'IDRiD_320.jpg', 'IDRiD_147.jpg', 'IDRiD_008.jpg', 'IDRiD_174.jpg', 'IDRiD_244.jpg', 'IDRiD_395.jpg', 'IDRiD_212.jpg', 'IDRiD_230.jpg', 'IDRiD_202.jpg', 'IDRiD_161.jpg', 'IDRiD_267.jpg', 'IDRiD_047.jpg', 'IDRiD_037.jpg', 'IDRiD_134.jpg', 'IDRiD_298.jpg']\n"
          ]
        }
      ],
      "source": [
        "print(os.listdir(train_dir))"
      ]
    },
    {
      "cell_type": "code",
      "execution_count": null,
      "metadata": {
        "id": "qXEPJ7kyDP2s"
      },
      "outputs": [],
      "source": [
        "# Define the model architecture\n",
        "base_model = EfficientNetB0(weights='imagenet', include_top=False, input_shape=(224, 224, 3))\n",
        "base_model.trainable = False"
      ]
    },
    {
      "cell_type": "code",
      "execution_count": null,
      "metadata": {
        "id": "zCYyi_89DP0h"
      },
      "outputs": [],
      "source": [
        "inputs = Input(shape=(224, 224, 3))\n",
        "x = base_model(inputs)\n",
        "x = Flatten()(x)"
      ]
    },
    {
      "cell_type": "code",
      "execution_count": null,
      "metadata": {
        "id": "OGmsHmc9DPyV"
      },
      "outputs": [],
      "source": [
        "# Model Architecture\n",
        "model = Sequential([\n",
        "    base_model,\n",
        "    Flatten(),\n",
        "    Dense(128, activation='relu'),\n",
        "    Dense(5, activation='softmax')  # 5 classes for disease grading\n",
        "])"
      ]
    },
    {
      "cell_type": "code",
      "execution_count": null,
      "metadata": {
        "id": "RoiSqBHLDPwE"
      },
      "outputs": [],
      "source": [
        "# Compile the model\n",
        "model.compile(optimizer=Adam(), loss='categorical_crossentropy', metrics=['accuracy'])"
      ]
    },
    {
      "cell_type": "code",
      "execution_count": null,
      "metadata": {
        "colab": {
          "base_uri": "https://localhost:8080/"
        },
        "id": "X0TvIzkSE9OK",
        "outputId": "03fc7df3-2b43-4e72-b1cd-bda4637382d8"
      },
      "outputs": [
        {
          "output_type": "execute_result",
          "data": {
            "text/plain": [
              "['IDRiD_079.jpg',\n",
              " 'IDRiD_006.jpg',\n",
              " 'IDRiD_067.jpg',\n",
              " 'IDRiD_099.jpg',\n",
              " 'IDRiD_089.jpg',\n",
              " 'IDRiD_102.jpg',\n",
              " 'IDRiD_087.jpg',\n",
              " 'IDRiD_071.jpg',\n",
              " 'IDRiD_010.jpg',\n",
              " 'IDRiD_091.jpg',\n",
              " 'IDRiD_011.jpg',\n",
              " 'IDRiD_015.jpg',\n",
              " 'IDRiD_065.jpg',\n",
              " 'IDRiD_021.jpg',\n",
              " 'IDRiD_002.jpg',\n",
              " 'IDRiD_004.jpg',\n",
              " 'IDRiD_026.jpg',\n",
              " 'IDRiD_022.jpg',\n",
              " 'IDRiD_048.jpg',\n",
              " 'IDRiD_070.jpg',\n",
              " 'IDRiD_017.jpg',\n",
              " 'IDRiD_018.jpg',\n",
              " 'IDRiD_078.jpg',\n",
              " 'IDRiD_001.jpg',\n",
              " 'IDRiD_053.jpg',\n",
              " 'IDRiD_040.jpg',\n",
              " 'IDRiD_014.jpg',\n",
              " 'IDRiD_057.jpg',\n",
              " 'IDRiD_019.jpg',\n",
              " 'IDRiD_075.jpg',\n",
              " 'IDRiD_038.jpg',\n",
              " 'IDRiD_093.jpg',\n",
              " 'IDRiD_016.jpg',\n",
              " 'IDRiD_058.jpg',\n",
              " 'IDRiD_068.jpg',\n",
              " 'IDRiD_088.jpg',\n",
              " 'IDRiD_063.jpg',\n",
              " 'IDRiD_101.jpg',\n",
              " 'IDRiD_069.jpg',\n",
              " 'IDRiD_025.jpg',\n",
              " 'IDRiD_084.jpg',\n",
              " 'IDRiD_034.jpg',\n",
              " 'IDRiD_033.jpg',\n",
              " 'IDRiD_009.jpg',\n",
              " 'IDRiD_020.jpg',\n",
              " 'IDRiD_086.jpg',\n",
              " 'IDRiD_052.jpg',\n",
              " 'IDRiD_095.jpg',\n",
              " 'IDRiD_024.jpg',\n",
              " 'IDRiD_043.jpg',\n",
              " 'IDRiD_055.jpg',\n",
              " 'IDRiD_046.jpg',\n",
              " 'IDRiD_083.jpg',\n",
              " 'IDRiD_054.jpg',\n",
              " 'IDRiD_098.jpg',\n",
              " 'IDRiD_059.jpg',\n",
              " 'IDRiD_100.jpg',\n",
              " 'IDRiD_007.jpg',\n",
              " 'IDRiD_056.jpg',\n",
              " 'IDRiD_082.jpg',\n",
              " 'IDRiD_096.jpg',\n",
              " 'IDRiD_039.jpg',\n",
              " 'IDRiD_045.jpg',\n",
              " 'IDRiD_090.jpg',\n",
              " 'IDRiD_044.jpg',\n",
              " 'IDRiD_051.jpg',\n",
              " 'IDRiD_005.jpg',\n",
              " 'IDRiD_027.jpg',\n",
              " 'IDRiD_061.jpg',\n",
              " 'IDRiD_076.jpg',\n",
              " 'IDRiD_036.jpg',\n",
              " 'IDRiD_032.jpg',\n",
              " 'IDRiD_050.jpg',\n",
              " 'IDRiD_023.jpg',\n",
              " 'IDRiD_073.jpg',\n",
              " 'IDRiD_060.jpg',\n",
              " 'IDRiD_094.jpg',\n",
              " 'IDRiD_097.jpg',\n",
              " 'IDRiD_028.jpg',\n",
              " 'IDRiD_012.jpg',\n",
              " 'IDRiD_049.jpg',\n",
              " 'IDRiD_066.jpg',\n",
              " 'IDRiD_074.jpg',\n",
              " 'IDRiD_035.jpg',\n",
              " 'IDRiD_080.jpg',\n",
              " 'IDRiD_062.jpg',\n",
              " 'IDRiD_064.jpg',\n",
              " 'IDRiD_072.jpg',\n",
              " 'IDRiD_031.jpg',\n",
              " 'IDRiD_030.jpg',\n",
              " 'IDRiD_013.jpg',\n",
              " 'IDRiD_029.jpg',\n",
              " 'IDRiD_085.jpg',\n",
              " 'IDRiD_081.jpg',\n",
              " 'IDRiD_103.jpg',\n",
              " 'IDRiD_092.jpg',\n",
              " 'IDRiD_042.jpg',\n",
              " 'IDRiD_077.jpg',\n",
              " 'IDRiD_041.jpg',\n",
              " 'IDRiD_003.jpg',\n",
              " 'IDRiD_008.jpg',\n",
              " 'IDRiD_047.jpg',\n",
              " 'IDRiD_037.jpg']"
            ]
          },
          "metadata": {},
          "execution_count": 19
        }
      ],
      "source": [
        "os.listdir('/content/extracted/B. Disease Grading/1. Original Images/a. Training Set')  # Check contents of the training folder\n",
        "os.listdir('/content/extracted/B. Disease Grading/1. Original Images/b. Testing Set')  # Check contents of the validation folder"
      ]
    },
    {
      "cell_type": "code",
      "execution_count": null,
      "metadata": {
        "colab": {
          "base_uri": "https://localhost:8080/"
        },
        "id": "eb-bmcwDI4Ne",
        "outputId": "2e78618a-d5a5-4b56-da36-af885775a30c"
      },
      "outputs": [
        {
          "output_type": "stream",
          "name": "stdout",
          "text": [
            "Training files: ['IDRiD_344.jpg', 'IDRiD_149.jpg', 'IDRiD_079.jpg', 'IDRiD_006.jpg', 'IDRiD_150.jpg', 'IDRiD_283.jpg', 'IDRiD_122.jpg', 'IDRiD_248.jpg', 'IDRiD_067.jpg', 'IDRiD_099.jpg', 'IDRiD_389.jpg', 'IDRiD_211.jpg', 'IDRiD_120.jpg', 'IDRiD_396.jpg', 'IDRiD_089.jpg', 'IDRiD_347.jpg', 'IDRiD_102.jpg', 'IDRiD_327.jpg', 'IDRiD_105.jpg', 'IDRiD_104.jpg', 'IDRiD_194.jpg', 'IDRiD_357.jpg', 'IDRiD_239.jpg', 'IDRiD_190.jpg', 'IDRiD_195.jpg', 'IDRiD_192.jpg', 'IDRiD_296.jpg', 'IDRiD_241.jpg', 'IDRiD_345.jpg', 'IDRiD_197.jpg', 'IDRiD_339.jpg', 'IDRiD_303.jpg', 'IDRiD_235.jpg', 'IDRiD_200.jpg', 'IDRiD_219.jpg', 'IDRiD_087.jpg', 'IDRiD_234.jpg', 'IDRiD_355.jpg', 'IDRiD_321.jpg', 'IDRiD_253.jpg', 'IDRiD_193.jpg', 'IDRiD_246.jpg', 'IDRiD_405.jpg', 'IDRiD_071.jpg', 'IDRiD_272.jpg', 'IDRiD_196.jpg', 'IDRiD_137.jpg', 'IDRiD_179.jpg', 'IDRiD_110.jpg', 'IDRiD_315.jpg', 'IDRiD_214.jpg', 'IDRiD_384.jpg', 'IDRiD_271.jpg', 'IDRiD_285.jpg', 'IDRiD_277.jpg', 'IDRiD_154.jpg', 'IDRiD_273.jpg', 'IDRiD_010.jpg', 'IDRiD_153.jpg', 'IDRiD_304.jpg', 'IDRiD_112.jpg', 'IDRiD_359.jpg', 'IDRiD_318.jpg', 'IDRiD_127.jpg', 'IDRiD_258.jpg', 'IDRiD_243.jpg', 'IDRiD_131.jpg', 'IDRiD_091.jpg', 'IDRiD_229.jpg', 'IDRiD_333.jpg', 'IDRiD_328.jpg', 'IDRiD_247.jpg', 'IDRiD_107.jpg', 'IDRiD_287.jpg', 'IDRiD_123.jpg', 'IDRiD_011.jpg', 'IDRiD_324.jpg', 'IDRiD_295.jpg', 'IDRiD_356.jpg', 'IDRiD_376.jpg', 'IDRiD_185.jpg', 'IDRiD_291.jpg', 'IDRiD_249.jpg', 'IDRiD_346.jpg', 'IDRiD_015.jpg', 'IDRiD_282.jpg', 'IDRiD_227.jpg', 'IDRiD_176.jpg', 'IDRiD_165.jpg', 'IDRiD_155.jpg', 'IDRiD_371.jpg', 'IDRiD_278.jpg', 'IDRiD_312.jpg', 'IDRiD_065.jpg', 'IDRiD_021.jpg', 'IDRiD_002.jpg', 'IDRiD_204.jpg', 'IDRiD_004.jpg', 'IDRiD_026.jpg', 'IDRiD_022.jpg', 'IDRiD_048.jpg', 'IDRiD_366.jpg', 'IDRiD_108.jpg', 'IDRiD_070.jpg', 'IDRiD_334.jpg', 'IDRiD_017.jpg', 'IDRiD_139.jpg', 'IDRiD_018.jpg', 'IDRiD_124.jpg', 'IDRiD_289.jpg', 'IDRiD_078.jpg', 'IDRiD_001.jpg', 'IDRiD_300.jpg', 'IDRiD_183.jpg', 'IDRiD_053.jpg', 'IDRiD_040.jpg', 'IDRiD_209.jpg', 'IDRiD_386.jpg', 'IDRiD_167.jpg', 'IDRiD_319.jpg', 'IDRiD_394.jpg', 'IDRiD_163.jpg', 'IDRiD_221.jpg', 'IDRiD_014.jpg', 'IDRiD_263.jpg', 'IDRiD_301.jpg', 'IDRiD_299.jpg', 'IDRiD_401.jpg', 'IDRiD_057.jpg', 'IDRiD_254.jpg', 'IDRiD_019.jpg', 'IDRiD_407.jpg', 'IDRiD_232.jpg', 'IDRiD_075.jpg', 'IDRiD_363.jpg', 'IDRiD_336.jpg', 'IDRiD_399.jpg', 'IDRiD_238.jpg', 'IDRiD_392.jpg', 'IDRiD_349.jpg', 'IDRiD_038.jpg', 'IDRiD_302.jpg', 'IDRiD_361.jpg', 'IDRiD_387.jpg', 'IDRiD_364.jpg', 'IDRiD_093.jpg', 'IDRiD_378.jpg', 'IDRiD_016.jpg', 'IDRiD_391.jpg', 'IDRiD_252.jpg', 'IDRiD_152.jpg', 'IDRiD_164.jpg', 'IDRiD_058.jpg', 'IDRiD_381.jpg', 'IDRiD_171.jpg', 'IDRiD_121.jpg', 'IDRiD_352.jpg', 'IDRiD_331.jpg', 'IDRiD_329.jpg', 'IDRiD_322.jpg', 'IDRiD_365.jpg', 'IDRiD_286.jpg', 'IDRiD_350.jpg', 'IDRiD_186.jpg', 'IDRiD_265.jpg', 'IDRiD_130.jpg', 'IDRiD_126.jpg', 'IDRiD_068.jpg', 'IDRiD_360.jpg', 'IDRiD_088.jpg', 'IDRiD_177.jpg', 'IDRiD_284.jpg', 'IDRiD_063.jpg', 'IDRiD_101.jpg', 'IDRiD_369.jpg', 'IDRiD_326.jpg', 'IDRiD_069.jpg', 'IDRiD_358.jpg', 'IDRiD_205.jpg', 'IDRiD_025.jpg', 'IDRiD_255.jpg', 'IDRiD_406.jpg', 'IDRiD_162.jpg', 'IDRiD_332.jpg', 'IDRiD_109.jpg', 'IDRiD_157.jpg', 'IDRiD_280.jpg', 'IDRiD_084.jpg', 'IDRiD_034.jpg', 'IDRiD_033.jpg', 'IDRiD_325.jpg', 'IDRiD_313.jpg', 'IDRiD_009.jpg', 'IDRiD_129.jpg', 'IDRiD_111.jpg', 'IDRiD_020.jpg', 'IDRiD_257.jpg', 'IDRiD_189.jpg', 'IDRiD_086.jpg', 'IDRiD_307.jpg', 'IDRiD_052.jpg', 'IDRiD_398.jpg', 'IDRiD_095.jpg', 'IDRiD_269.jpg', 'IDRiD_024.jpg', 'IDRiD_207.jpg', 'IDRiD_251.jpg', 'IDRiD_151.jpg', 'IDRiD_043.jpg', 'IDRiD_182.jpg', 'IDRiD_055.jpg', 'IDRiD_046.jpg', 'IDRiD_261.jpg', 'IDRiD_173.jpg', 'IDRiD_168.jpg', 'IDRiD_218.jpg', 'IDRiD_206.jpg', 'IDRiD_083.jpg', 'IDRiD_351.jpg', 'IDRiD_159.jpg', 'IDRiD_309.jpg', 'IDRiD_054.jpg', 'IDRiD_113.jpg', 'IDRiD_210.jpg', 'IDRiD_098.jpg', 'IDRiD_059.jpg', 'IDRiD_135.jpg', 'IDRiD_217.jpg', 'IDRiD_213.jpg', 'IDRiD_100.jpg', 'IDRiD_138.jpg', 'IDRiD_007.jpg', 'IDRiD_191.jpg', 'IDRiD_198.jpg', 'IDRiD_337.jpg', 'IDRiD_181.jpg', 'IDRiD_222.jpg', 'IDRiD_374.jpg', 'IDRiD_413.jpg', 'IDRiD_056.jpg', 'IDRiD_353.jpg', 'IDRiD_340.jpg', 'IDRiD_141.jpg', 'IDRiD_082.jpg', 'IDRiD_259.jpg', 'IDRiD_306.jpg', 'IDRiD_404.jpg', 'IDRiD_385.jpg', 'IDRiD_237.jpg', 'IDRiD_216.jpg', 'IDRiD_308.jpg', 'IDRiD_343.jpg', 'IDRiD_383.jpg', 'IDRiD_402.jpg', 'IDRiD_294.jpg', 'IDRiD_354.jpg', 'IDRiD_125.jpg', 'IDRiD_096.jpg', 'IDRiD_231.jpg', 'IDRiD_039.jpg', 'IDRiD_293.jpg', 'IDRiD_158.jpg', 'IDRiD_170.jpg', 'IDRiD_236.jpg', 'IDRiD_341.jpg', 'IDRiD_045.jpg', 'IDRiD_317.jpg', 'IDRiD_180.jpg', 'IDRiD_090.jpg', 'IDRiD_274.jpg', 'IDRiD_133.jpg', 'IDRiD_268.jpg', 'IDRiD_375.jpg', 'IDRiD_316.jpg', 'IDRiD_156.jpg', 'IDRiD_323.jpg', 'IDRiD_260.jpg', 'IDRiD_044.jpg', 'IDRiD_382.jpg', 'IDRiD_330.jpg', 'IDRiD_242.jpg', 'IDRiD_114.jpg', 'IDRiD_368.jpg', 'IDRiD_142.jpg', 'IDRiD_288.jpg', 'IDRiD_051.jpg', 'IDRiD_119.jpg', 'IDRiD_005.jpg', 'IDRiD_027.jpg', 'IDRiD_373.jpg', 'IDRiD_061.jpg', 'IDRiD_076.jpg', 'IDRiD_410.jpg', 'IDRiD_370.jpg', 'IDRiD_228.jpg', 'IDRiD_036.jpg', 'IDRiD_297.jpg', 'IDRiD_032.jpg', 'IDRiD_372.jpg', 'IDRiD_050.jpg', 'IDRiD_245.jpg', 'IDRiD_408.jpg', 'IDRiD_023.jpg', 'IDRiD_270.jpg', 'IDRiD_073.jpg', 'IDRiD_411.jpg', 'IDRiD_060.jpg', 'IDRiD_094.jpg', 'IDRiD_348.jpg', 'IDRiD_281.jpg', 'IDRiD_097.jpg', 'IDRiD_028.jpg', 'IDRiD_140.jpg', 'IDRiD_250.jpg', 'IDRiD_136.jpg', 'IDRiD_166.jpg', 'IDRiD_305.jpg', 'IDRiD_012.jpg', 'IDRiD_220.jpg', 'IDRiD_188.jpg', 'IDRiD_178.jpg', 'IDRiD_187.jpg', 'IDRiD_314.jpg', 'IDRiD_412.jpg', 'IDRiD_400.jpg', 'IDRiD_362.jpg', 'IDRiD_199.jpg', 'IDRiD_144.jpg', 'IDRiD_049.jpg', 'IDRiD_066.jpg', 'IDRiD_074.jpg', 'IDRiD_379.jpg', 'IDRiD_335.jpg', 'IDRiD_224.jpg', 'IDRiD_146.jpg', 'IDRiD_169.jpg', 'IDRiD_118.jpg', 'IDRiD_380.jpg', 'IDRiD_115.jpg', 'IDRiD_276.jpg', 'IDRiD_275.jpg', 'IDRiD_035.jpg', 'IDRiD_080.jpg', 'IDRiD_116.jpg', 'IDRiD_367.jpg', 'IDRiD_145.jpg', 'IDRiD_062.jpg', 'IDRiD_403.jpg', 'IDRiD_264.jpg', 'IDRiD_338.jpg', 'IDRiD_064.jpg', 'IDRiD_172.jpg', 'IDRiD_072.jpg', 'IDRiD_143.jpg', 'IDRiD_240.jpg', 'IDRiD_266.jpg', 'IDRiD_208.jpg', 'IDRiD_031.jpg', 'IDRiD_030.jpg', 'IDRiD_409.jpg', 'IDRiD_397.jpg', 'IDRiD_132.jpg', 'IDRiD_223.jpg', 'IDRiD_310.jpg', 'IDRiD_117.jpg', 'IDRiD_225.jpg', 'IDRiD_226.jpg', 'IDRiD_013.jpg', 'IDRiD_029.jpg', 'IDRiD_148.jpg', 'IDRiD_128.jpg', 'IDRiD_256.jpg', 'IDRiD_175.jpg', 'IDRiD_184.jpg', 'IDRiD_085.jpg', 'IDRiD_081.jpg', 'IDRiD_201.jpg', 'IDRiD_342.jpg', 'IDRiD_160.jpg', 'IDRiD_203.jpg', 'IDRiD_233.jpg', 'IDRiD_290.jpg', 'IDRiD_103.jpg', 'IDRiD_092.jpg', 'IDRiD_106.jpg', 'IDRiD_279.jpg', 'IDRiD_393.jpg', 'IDRiD_292.jpg', 'IDRiD_377.jpg', 'IDRiD_042.jpg', 'IDRiD_077.jpg', 'IDRiD_262.jpg', 'IDRiD_390.jpg', 'IDRiD_041.jpg', 'IDRiD_003.jpg', 'IDRiD_311.jpg', 'IDRiD_215.jpg', 'IDRiD_388.jpg', 'IDRiD_320.jpg', 'IDRiD_147.jpg', 'IDRiD_008.jpg', 'IDRiD_174.jpg', 'IDRiD_244.jpg', 'IDRiD_395.jpg', 'IDRiD_212.jpg', 'IDRiD_230.jpg', 'IDRiD_202.jpg', 'IDRiD_161.jpg', 'IDRiD_267.jpg', 'IDRiD_047.jpg', 'IDRiD_037.jpg', 'IDRiD_134.jpg', 'IDRiD_298.jpg']\n",
            "Validation files: ['IDRiD_079.jpg', 'IDRiD_006.jpg', 'IDRiD_067.jpg', 'IDRiD_099.jpg', 'IDRiD_089.jpg', 'IDRiD_102.jpg', 'IDRiD_087.jpg', 'IDRiD_071.jpg', 'IDRiD_010.jpg', 'IDRiD_091.jpg', 'IDRiD_011.jpg', 'IDRiD_015.jpg', 'IDRiD_065.jpg', 'IDRiD_021.jpg', 'IDRiD_002.jpg', 'IDRiD_004.jpg', 'IDRiD_026.jpg', 'IDRiD_022.jpg', 'IDRiD_048.jpg', 'IDRiD_070.jpg', 'IDRiD_017.jpg', 'IDRiD_018.jpg', 'IDRiD_078.jpg', 'IDRiD_001.jpg', 'IDRiD_053.jpg', 'IDRiD_040.jpg', 'IDRiD_014.jpg', 'IDRiD_057.jpg', 'IDRiD_019.jpg', 'IDRiD_075.jpg', 'IDRiD_038.jpg', 'IDRiD_093.jpg', 'IDRiD_016.jpg', 'IDRiD_058.jpg', 'IDRiD_068.jpg', 'IDRiD_088.jpg', 'IDRiD_063.jpg', 'IDRiD_101.jpg', 'IDRiD_069.jpg', 'IDRiD_025.jpg', 'IDRiD_084.jpg', 'IDRiD_034.jpg', 'IDRiD_033.jpg', 'IDRiD_009.jpg', 'IDRiD_020.jpg', 'IDRiD_086.jpg', 'IDRiD_052.jpg', 'IDRiD_095.jpg', 'IDRiD_024.jpg', 'IDRiD_043.jpg', 'IDRiD_055.jpg', 'IDRiD_046.jpg', 'IDRiD_083.jpg', 'IDRiD_054.jpg', 'IDRiD_098.jpg', 'IDRiD_059.jpg', 'IDRiD_100.jpg', 'IDRiD_007.jpg', 'IDRiD_056.jpg', 'IDRiD_082.jpg', 'IDRiD_096.jpg', 'IDRiD_039.jpg', 'IDRiD_045.jpg', 'IDRiD_090.jpg', 'IDRiD_044.jpg', 'IDRiD_051.jpg', 'IDRiD_005.jpg', 'IDRiD_027.jpg', 'IDRiD_061.jpg', 'IDRiD_076.jpg', 'IDRiD_036.jpg', 'IDRiD_032.jpg', 'IDRiD_050.jpg', 'IDRiD_023.jpg', 'IDRiD_073.jpg', 'IDRiD_060.jpg', 'IDRiD_094.jpg', 'IDRiD_097.jpg', 'IDRiD_028.jpg', 'IDRiD_012.jpg', 'IDRiD_049.jpg', 'IDRiD_066.jpg', 'IDRiD_074.jpg', 'IDRiD_035.jpg', 'IDRiD_080.jpg', 'IDRiD_062.jpg', 'IDRiD_064.jpg', 'IDRiD_072.jpg', 'IDRiD_031.jpg', 'IDRiD_030.jpg', 'IDRiD_013.jpg', 'IDRiD_029.jpg', 'IDRiD_085.jpg', 'IDRiD_081.jpg', 'IDRiD_103.jpg', 'IDRiD_092.jpg', 'IDRiD_042.jpg', 'IDRiD_077.jpg', 'IDRiD_041.jpg', 'IDRiD_003.jpg', 'IDRiD_008.jpg', 'IDRiD_047.jpg', 'IDRiD_037.jpg']\n"
          ]
        }
      ],
      "source": [
        "# List the files in the training directory\n",
        "train_files = os.listdir('/content/extracted/B. Disease Grading/1. Original Images/a. Training Set')\n",
        "valid_files = os.listdir('/content/extracted/B. Disease Grading/1. Original Images/b. Testing Set')\n",
        "\n",
        "print(\"Training files:\", train_files)\n",
        "print(\"Validation files:\", valid_files)"
      ]
    },
    {
      "cell_type": "code",
      "execution_count": null,
      "metadata": {
        "id": "A_6GfOWwUqyC"
      },
      "outputs": [],
      "source": [
        "import os\n",
        "import pandas as pd\n",
        "from tensorflow.keras.preprocessing.image import ImageDataGenerator\n",
        "import numpy as np\n",
        "\n",
        "# Define image paths and labels\n",
        "train_dir = '/content/extracted/B. Disease Grading/1. Original Images/a. Training Set'\n",
        "valid_dir = '/content/extracted/B. Disease Grading/1. Original Images/b. Testing Set'\n",
        "\n",
        "train_files = os.listdir(train_dir)\n",
        "valid_files = os.listdir(valid_dir)\n",
        "\n",
        "# list of image paths (use actual paths and labels)\n",
        "train_image_paths = [os.path.join(train_dir, file) for file in train_files]\n",
        "valid_image_paths = [os.path.join(valid_dir, file) for file in valid_files]\n",
        "\n",
        "# Assuming labels are predefined or extracted (e.g., 0, 1, 2 for classes)\n",
        "train_labels = [np.random.randint(0, 5) for _ in range(len(train_image_paths))]\n",
        "valid_labels = [np.random.randint(0, 5) for _ in range(len(valid_image_paths))]\n",
        "\n",
        "df_train = pd.DataFrame({'file': train_image_paths, 'label': [str(label) for label in train_labels]})\n",
        "df_valid = pd.DataFrame({'file': valid_image_paths, 'label': [str(label) for label in valid_labels]})\n"
      ]
    },
    {
      "cell_type": "code",
      "execution_count": null,
      "metadata": {
        "id": "wiF5WlQvWL9y"
      },
      "outputs": [],
      "source": [
        "import tensorflow as tf\n",
        "import os\n",
        "\n",
        "# Paths to the dataset\n",
        "train_dir = '/content/extracted/B. Disease Grading/1. Original Images/a. Training Set'\n",
        "valid_dir = '/content/extracted/B. Disease Grading/1. Original Images/b. Testing Set'\n",
        "\n",
        "def load_image(file_path):\n",
        "    image = tf.io.read_file(file_path)\n",
        "    image = tf.image.decode_jpeg(image, channels=3)\n",
        "    image = tf.image.resize(image, [224, 224])\n",
        "    image = image / 255.0  # Normalize\n",
        "    return image\n",
        "\n",
        "def create_dataset(data_dir):\n",
        "    file_paths = [os.path.join(data_dir, fname) for fname in os.listdir(data_dir)]\n",
        "    train_labels = [np.random.randint(0, 5) for _ in range(len(train_image_paths))]\n",
        "    valid_labels = [np.random.randint(0, 5) for _ in range(len(valid_image_paths))]\n",
        "    path_ds = tf.data.Dataset.from_tensor_slices(file_paths)\n",
        "    image_ds = path_ds.map(load_image)\n",
        "    train_labels_ds = tf.data.Dataset.from_tensor_slices(train_labels)\n",
        "    valid_labels_ds = tf.data.Dataset.from_tensor_slices(valid_labels)\n",
        "    return tf.data.Dataset.zip((image_ds, train_labels_ds, valid_labels_ds))\n",
        "\n",
        "train_data = create_dataset(train_dir)\n",
        "valid_data = create_dataset(valid_dir)\n",
        "\n",
        "# Set batch size\n",
        "train_data = train_data.batch(32)\n",
        "valid_data = valid_data.batch(32)\n"
      ]
    },
    {
      "cell_type": "code",
      "execution_count": null,
      "metadata": {
        "colab": {
          "base_uri": "https://localhost:8080/"
        },
        "id": "VjRjnUg_ZAdh",
        "outputId": "0f6296fc-1245-4e25-ffe6-953eef0a72bb"
      },
      "outputs": [
        {
          "output_type": "stream",
          "name": "stdout",
          "text": [
            "Found 413 validated image filenames belonging to 5 classes.\n",
            "Found 103 validated image filenames belonging to 5 classes.\n"
          ]
        }
      ],
      "source": [
        "from tensorflow.keras.preprocessing.image import ImageDataGenerator\n",
        "\n",
        "train_datagen = ImageDataGenerator(rescale=1./255, rotation_range=20, horizontal_flip=True)\n",
        "valid_datagen = ImageDataGenerator(rescale=1./255)\n",
        "# Ensure categorical labels are correctly handled by `flow_from_dataframe`\n",
        "train_data = train_datagen.flow_from_dataframe(\n",
        "    dataframe=df_train,\n",
        "    directory=None,\n",
        "    x_col='file',\n",
        "    y_col='label',\n",
        "    target_size=(224, 224),\n",
        "    batch_size=32,\n",
        "    class_mode='categorical'  # Automatically handles one-hot encoding\n",
        ")\n",
        "\n",
        "valid_data = valid_datagen.flow_from_dataframe(\n",
        "    dataframe=df_valid,\n",
        "    directory=None,\n",
        "    x_col='file',\n",
        "    y_col='label',\n",
        "    target_size=(224, 224),\n",
        "    batch_size=32,\n",
        "    class_mode='categorical'  # Automatically handles one-hot encoding\n",
        ")\n"
      ]
    },
    {
      "cell_type": "code",
      "execution_count": null,
      "metadata": {
        "colab": {
          "background_save": true,
          "base_uri": "https://localhost:8080/"
        },
        "id": "jIrd6UN5Ytsn",
        "outputId": "df59a2a0-ff4e-4597-9d13-719d9b8d1a47"
      },
      "outputs": [
        {
          "name": "stderr",
          "output_type": "stream",
          "text": [
            "/usr/local/lib/python3.11/dist-packages/keras/src/trainers/data_adapters/py_dataset_adapter.py:121: UserWarning: Your `PyDataset` class should call `super().__init__(**kwargs)` in its constructor. `**kwargs` can include `workers`, `use_multiprocessing`, `max_queue_size`. Do not pass these arguments to `fit()`, as they will be ignored.\n",
            "  self._warn_if_super_not_called()\n"
          ]
        },
        {
          "name": "stdout",
          "output_type": "stream",
          "text": [
            "Epoch 1/10\n",
            "\u001b[1m13/13\u001b[0m \u001b[32m━━━━━━━━━━━━━━━━━━━━\u001b[0m\u001b[37m\u001b[0m \u001b[1m129s\u001b[0m 8s/step - accuracy: 0.2004 - loss: 4.2057 - val_accuracy: 0.2136 - val_loss: 1.7717\n",
            "Epoch 2/10\n",
            "\u001b[1m13/13\u001b[0m \u001b[32m━━━━━━━━━━━━━━━━━━━━\u001b[0m\u001b[37m\u001b[0m \u001b[1m83s\u001b[0m 6s/step - accuracy: 0.2115 - loss: 1.6405 - val_accuracy: 0.1650 - val_loss: 1.6108\n",
            "Epoch 3/10\n",
            "\u001b[1m13/13\u001b[0m \u001b[32m━━━━━━━━━━━━━━━━━━━━\u001b[0m\u001b[37m\u001b[0m \u001b[1m143s\u001b[0m 6s/step - accuracy: 0.1926 - loss: 1.6165 - val_accuracy: 0.1650 - val_loss: 1.6131\n",
            "Epoch 4/10\n",
            "\u001b[1m13/13\u001b[0m \u001b[32m━━━━━━━━━━━━━━━━━━━━\u001b[0m\u001b[37m\u001b[0m \u001b[1m83s\u001b[0m 6s/step - accuracy: 0.2158 - loss: 1.6112 - val_accuracy: 0.1650 - val_loss: 1.6095\n",
            "Epoch 5/10\n",
            "\u001b[1m13/13\u001b[0m \u001b[32m━━━━━━━━━━━━━━━━━━━━\u001b[0m\u001b[37m\u001b[0m \u001b[1m139s\u001b[0m 6s/step - accuracy: 0.2421 - loss: 1.5974 - val_accuracy: 0.2136 - val_loss: 1.6098\n",
            "Epoch 6/10\n",
            "\u001b[1m13/13\u001b[0m \u001b[32m━━━━━━━━━━━━━━━━━━━━\u001b[0m\u001b[37m\u001b[0m \u001b[1m84s\u001b[0m 6s/step - accuracy: 0.2531 - loss: 1.6171 - val_accuracy: 0.2427 - val_loss: 1.6084\n",
            "Epoch 7/10\n",
            "\u001b[1m13/13\u001b[0m \u001b[32m━━━━━━━━━━━━━━━━━━━━\u001b[0m\u001b[37m\u001b[0m \u001b[1m147s\u001b[0m 6s/step - accuracy: 0.2127 - loss: 1.6082 - val_accuracy: 0.2427 - val_loss: 1.6083\n",
            "Epoch 8/10\n",
            "\u001b[1m13/13\u001b[0m \u001b[32m━━━━━━━━━━━━━━━━━━━━\u001b[0m\u001b[37m\u001b[0m \u001b[1m82s\u001b[0m 6s/step - accuracy: 0.2105 - loss: 1.6093 - val_accuracy: 0.2427 - val_loss: 1.6080\n",
            "Epoch 9/10\n",
            "\u001b[1m13/13\u001b[0m \u001b[32m━━━━━━━━━━━━━━━━━━━━\u001b[0m\u001b[37m\u001b[0m \u001b[1m82s\u001b[0m 6s/step - accuracy: 0.1887 - loss: 1.6100 - val_accuracy: 0.2427 - val_loss: 1.6079\n",
            "Epoch 10/10\n",
            "\u001b[1m13/13\u001b[0m \u001b[32m━━━━━━━━━━━━━━━━━━━━\u001b[0m\u001b[37m\u001b[0m \u001b[1m87s\u001b[0m 7s/step - accuracy: 0.2319 - loss: 1.6080 - val_accuracy: 0.2427 - val_loss: 1.6077\n"
          ]
        },
        {
          "data": {
            "text/plain": [
              "<keras.src.callbacks.history.History at 0x7c1f46f47d10>"
            ]
          },
          "execution_count": 19,
          "metadata": {},
          "output_type": "execute_result"
        }
      ],
      "source": [
        "from tensorflow.keras.models import Sequential\n",
        "from tensorflow.keras.layers import Dense, Flatten, Dropout\n",
        "from tensorflow.keras.applications import EfficientNetB0\n",
        "from tensorflow.keras.optimizers import Adam\n",
        "from tensorflow.keras.callbacks import EarlyStopping\n",
        "\n",
        "# Define the model\n",
        "model = Sequential([\n",
        "    EfficientNetB0(weights='imagenet', include_top=False, input_shape=(224, 224, 3)),\n",
        "    Flatten(),\n",
        "    Dropout(0.5),  # Dropout to reduce overfitting\n",
        "    Dense(128, activation='relu'),\n",
        "    Dropout(0.5),  # Another Dropout layer\n",
        "    Dense(5, activation='softmax')  # Assuming 5 classes for disease grading\n",
        "])\n",
        "\n",
        "# Compile the model\n",
        "model.compile(optimizer=Adam(), loss='categorical_crossentropy', metrics=['accuracy'])\n",
        "\n",
        "# Early stopping callback\n",
        "early_stopping = EarlyStopping(monitor='val_loss', patience=5, restore_best_weights=True)\n",
        "\n",
        "# Train the model with early stopping\n",
        "model.fit(train_data, epochs=10, validation_data=valid_data,\n",
        "          steps_per_epoch=len(train_data), validation_steps=len(valid_data),\n",
        "          callbacks=[early_stopping])\n"
      ]
    },
    {
      "cell_type": "code",
      "execution_count": null,
      "metadata": {
        "colab": {
          "base_uri": "https://localhost:8080/"
        },
        "id": "_qBZXEXBdymA",
        "outputId": "b885e093-72da-42a9-e44c-b809d5750d74"
      },
      "outputs": [
        {
          "output_type": "stream",
          "name": "stderr",
          "text": [
            "/usr/local/lib/python3.11/dist-packages/keras/src/trainers/data_adapters/py_dataset_adapter.py:121: UserWarning: Your `PyDataset` class should call `super().__init__(**kwargs)` in its constructor. `**kwargs` can include `workers`, `use_multiprocessing`, `max_queue_size`. Do not pass these arguments to `fit()`, as they will be ignored.\n",
            "  self._warn_if_super_not_called()\n"
          ]
        },
        {
          "output_type": "stream",
          "name": "stdout",
          "text": [
            "\u001b[1m4/4\u001b[0m \u001b[32m━━━━━━━━━━━━━━━━━━━━\u001b[0m\u001b[37m\u001b[0m \u001b[1m12s\u001b[0m 1s/step - accuracy: 0.1826 - loss: 1.6922\n",
            "Validation Loss: 1.6712812185287476\n",
            "Validation Accuracy: 0.20388349890708923\n"
          ]
        }
      ],
      "source": [
        "# Evaluate model on the validation dataset\n",
        "val_loss, val_accuracy = model.evaluate(valid_data)\n",
        "print(f\"Validation Loss: {val_loss}\")\n",
        "print(f\"Validation Accuracy: {val_accuracy}\")"
      ]
    },
    {
      "cell_type": "code",
      "execution_count": null,
      "metadata": {
        "id": "TgWzoyOfd36f"
      },
      "outputs": [],
      "source": [
        "# Save Model\n",
        "model.save(\"diabetic_retinopathy_model.keras\")"
      ]
    },
    {
      "cell_type": "code",
      "execution_count": null,
      "metadata": {
        "colab": {
          "base_uri": "https://localhost:8080/"
        },
        "id": "UGCkKmvGegyf",
        "outputId": "d2794a35-a56e-4bad-ee21-1a6aa92569c1"
      },
      "outputs": [
        {
          "output_type": "stream",
          "name": "stdout",
          "text": [
            "Epoch 1/10\n",
            "\u001b[1m13/13\u001b[0m \u001b[32m━━━━━━━━━━━━━━━━━━━━\u001b[0m\u001b[37m\u001b[0m \u001b[1m53s\u001b[0m 3s/step - accuracy: 0.2063 - loss: 13.6029 - val_accuracy: 0.1845 - val_loss: 2.8636\n",
            "Epoch 2/10\n",
            "\u001b[1m13/13\u001b[0m \u001b[32m━━━━━━━━━━━━━━━━━━━━\u001b[0m\u001b[37m\u001b[0m \u001b[1m76s\u001b[0m 3s/step - accuracy: 0.2155 - loss: 3.2416 - val_accuracy: 0.1845 - val_loss: 2.5534\n",
            "Epoch 3/10\n",
            "\u001b[1m13/13\u001b[0m \u001b[32m━━━━━━━━━━━━━━━━━━━━\u001b[0m\u001b[37m\u001b[0m \u001b[1m40s\u001b[0m 3s/step - accuracy: 0.1843 - loss: 2.4044 - val_accuracy: 0.1845 - val_loss: 2.0186\n",
            "Epoch 4/10\n",
            "\u001b[1m13/13\u001b[0m \u001b[32m━━━━━━━━━━━━━━━━━━━━\u001b[0m\u001b[37m\u001b[0m \u001b[1m37s\u001b[0m 3s/step - accuracy: 0.1560 - loss: 2.0490 - val_accuracy: 0.1845 - val_loss: 2.2303\n",
            "Epoch 5/10\n",
            "\u001b[1m13/13\u001b[0m \u001b[32m━━━━━━━━━━━━━━━━━━━━\u001b[0m\u001b[37m\u001b[0m \u001b[1m42s\u001b[0m 3s/step - accuracy: 0.2013 - loss: 1.9775 - val_accuracy: 0.1845 - val_loss: 1.9557\n",
            "Epoch 6/10\n",
            "\u001b[1m13/13\u001b[0m \u001b[32m━━━━━━━━━━━━━━━━━━━━\u001b[0m\u001b[37m\u001b[0m \u001b[1m42s\u001b[0m 3s/step - accuracy: 0.1737 - loss: 2.0747 - val_accuracy: 0.1845 - val_loss: 2.4888\n",
            "Epoch 7/10\n",
            "\u001b[1m13/13\u001b[0m \u001b[32m━━━━━━━━━━━━━━━━━━━━\u001b[0m\u001b[37m\u001b[0m \u001b[1m39s\u001b[0m 3s/step - accuracy: 0.1886 - loss: 2.0995 - val_accuracy: 0.2427 - val_loss: 1.6228\n",
            "Epoch 8/10\n",
            "\u001b[1m13/13\u001b[0m \u001b[32m━━━━━━━━━━━━━━━━━━━━\u001b[0m\u001b[37m\u001b[0m \u001b[1m40s\u001b[0m 3s/step - accuracy: 0.2373 - loss: 1.9833 - val_accuracy: 0.1845 - val_loss: 1.9724\n",
            "Epoch 9/10\n",
            "\u001b[1m13/13\u001b[0m \u001b[32m━━━━━━━━━━━━━━━━━━━━\u001b[0m\u001b[37m\u001b[0m \u001b[1m40s\u001b[0m 3s/step - accuracy: 0.2213 - loss: 1.9427 - val_accuracy: 0.1845 - val_loss: 2.5000\n",
            "Epoch 10/10\n",
            "\u001b[1m13/13\u001b[0m \u001b[32m━━━━━━━━━━━━━━━━━━━━\u001b[0m\u001b[37m\u001b[0m \u001b[1m36s\u001b[0m 3s/step - accuracy: 0.1923 - loss: 2.0280 - val_accuracy: 0.2427 - val_loss: 1.8537\n"
          ]
        }
      ],
      "source": [
        "history = model.fit(train_data, epochs=10, validation_data=valid_data,\n",
        "                    steps_per_epoch=len(train_data), validation_steps=len(valid_data))\n"
      ]
    },
    {
      "cell_type": "code",
      "execution_count": null,
      "metadata": {
        "colab": {
          "base_uri": "https://localhost:8080/",
          "height": 449
        },
        "id": "CMqznIrMeFuc",
        "outputId": "93931935-0ff0-4079-e634-483f41d28a7a"
      },
      "outputs": [
        {
          "output_type": "display_data",
          "data": {
            "text/plain": [
              "<Figure size 640x480 with 1 Axes>"
            ],
            "image/png": "[encoded data removed]"
          },
          "metadata": {}
        }
      ],
      "source": [
        "import matplotlib.pyplot as plt\n",
        "import seaborn as sns\n",
        "\n",
        "# Example: Visualize training and validation accuracy\n",
        "plt.plot(history.history['accuracy'], label='Train Accuracy')\n",
        "plt.plot(history.history['val_accuracy'], label='Val Accuracy')\n",
        "plt.xlabel('Epochs')\n",
        "plt.ylabel('Accuracy')\n",
        "plt.legend()\n",
        "plt.show()"
      ]
    },
    {
      "cell_type": "code",
      "execution_count": null,
      "metadata": {
        "colab": {
          "base_uri": "https://localhost:8080/"
        },
        "id": "O7GylNoriprS",
        "outputId": "d9ece971-f2ee-4914-c6eb-273db984f0de"
      },
      "outputs": [
        {
          "output_type": "stream",
          "name": "stdout",
          "text": [
            "\u001b[1m1/1\u001b[0m \u001b[32m━━━━━━━━━━━━━━━━━━━━\u001b[0m\u001b[37m\u001b[0m \u001b[1m2s\u001b[0m 2s/step\n",
            "Predictions (raw probabilities): [[0.11952882 0.09037903 0.36280292 0.2582797  0.16900957]]\n",
            "Predicted Class Index: 2\n",
            "Predicted Class Label: 2\n"
          ]
        }
      ],
      "source": [
        "import tensorflow as tf\n",
        "\n",
        "# Load and preprocess the image\n",
        "image_path = '/content/extracted/B. Disease Grading/1. Original Images/b. Testing Set/IDRiD_086.jpg'  # Assuming the image is in the current directory\n",
        "image = tf.keras.preprocessing.image.load_img(image_path, target_size=(224, 224))  # Resize to match model input\n",
        "image = tf.keras.preprocessing.image.img_to_array(image)\n",
        "image = tf.expand_dims(image, axis=0)  # Add batch dimension\n",
        "\n",
        "# Make predictions\n",
        "predictions = model.predict(image)\n",
        "\n",
        "# Output the raw predictions (class probabilities)\n",
        "print(\"Predictions (raw probabilities):\", predictions)\n",
        "\n",
        "# If your model is for classification, get the predicted class index\n",
        "predicted_class_index = np.argmax(predictions, axis=1).item()  # Get the predicted class index\n",
        "\n",
        "# Get the class labels from the training data\n",
        "class_labels = list(valid_data.class_indices.keys())  # Use the class labels from the validation data generator\n",
        "\n",
        "# Map the predicted class index to the class label\n",
        "predicted_class_label = class_labels[predicted_class_index]\n",
        "\n",
        "# Display the predicted class label\n",
        "print(f\"Predicted Class Index: {predicted_class_index}\")\n",
        "print(f\"Predicted Class Label: {predicted_class_label}\")"
      ]
    },
    {
      "cell_type": "code",
      "source": [
        "from tensorflow.keras.models import load_model\n",
        "\n",
        "model = load_model(\"diabetic_retinopathy_model.keras\")"
      ],
      "metadata": {
        "colab": {
          "base_uri": "https://localhost:8080/"
        },
        "id": "Z14TPayWAodD",
        "outputId": "8787dd95-2ce4-456a-8b90-f9b7acbb21e4"
      },
      "execution_count": null,
      "outputs": [
        {
          "output_type": "stream",
          "name": "stderr",
          "text": [
            "/usr/local/lib/python3.11/dist-packages/keras/src/saving/saving_lib.py:757: UserWarning: Skipping variable loading for optimizer 'adam', because it has 10 variables whereas the saved optimizer has 2 variables. \n",
            "  saveable.load_own_variables(weights_store.get(inner_path))\n"
          ]
        }
      ]
    },
    {
      "cell_type": "code",
      "source": [
        "from sklearn.metrics import confusion_matrix\n",
        "\n",
        "# Get model predictions\n",
        "valid_data.reset()  # Make sure to reset the generator for correct batch iteration\n",
        "predictions = model.predict(valid_data, verbose=1)\n",
        "predicted_classes = np.argmax(predictions, axis=1)\n",
        "\n",
        "# Get the true class labels\n",
        "true_classes = valid_data.classes\n",
        "\n",
        "# Compute confusion matrix\n",
        "cm = confusion_matrix(true_classes, predicted_classes)\n",
        "\n",
        "# Plot confusion matrix using seaborn\n",
        "plt.figure(figsize=(8, 6))\n",
        "sns.heatmap(cm, annot=True, fmt=\"d\", cmap=\"Blues\", xticklabels=valid_data.class_indices.keys(), yticklabels=valid_data.class_indices.keys())\n",
        "plt.xlabel('Predicted')\n",
        "plt.ylabel('True')\n",
        "plt.title('Confusion Matrix')\n",
        "plt.show()"
      ],
      "metadata": {
        "colab": {
          "base_uri": "https://localhost:8080/",
          "height": 581
        },
        "id": "dCkNPnYXId72",
        "outputId": "d7170a2b-ffc6-4509-a8df-cafb80eb7901"
      },
      "execution_count": null,
      "outputs": [
        {
          "output_type": "stream",
          "name": "stdout",
          "text": [
            "\u001b[1m4/4\u001b[0m \u001b[32m━━━━━━━━━━━━━━━━━━━━\u001b[0m\u001b[37m\u001b[0m \u001b[1m8s\u001b[0m 1s/step\n"
          ]
        },
        {
          "output_type": "display_data",
          "data": {
            "text/plain": [
              "<Figure size 800x600 with 2 Axes>"
            ],
            "image/png": "[encoded data removed]"
          },
          "metadata": {}
        }
      ]
    },
    {
      "cell_type": "code",
      "source": [
        "pip install streamlit tensorflow pillow boto3"
      ],
      "metadata": {
        "colab": {
          "base_uri": "https://localhost:8080/"
        },
        "id": "l_J9BXbiW9ua",
        "outputId": "d51126e0-d7d9-4621-99f1-83059bb24973"
      },
      "execution_count": 36,
      "outputs": [
        {
          "output_type": "stream",
          "name": "stdout",
          "text": [
            "Collecting streamlit\n",
            "  Downloading streamlit-1.42.1-py2.py3-none-any.whl.metadata (8.9 kB)\n",
            "Requirement already satisfied: tensorflow in /usr/local/lib/python3.11/dist-packages (2.18.0)\n",
            "Requirement already satisfied: pillow in /usr/local/lib/python3.11/dist-packages (11.1.0)\n",
            "Requirement already satisfied: boto3 in /usr/local/lib/python3.11/dist-packages (1.36.22)\n",
            "Requirement already satisfied: altair<6,>=4.0 in /usr/local/lib/python3.11/dist-packages (from streamlit) (5.5.0)\n",
            "Requirement already satisfied: blinker<2,>=1.0.0 in /usr/local/lib/python3.11/dist-packages (from streamlit) (1.9.0)\n",
            "Requirement already satisfied: cachetools<6,>=4.0 in /usr/local/lib/python3.11/dist-packages (from streamlit) (5.5.1)\n",
            "Requirement already satisfied: click<9,>=7.0 in /usr/local/lib/python3.11/dist-packages (from streamlit) (8.1.8)\n",
            "Requirement already satisfied: numpy<3,>=1.23 in /usr/local/lib/python3.11/dist-packages (from streamlit) (1.26.4)\n",
            "Requirement already satisfied: packaging<25,>=20 in /usr/local/lib/python3.11/dist-packages (from streamlit) (24.2)\n",
            "Requirement already satisfied: pandas<3,>=1.4.0 in /usr/local/lib/python3.11/dist-packages (from streamlit) (2.2.2)\n",
            "Requirement already satisfied: protobuf<6,>=3.20 in /usr/local/lib/python3.11/dist-packages (from streamlit) (4.25.6)\n",
            "Requirement already satisfied: pyarrow>=7.0 in /usr/local/lib/python3.11/dist-packages (from streamlit) (17.0.0)\n",
            "Requirement already satisfied: requests<3,>=2.27 in /usr/local/lib/python3.11/dist-packages (from streamlit) (2.32.3)\n",
            "Requirement already satisfied: rich<14,>=10.14.0 in /usr/local/lib/python3.11/dist-packages (from streamlit) (13.9.4)\n",
            "Requirement already satisfied: tenacity<10,>=8.1.0 in /usr/local/lib/python3.11/dist-packages (from streamlit) (9.0.0)\n",
            "Requirement already satisfied: toml<2,>=0.10.1 in /usr/local/lib/python3.11/dist-packages (from streamlit) (0.10.2)\n",
            "Requirement already satisfied: typing-extensions<5,>=4.4.0 in /usr/local/lib/python3.11/dist-packages (from streamlit) (4.12.2)\n",
            "Collecting watchdog<7,>=2.1.5 (from streamlit)\n",
            "  Downloading watchdog-6.0.0-py3-none-manylinux2014_x86_64.whl.metadata (44 kB)\n",
            "\u001b[2K     \u001b[90m━━━━━━━━━━━━━━━━━━━━━━━━━━━━━━━━━━━━━━━━\u001b[0m \u001b[32m44.3/44.3 kB\u001b[0m \u001b[31m1.8 MB/s\u001b[0m eta \u001b[36m0:00:00\u001b[0m\n",
            "\u001b[?25hRequirement already satisfied: gitpython!=3.1.19,<4,>=3.0.7 in /usr/local/lib/python3.11/dist-packages (from streamlit) (3.1.44)\n",
            "Collecting pydeck<1,>=0.8.0b4 (from streamlit)\n",
            "  Downloading pydeck-0.9.1-py2.py3-none-any.whl.metadata (4.1 kB)\n",
            "Requirement already satisfied: tornado<7,>=6.0.3 in /usr/local/lib/python3.11/dist-packages (from streamlit) (6.4.2)\n",
            "Requirement already satisfied: absl-py>=1.0.0 in /usr/local/lib/python3.11/dist-packages (from tensorflow) (1.4.0)\n",
            "Requirement already satisfied: astunparse>=1.6.0 in /usr/local/lib/python3.11/dist-packages (from tensorflow) (1.6.3)\n",
            "Requirement already satisfied: flatbuffers>=24.3.25 in /usr/local/lib/python3.11/dist-packages (from tensorflow) (25.2.10)\n",
            "Requirement already satisfied: gast!=0.5.0,!=0.5.1,!=0.5.2,>=0.2.1 in /usr/local/lib/python3.11/dist-packages (from tensorflow) (0.6.0)\n",
            "Requirement already satisfied: google-pasta>=0.1.1 in /usr/local/lib/python3.11/dist-packages (from tensorflow) (0.2.0)\n",
            "Requirement already satisfied: libclang>=13.0.0 in /usr/local/lib/python3.11/dist-packages (from tensorflow) (18.1.1)\n",
            "Requirement already satisfied: opt-einsum>=2.3.2 in /usr/local/lib/python3.11/dist-packages (from tensorflow) (3.4.0)\n",
            "Requirement already satisfied: setuptools in /usr/local/lib/python3.11/dist-packages (from tensorflow) (75.1.0)\n",
            "Requirement already satisfied: six>=1.12.0 in /usr/local/lib/python3.11/dist-packages (from tensorflow) (1.17.0)\n",
            "Requirement already satisfied: termcolor>=1.1.0 in /usr/local/lib/python3.11/dist-packages (from tensorflow) (2.5.0)\n",
            "Requirement already satisfied: wrapt>=1.11.0 in /usr/local/lib/python3.11/dist-packages (from tensorflow) (1.17.2)\n",
            "Requirement already satisfied: grpcio<2.0,>=1.24.3 in /usr/local/lib/python3.11/dist-packages (from tensorflow) (1.70.0)\n",
            "Requirement already satisfied: tensorboard<2.19,>=2.18 in /usr/local/lib/python3.11/dist-packages (from tensorflow) (2.18.0)\n",
            "Requirement already satisfied: keras>=3.5.0 in /usr/local/lib/python3.11/dist-packages (from tensorflow) (3.8.0)\n",
            "Requirement already satisfied: h5py>=3.11.0 in /usr/local/lib/python3.11/dist-packages (from tensorflow) (3.12.1)\n",
            "Requirement already satisfied: ml-dtypes<0.5.0,>=0.4.0 in /usr/local/lib/python3.11/dist-packages (from tensorflow) (0.4.1)\n",
            "Requirement already satisfied: tensorflow-io-gcs-filesystem>=0.23.1 in /usr/local/lib/python3.11/dist-packages (from tensorflow) (0.37.1)\n",
            "Requirement already satisfied: botocore<1.37.0,>=1.36.22 in /usr/local/lib/python3.11/dist-packages (from boto3) (1.36.22)\n",
            "Requirement already satisfied: jmespath<2.0.0,>=0.7.1 in /usr/local/lib/python3.11/dist-packages (from boto3) (1.0.1)\n",
            "Requirement already satisfied: s3transfer<0.12.0,>=0.11.0 in /usr/local/lib/python3.11/dist-packages (from boto3) (0.11.2)\n",
            "Requirement already satisfied: jinja2 in /usr/local/lib/python3.11/dist-packages (from altair<6,>=4.0->streamlit) (3.1.5)\n",
            "Requirement already satisfied: jsonschema>=3.0 in /usr/local/lib/python3.11/dist-packages (from altair<6,>=4.0->streamlit) (4.23.0)\n",
            "Requirement already satisfied: narwhals>=1.14.2 in /usr/local/lib/python3.11/dist-packages (from altair<6,>=4.0->streamlit) (1.26.0)\n",
            "Requirement already satisfied: wheel<1.0,>=0.23.0 in /usr/local/lib/python3.11/dist-packages (from astunparse>=1.6.0->tensorflow) (0.45.1)\n",
            "Requirement already satisfied: python-dateutil<3.0.0,>=2.1 in /usr/local/lib/python3.11/dist-packages (from botocore<1.37.0,>=1.36.22->boto3) (2.8.2)\n",
            "Requirement already satisfied: urllib3!=2.2.0,<3,>=1.25.4 in /usr/local/lib/python3.11/dist-packages (from botocore<1.37.0,>=1.36.22->boto3) (2.3.0)\n",
            "Requirement already satisfied: gitdb<5,>=4.0.1 in /usr/local/lib/python3.11/dist-packages (from gitpython!=3.1.19,<4,>=3.0.7->streamlit) (4.0.12)\n",
            "Requirement already satisfied: namex in /usr/local/lib/python3.11/dist-packages (from keras>=3.5.0->tensorflow) (0.0.8)\n",
            "Requirement already satisfied: optree in /usr/local/lib/python3.11/dist-packages (from keras>=3.5.0->tensorflow) (0.14.0)\n",
            "Requirement already satisfied: pytz>=2020.1 in /usr/local/lib/python3.11/dist-packages (from pandas<3,>=1.4.0->streamlit) (2025.1)\n",
            "Requirement already satisfied: tzdata>=2022.7 in /usr/local/lib/python3.11/dist-packages (from pandas<3,>=1.4.0->streamlit) (2025.1)\n",
            "Requirement already satisfied: charset-normalizer<4,>=2 in /usr/local/lib/python3.11/dist-packages (from requests<3,>=2.27->streamlit) (3.4.1)\n",
            "Requirement already satisfied: idna<4,>=2.5 in /usr/local/lib/python3.11/dist-packages (from requests<3,>=2.27->streamlit) (3.10)\n",
            "Requirement already satisfied: certifi>=2017.4.17 in /usr/local/lib/python3.11/dist-packages (from requests<3,>=2.27->streamlit) (2025.1.31)\n",
            "Requirement already satisfied: markdown-it-py>=2.2.0 in /usr/local/lib/python3.11/dist-packages (from rich<14,>=10.14.0->streamlit) (3.0.0)\n",
            "Requirement already satisfied: pygments<3.0.0,>=2.13.0 in /usr/local/lib/python3.11/dist-packages (from rich<14,>=10.14.0->streamlit) (2.18.0)\n",
            "Requirement already satisfied: markdown>=2.6.8 in /usr/local/lib/python3.11/dist-packages (from tensorboard<2.19,>=2.18->tensorflow) (3.7)\n",
            "Requirement already satisfied: tensorboard-data-server<0.8.0,>=0.7.0 in /usr/local/lib/python3.11/dist-packages (from tensorboard<2.19,>=2.18->tensorflow) (0.7.2)\n",
            "Requirement already satisfied: werkzeug>=1.0.1 in /usr/local/lib/python3.11/dist-packages (from tensorboard<2.19,>=2.18->tensorflow) (3.1.3)\n",
            "Requirement already satisfied: smmap<6,>=3.0.1 in /usr/local/lib/python3.11/dist-packages (from gitdb<5,>=4.0.1->gitpython!=3.1.19,<4,>=3.0.7->streamlit) (5.0.2)\n",
            "Requirement already satisfied: MarkupSafe>=2.0 in /usr/local/lib/python3.11/dist-packages (from jinja2->altair<6,>=4.0->streamlit) (3.0.2)\n",
            "Requirement already satisfied: attrs>=22.2.0 in /usr/local/lib/python3.11/dist-packages (from jsonschema>=3.0->altair<6,>=4.0->streamlit) (23.2.0)\n",
            "Requirement already satisfied: jsonschema-specifications>=2023.03.6 in /usr/local/lib/python3.11/dist-packages (from jsonschema>=3.0->altair<6,>=4.0->streamlit) (2024.10.1)\n",
            "Requirement already satisfied: referencing>=0.28.4 in /usr/local/lib/python3.11/dist-packages (from jsonschema>=3.0->altair<6,>=4.0->streamlit) (0.36.2)\n",
            "Requirement already satisfied: rpds-py>=0.7.1 in /usr/local/lib/python3.11/dist-packages (from jsonschema>=3.0->altair<6,>=4.0->streamlit) (0.22.3)\n",
            "Requirement already satisfied: mdurl~=0.1 in /usr/local/lib/python3.11/dist-packages (from markdown-it-py>=2.2.0->rich<14,>=10.14.0->streamlit) (0.1.2)\n",
            "Downloading streamlit-1.42.1-py2.py3-none-any.whl (9.6 MB)\n",
            "\u001b[2K   \u001b[90m━━━━━━━━━━━━━━━━━━━━━━━━━━━━━━━━━━━━━━━━\u001b[0m \u001b[32m9.6/9.6 MB\u001b[0m \u001b[31m60.2 MB/s\u001b[0m eta \u001b[36m0:00:00\u001b[0m\n",
            "\u001b[?25hDownloading pydeck-0.9.1-py2.py3-none-any.whl (6.9 MB)\n",
            "\u001b[2K   \u001b[90m━━━━━━━━━━━━━━━━━━━━━━━━━━━━━━━━━━━━━━━━\u001b[0m \u001b[32m6.9/6.9 MB\u001b[0m \u001b[31m41.1 MB/s\u001b[0m eta \u001b[36m0:00:00\u001b[0m\n",
            "\u001b[?25hDownloading watchdog-6.0.0-py3-none-manylinux2014_x86_64.whl (79 kB)\n",
            "\u001b[2K   \u001b[90m━━━━━━━━━━━━━━━━━━━━━━━━━━━━━━━━━━━━━━━━\u001b[0m \u001b[32m79.1/79.1 kB\u001b[0m \u001b[31m6.3 MB/s\u001b[0m eta \u001b[36m0:00:00\u001b[0m\n",
            "\u001b[?25hInstalling collected packages: watchdog, pydeck, streamlit\n",
            "Successfully installed pydeck-0.9.1 streamlit-1.42.1 watchdog-6.0.0\n"
          ]
        }
      ]
    },
    {
      "cell_type": "code",
      "source": [
        "import tensorflow as tf\n",
        "\n",
        "# Load the trained model\n",
        "model = tf.keras.models.load_model(\"diabetic_retinopathy_model.keras\")"
      ],
      "metadata": {
        "colab": {
          "base_uri": "https://localhost:8080/"
        },
        "id": "GPXzKlELW9ra",
        "outputId": "e95e7c05-f893-4355-cf88-dfd1b342a8b5"
      },
      "execution_count": 35,
      "outputs": [
        {
          "output_type": "stream",
          "name": "stderr",
          "text": [
            "/usr/local/lib/python3.11/dist-packages/keras/src/saving/saving_lib.py:757: UserWarning: Skipping variable loading for optimizer 'adam', because it has 10 variables whereas the saved optimizer has 2 variables. \n",
            "  saveable.load_own_variables(weights_store.get(inner_path))\n"
          ]
        }
      ]
    },
    {
      "cell_type": "code",
      "source": [
        "import streamlit as st\n",
        "import tensorflow as tf\n",
        "import numpy as np\n",
        "from PIL import Image\n",
        "\n",
        "# Load the trained model\n",
        "model = tf.keras.models.load_model(\"diabetic_retinopathy_model.keras\")\n",
        "\n",
        "# Define the function to preprocess the image\n",
        "def preprocess_image(image):\n",
        "    image = image.resize((224, 224))  # Resize image\n",
        "    image = np.array(image) / 255.0  # Normalize pixel values\n",
        "    image = np.expand_dims(image, axis=0)  # Add batch dimension\n",
        "    return image\n",
        "\n",
        "# Streamlit UI\n",
        "st.title(\"Diabetic Retinopathy Detection\")\n",
        "st.write(\"Upload a retinal image to classify the severity of diabetic retinopathy.\")\n",
        "\n",
        "# Upload Image\n",
        "uploaded_file = st.file_uploader(\"Upload an image...\", type=[\"jpg\", \"png\", \"jpeg\"])\n",
        "\n",
        "if uploaded_file is not None:\n",
        "    # Display uploaded image\n",
        "    image = Image.open(uploaded_file)\n",
        "    st.image(image, caption=\"Uploaded Image\", use_column_width=True)\n",
        "\n",
        "    # Preprocess & Predict\n",
        "    processed_image = preprocess_image(image)\n",
        "    prediction = model.predict(processed_image)\n",
        "    predicted_class = np.argmax(prediction)\n",
        "\n",
        "    # Define class labels\n",
        "    class_labels = [\"No DR\", \"Mild\", \"Moderate\", \"Severe\", \"Proliferative DR\"]\n",
        "\n",
        "    # Show result\n",
        "    st.write(f\"### Prediction: {class_labels[predicted_class]}\")"
      ],
      "metadata": {
        "colab": {
          "base_uri": "https://localhost:8080/"
        },
        "id": "xty3bYehW9pJ",
        "outputId": "006bc636-89e9-4790-e76c-992db2d3599b"
      },
      "execution_count": 37,
      "outputs": [
        {
          "output_type": "stream",
          "name": "stderr",
          "text": [
            "2025-02-18 04:44:43.151 WARNING streamlit.runtime.scriptrunner_utils.script_run_context: Thread 'MainThread': missing ScriptRunContext! This warning can be ignored when running in bare mode.\n",
            "2025-02-18 04:44:44.012 \n",
            "  \u001b[33m\u001b[1mWarning:\u001b[0m to view this Streamlit app on a browser, run it with the following\n",
            "  command:\n",
            "\n",
            "    streamlit run /usr/local/lib/python3.11/dist-packages/colab_kernel_launcher.py [ARGUMENTS]\n",
            "2025-02-18 04:44:44.020 Thread 'MainThread': missing ScriptRunContext! This warning can be ignored when running in bare mode.\n",
            "2025-02-18 04:44:44.024 Thread 'MainThread': missing ScriptRunContext! This warning can be ignored when running in bare mode.\n",
            "2025-02-18 04:44:44.043 Thread 'MainThread': missing ScriptRunContext! This warning can be ignored when running in bare mode.\n",
            "2025-02-18 04:44:44.046 Thread 'MainThread': missing ScriptRunContext! This warning can be ignored when running in bare mode.\n",
            "2025-02-18 04:44:44.049 Thread 'MainThread': missing ScriptRunContext! This warning can be ignored when running in bare mode.\n",
            "2025-02-18 04:44:44.052 Thread 'MainThread': missing ScriptRunContext! This warning can be ignored when running in bare mode.\n",
            "2025-02-18 04:44:44.053 Thread 'MainThread': missing ScriptRunContext! This warning can be ignored when running in bare mode.\n",
            "2025-02-18 04:44:44.055 Thread 'MainThread': missing ScriptRunContext! This warning can be ignored when running in bare mode.\n",
            "2025-02-18 04:44:44.067 Thread 'MainThread': missing ScriptRunContext! This warning can be ignored when running in bare mode.\n",
            "2025-02-18 04:44:44.074 Thread 'MainThread': missing ScriptRunContext! This warning can be ignored when running in bare mode.\n"
          ]
        }
      ]
    },
    {
      "cell_type": "code",
      "source": [],
      "metadata": {
        "id": "nnnhjczRW9nQ"
      },
      "execution_count": null,
      "outputs": []
    }
  ],
  "metadata": {
    "colab": {
      "provenance": [],
      "authorship_tag": "ABX9TyOZgiTv4w6Pg1DpTP/dXpgw",
      "include_colab_link": true
    },
    "kernelspec": {
      "display_name": "Python 3",
      "name": "python3"
    },
    "language_info": {
      "name": "python"
    }
  },
  "nbformat": 4,
  "nbformat_minor": 0
}